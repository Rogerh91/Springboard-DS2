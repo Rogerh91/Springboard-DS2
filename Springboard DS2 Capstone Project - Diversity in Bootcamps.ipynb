{
 "cells": [
  {
   "cell_type": "code",
   "execution_count": 1,
   "metadata": {
    "collapsed": true
   },
   "outputs": [],
   "source": [
    "#dataset I need: first names of all bootcamp graduates/attendees (manually/scraping) - Linkedin\n",
    "#treatment I need: classification based on first names into male/female (Naive Bayes with dictionaries of most common names?)\n",
    "\n",
    "#look at word stems\n",
    "#how many features \n",
    "#Facebook API is pretty limited--first names and genders from public profiles from Facebook\n",
    "#Find a Wikipedia project containing all the articles: organize in a taxinomy: gender/first name with labels, look into XML dumps\n",
    "#open source dictionary\n",
    "\n",
    "#two big challenges\n",
    "#Wrangling together as many as name/gender matches to create a classifier\n",
    "#Wrangling together first names of bootcamp graduates\n",
    "\n",
    "#http://stackoverflow.com/questions/33440939/cant-pip-install-packages-in-anaconda\n",
    "#https://en.wikipedia.org/wiki/Category:Feminine_given_names"
   ]
  },
  {
   "cell_type": "markdown",
   "metadata": {},
   "source": [
    "# Importing Data and Prerequisite Libraries "
   ]
  },
  {
   "cell_type": "code",
   "execution_count": 232,
   "metadata": {
    "collapsed": false
   },
   "outputs": [
    {
     "name": "stderr",
     "output_type": "stream",
     "text": [
      "/Users/rogerhuang/downloads/ENTER/lib/python3.5/site-packages/matplotlib/__init__.py:1357: UserWarning:  This call to matplotlib.use() has no effect\n",
      "because the backend has already been chosen;\n",
      "matplotlib.use() must be called *before* pylab, matplotlib.pyplot,\n",
      "or matplotlib.backends is imported for the first time.\n",
      "\n",
      "  warnings.warn(_use_error_msg)\n"
     ]
    }
   ],
   "source": [
    "import pandas as pd\n",
    "import numpy as np\n",
    "from sklearn.naive_bayes import MultinomialNB\n",
    "import requests\n",
    "from bs4 import BeautifulSoup\n",
    "import matplotlib as mlp\n",
    "mlp.use(\"TKAgg\")\n",
    "%matplotlib inline\n",
    "import matplotlib.pyplot as plt\n",
    "import seaborn as sns\n",
    "mlp.rcParams.update({'font.family': \"Open Sans\", 'font.size' : 16})"
   ]
  },
  {
   "cell_type": "code",
   "execution_count": 3,
   "metadata": {
    "collapsed": false
   },
   "outputs": [
    {
     "data": {
      "text/html": [
       "<div>\n",
       "<table border=\"1\" class=\"dataframe\">\n",
       "  <thead>\n",
       "    <tr style=\"text-align: right;\">\n",
       "      <th></th>\n",
       "      <th>Id</th>\n",
       "      <th>Name</th>\n",
       "      <th>Year</th>\n",
       "      <th>Gender</th>\n",
       "      <th>Count</th>\n",
       "    </tr>\n",
       "  </thead>\n",
       "  <tbody>\n",
       "    <tr>\n",
       "      <th>0</th>\n",
       "      <td>1</td>\n",
       "      <td>Mary</td>\n",
       "      <td>1880</td>\n",
       "      <td>F</td>\n",
       "      <td>7065</td>\n",
       "    </tr>\n",
       "    <tr>\n",
       "      <th>1</th>\n",
       "      <td>2</td>\n",
       "      <td>Anna</td>\n",
       "      <td>1880</td>\n",
       "      <td>F</td>\n",
       "      <td>2604</td>\n",
       "    </tr>\n",
       "    <tr>\n",
       "      <th>2</th>\n",
       "      <td>3</td>\n",
       "      <td>Emma</td>\n",
       "      <td>1880</td>\n",
       "      <td>F</td>\n",
       "      <td>2003</td>\n",
       "    </tr>\n",
       "    <tr>\n",
       "      <th>3</th>\n",
       "      <td>4</td>\n",
       "      <td>Elizabeth</td>\n",
       "      <td>1880</td>\n",
       "      <td>F</td>\n",
       "      <td>1939</td>\n",
       "    </tr>\n",
       "    <tr>\n",
       "      <th>4</th>\n",
       "      <td>5</td>\n",
       "      <td>Minnie</td>\n",
       "      <td>1880</td>\n",
       "      <td>F</td>\n",
       "      <td>1746</td>\n",
       "    </tr>\n",
       "    <tr>\n",
       "      <th>5</th>\n",
       "      <td>6</td>\n",
       "      <td>Margaret</td>\n",
       "      <td>1880</td>\n",
       "      <td>F</td>\n",
       "      <td>1578</td>\n",
       "    </tr>\n",
       "    <tr>\n",
       "      <th>6</th>\n",
       "      <td>7</td>\n",
       "      <td>Ida</td>\n",
       "      <td>1880</td>\n",
       "      <td>F</td>\n",
       "      <td>1472</td>\n",
       "    </tr>\n",
       "    <tr>\n",
       "      <th>7</th>\n",
       "      <td>8</td>\n",
       "      <td>Alice</td>\n",
       "      <td>1880</td>\n",
       "      <td>F</td>\n",
       "      <td>1414</td>\n",
       "    </tr>\n",
       "    <tr>\n",
       "      <th>8</th>\n",
       "      <td>9</td>\n",
       "      <td>Bertha</td>\n",
       "      <td>1880</td>\n",
       "      <td>F</td>\n",
       "      <td>1320</td>\n",
       "    </tr>\n",
       "    <tr>\n",
       "      <th>9</th>\n",
       "      <td>10</td>\n",
       "      <td>Sarah</td>\n",
       "      <td>1880</td>\n",
       "      <td>F</td>\n",
       "      <td>1288</td>\n",
       "    </tr>\n",
       "    <tr>\n",
       "      <th>10</th>\n",
       "      <td>11</td>\n",
       "      <td>Annie</td>\n",
       "      <td>1880</td>\n",
       "      <td>F</td>\n",
       "      <td>1258</td>\n",
       "    </tr>\n",
       "    <tr>\n",
       "      <th>11</th>\n",
       "      <td>12</td>\n",
       "      <td>Clara</td>\n",
       "      <td>1880</td>\n",
       "      <td>F</td>\n",
       "      <td>1226</td>\n",
       "    </tr>\n",
       "    <tr>\n",
       "      <th>12</th>\n",
       "      <td>13</td>\n",
       "      <td>Ella</td>\n",
       "      <td>1880</td>\n",
       "      <td>F</td>\n",
       "      <td>1156</td>\n",
       "    </tr>\n",
       "    <tr>\n",
       "      <th>13</th>\n",
       "      <td>14</td>\n",
       "      <td>Florence</td>\n",
       "      <td>1880</td>\n",
       "      <td>F</td>\n",
       "      <td>1063</td>\n",
       "    </tr>\n",
       "    <tr>\n",
       "      <th>14</th>\n",
       "      <td>15</td>\n",
       "      <td>Cora</td>\n",
       "      <td>1880</td>\n",
       "      <td>F</td>\n",
       "      <td>1045</td>\n",
       "    </tr>\n",
       "    <tr>\n",
       "      <th>15</th>\n",
       "      <td>16</td>\n",
       "      <td>Martha</td>\n",
       "      <td>1880</td>\n",
       "      <td>F</td>\n",
       "      <td>1040</td>\n",
       "    </tr>\n",
       "    <tr>\n",
       "      <th>16</th>\n",
       "      <td>17</td>\n",
       "      <td>Laura</td>\n",
       "      <td>1880</td>\n",
       "      <td>F</td>\n",
       "      <td>1012</td>\n",
       "    </tr>\n",
       "    <tr>\n",
       "      <th>17</th>\n",
       "      <td>18</td>\n",
       "      <td>Nellie</td>\n",
       "      <td>1880</td>\n",
       "      <td>F</td>\n",
       "      <td>995</td>\n",
       "    </tr>\n",
       "    <tr>\n",
       "      <th>18</th>\n",
       "      <td>19</td>\n",
       "      <td>Grace</td>\n",
       "      <td>1880</td>\n",
       "      <td>F</td>\n",
       "      <td>982</td>\n",
       "    </tr>\n",
       "    <tr>\n",
       "      <th>19</th>\n",
       "      <td>20</td>\n",
       "      <td>Carrie</td>\n",
       "      <td>1880</td>\n",
       "      <td>F</td>\n",
       "      <td>949</td>\n",
       "    </tr>\n",
       "    <tr>\n",
       "      <th>20</th>\n",
       "      <td>21</td>\n",
       "      <td>Maude</td>\n",
       "      <td>1880</td>\n",
       "      <td>F</td>\n",
       "      <td>858</td>\n",
       "    </tr>\n",
       "    <tr>\n",
       "      <th>21</th>\n",
       "      <td>22</td>\n",
       "      <td>Mabel</td>\n",
       "      <td>1880</td>\n",
       "      <td>F</td>\n",
       "      <td>808</td>\n",
       "    </tr>\n",
       "    <tr>\n",
       "      <th>22</th>\n",
       "      <td>23</td>\n",
       "      <td>Bessie</td>\n",
       "      <td>1880</td>\n",
       "      <td>F</td>\n",
       "      <td>796</td>\n",
       "    </tr>\n",
       "    <tr>\n",
       "      <th>23</th>\n",
       "      <td>24</td>\n",
       "      <td>Jennie</td>\n",
       "      <td>1880</td>\n",
       "      <td>F</td>\n",
       "      <td>793</td>\n",
       "    </tr>\n",
       "    <tr>\n",
       "      <th>24</th>\n",
       "      <td>25</td>\n",
       "      <td>Gertrude</td>\n",
       "      <td>1880</td>\n",
       "      <td>F</td>\n",
       "      <td>787</td>\n",
       "    </tr>\n",
       "    <tr>\n",
       "      <th>25</th>\n",
       "      <td>26</td>\n",
       "      <td>Julia</td>\n",
       "      <td>1880</td>\n",
       "      <td>F</td>\n",
       "      <td>783</td>\n",
       "    </tr>\n",
       "    <tr>\n",
       "      <th>26</th>\n",
       "      <td>27</td>\n",
       "      <td>Hattie</td>\n",
       "      <td>1880</td>\n",
       "      <td>F</td>\n",
       "      <td>769</td>\n",
       "    </tr>\n",
       "    <tr>\n",
       "      <th>27</th>\n",
       "      <td>28</td>\n",
       "      <td>Edith</td>\n",
       "      <td>1880</td>\n",
       "      <td>F</td>\n",
       "      <td>768</td>\n",
       "    </tr>\n",
       "    <tr>\n",
       "      <th>28</th>\n",
       "      <td>29</td>\n",
       "      <td>Mattie</td>\n",
       "      <td>1880</td>\n",
       "      <td>F</td>\n",
       "      <td>704</td>\n",
       "    </tr>\n",
       "    <tr>\n",
       "      <th>29</th>\n",
       "      <td>30</td>\n",
       "      <td>Rose</td>\n",
       "      <td>1880</td>\n",
       "      <td>F</td>\n",
       "      <td>700</td>\n",
       "    </tr>\n",
       "    <tr>\n",
       "      <th>...</th>\n",
       "      <td>...</td>\n",
       "      <td>...</td>\n",
       "      <td>...</td>\n",
       "      <td>...</td>\n",
       "      <td>...</td>\n",
       "    </tr>\n",
       "    <tr>\n",
       "      <th>1825403</th>\n",
       "      <td>1825404</td>\n",
       "      <td>Zedrick</td>\n",
       "      <td>2014</td>\n",
       "      <td>M</td>\n",
       "      <td>5</td>\n",
       "    </tr>\n",
       "    <tr>\n",
       "      <th>1825404</th>\n",
       "      <td>1825405</td>\n",
       "      <td>Zeid</td>\n",
       "      <td>2014</td>\n",
       "      <td>M</td>\n",
       "      <td>5</td>\n",
       "    </tr>\n",
       "    <tr>\n",
       "      <th>1825405</th>\n",
       "      <td>1825406</td>\n",
       "      <td>Zeidan</td>\n",
       "      <td>2014</td>\n",
       "      <td>M</td>\n",
       "      <td>5</td>\n",
       "    </tr>\n",
       "    <tr>\n",
       "      <th>1825406</th>\n",
       "      <td>1825407</td>\n",
       "      <td>Zekeriah</td>\n",
       "      <td>2014</td>\n",
       "      <td>M</td>\n",
       "      <td>5</td>\n",
       "    </tr>\n",
       "    <tr>\n",
       "      <th>1825407</th>\n",
       "      <td>1825408</td>\n",
       "      <td>Zenas</td>\n",
       "      <td>2014</td>\n",
       "      <td>M</td>\n",
       "      <td>5</td>\n",
       "    </tr>\n",
       "    <tr>\n",
       "      <th>1825408</th>\n",
       "      <td>1825409</td>\n",
       "      <td>Zephen</td>\n",
       "      <td>2014</td>\n",
       "      <td>M</td>\n",
       "      <td>5</td>\n",
       "    </tr>\n",
       "    <tr>\n",
       "      <th>1825409</th>\n",
       "      <td>1825410</td>\n",
       "      <td>Zerick</td>\n",
       "      <td>2014</td>\n",
       "      <td>M</td>\n",
       "      <td>5</td>\n",
       "    </tr>\n",
       "    <tr>\n",
       "      <th>1825410</th>\n",
       "      <td>1825411</td>\n",
       "      <td>Zhaiden</td>\n",
       "      <td>2014</td>\n",
       "      <td>M</td>\n",
       "      <td>5</td>\n",
       "    </tr>\n",
       "    <tr>\n",
       "      <th>1825411</th>\n",
       "      <td>1825412</td>\n",
       "      <td>Zhalen</td>\n",
       "      <td>2014</td>\n",
       "      <td>M</td>\n",
       "      <td>5</td>\n",
       "    </tr>\n",
       "    <tr>\n",
       "      <th>1825412</th>\n",
       "      <td>1825413</td>\n",
       "      <td>Zhayden</td>\n",
       "      <td>2014</td>\n",
       "      <td>M</td>\n",
       "      <td>5</td>\n",
       "    </tr>\n",
       "    <tr>\n",
       "      <th>1825413</th>\n",
       "      <td>1825414</td>\n",
       "      <td>Ziar</td>\n",
       "      <td>2014</td>\n",
       "      <td>M</td>\n",
       "      <td>5</td>\n",
       "    </tr>\n",
       "    <tr>\n",
       "      <th>1825414</th>\n",
       "      <td>1825415</td>\n",
       "      <td>Zichen</td>\n",
       "      <td>2014</td>\n",
       "      <td>M</td>\n",
       "      <td>5</td>\n",
       "    </tr>\n",
       "    <tr>\n",
       "      <th>1825415</th>\n",
       "      <td>1825416</td>\n",
       "      <td>Ziden</td>\n",
       "      <td>2014</td>\n",
       "      <td>M</td>\n",
       "      <td>5</td>\n",
       "    </tr>\n",
       "    <tr>\n",
       "      <th>1825416</th>\n",
       "      <td>1825417</td>\n",
       "      <td>Zierre</td>\n",
       "      <td>2014</td>\n",
       "      <td>M</td>\n",
       "      <td>5</td>\n",
       "    </tr>\n",
       "    <tr>\n",
       "      <th>1825417</th>\n",
       "      <td>1825418</td>\n",
       "      <td>Ziion</td>\n",
       "      <td>2014</td>\n",
       "      <td>M</td>\n",
       "      <td>5</td>\n",
       "    </tr>\n",
       "    <tr>\n",
       "      <th>1825418</th>\n",
       "      <td>1825419</td>\n",
       "      <td>Zijun</td>\n",
       "      <td>2014</td>\n",
       "      <td>M</td>\n",
       "      <td>5</td>\n",
       "    </tr>\n",
       "    <tr>\n",
       "      <th>1825419</th>\n",
       "      <td>1825420</td>\n",
       "      <td>Zilas</td>\n",
       "      <td>2014</td>\n",
       "      <td>M</td>\n",
       "      <td>5</td>\n",
       "    </tr>\n",
       "    <tr>\n",
       "      <th>1825420</th>\n",
       "      <td>1825421</td>\n",
       "      <td>Zirui</td>\n",
       "      <td>2014</td>\n",
       "      <td>M</td>\n",
       "      <td>5</td>\n",
       "    </tr>\n",
       "    <tr>\n",
       "      <th>1825421</th>\n",
       "      <td>1825422</td>\n",
       "      <td>Zivon</td>\n",
       "      <td>2014</td>\n",
       "      <td>M</td>\n",
       "      <td>5</td>\n",
       "    </tr>\n",
       "    <tr>\n",
       "      <th>1825422</th>\n",
       "      <td>1825423</td>\n",
       "      <td>Ziyah</td>\n",
       "      <td>2014</td>\n",
       "      <td>M</td>\n",
       "      <td>5</td>\n",
       "    </tr>\n",
       "    <tr>\n",
       "      <th>1825423</th>\n",
       "      <td>1825424</td>\n",
       "      <td>Ziyang</td>\n",
       "      <td>2014</td>\n",
       "      <td>M</td>\n",
       "      <td>5</td>\n",
       "    </tr>\n",
       "    <tr>\n",
       "      <th>1825424</th>\n",
       "      <td>1825425</td>\n",
       "      <td>Zmarion</td>\n",
       "      <td>2014</td>\n",
       "      <td>M</td>\n",
       "      <td>5</td>\n",
       "    </tr>\n",
       "    <tr>\n",
       "      <th>1825425</th>\n",
       "      <td>1825426</td>\n",
       "      <td>Zo</td>\n",
       "      <td>2014</td>\n",
       "      <td>M</td>\n",
       "      <td>5</td>\n",
       "    </tr>\n",
       "    <tr>\n",
       "      <th>1825426</th>\n",
       "      <td>1825427</td>\n",
       "      <td>Zyeir</td>\n",
       "      <td>2014</td>\n",
       "      <td>M</td>\n",
       "      <td>5</td>\n",
       "    </tr>\n",
       "    <tr>\n",
       "      <th>1825427</th>\n",
       "      <td>1825428</td>\n",
       "      <td>Zyel</td>\n",
       "      <td>2014</td>\n",
       "      <td>M</td>\n",
       "      <td>5</td>\n",
       "    </tr>\n",
       "    <tr>\n",
       "      <th>1825428</th>\n",
       "      <td>1825429</td>\n",
       "      <td>Zykeem</td>\n",
       "      <td>2014</td>\n",
       "      <td>M</td>\n",
       "      <td>5</td>\n",
       "    </tr>\n",
       "    <tr>\n",
       "      <th>1825429</th>\n",
       "      <td>1825430</td>\n",
       "      <td>Zymeer</td>\n",
       "      <td>2014</td>\n",
       "      <td>M</td>\n",
       "      <td>5</td>\n",
       "    </tr>\n",
       "    <tr>\n",
       "      <th>1825430</th>\n",
       "      <td>1825431</td>\n",
       "      <td>Zymiere</td>\n",
       "      <td>2014</td>\n",
       "      <td>M</td>\n",
       "      <td>5</td>\n",
       "    </tr>\n",
       "    <tr>\n",
       "      <th>1825431</th>\n",
       "      <td>1825432</td>\n",
       "      <td>Zyran</td>\n",
       "      <td>2014</td>\n",
       "      <td>M</td>\n",
       "      <td>5</td>\n",
       "    </tr>\n",
       "    <tr>\n",
       "      <th>1825432</th>\n",
       "      <td>1825433</td>\n",
       "      <td>Zyrin</td>\n",
       "      <td>2014</td>\n",
       "      <td>M</td>\n",
       "      <td>5</td>\n",
       "    </tr>\n",
       "  </tbody>\n",
       "</table>\n",
       "<p>1825433 rows × 5 columns</p>\n",
       "</div>"
      ],
      "text/plain": [
       "              Id       Name  Year Gender  Count\n",
       "0              1       Mary  1880      F   7065\n",
       "1              2       Anna  1880      F   2604\n",
       "2              3       Emma  1880      F   2003\n",
       "3              4  Elizabeth  1880      F   1939\n",
       "4              5     Minnie  1880      F   1746\n",
       "5              6   Margaret  1880      F   1578\n",
       "6              7        Ida  1880      F   1472\n",
       "7              8      Alice  1880      F   1414\n",
       "8              9     Bertha  1880      F   1320\n",
       "9             10      Sarah  1880      F   1288\n",
       "10            11      Annie  1880      F   1258\n",
       "11            12      Clara  1880      F   1226\n",
       "12            13       Ella  1880      F   1156\n",
       "13            14   Florence  1880      F   1063\n",
       "14            15       Cora  1880      F   1045\n",
       "15            16     Martha  1880      F   1040\n",
       "16            17      Laura  1880      F   1012\n",
       "17            18     Nellie  1880      F    995\n",
       "18            19      Grace  1880      F    982\n",
       "19            20     Carrie  1880      F    949\n",
       "20            21      Maude  1880      F    858\n",
       "21            22      Mabel  1880      F    808\n",
       "22            23     Bessie  1880      F    796\n",
       "23            24     Jennie  1880      F    793\n",
       "24            25   Gertrude  1880      F    787\n",
       "25            26      Julia  1880      F    783\n",
       "26            27     Hattie  1880      F    769\n",
       "27            28      Edith  1880      F    768\n",
       "28            29     Mattie  1880      F    704\n",
       "29            30       Rose  1880      F    700\n",
       "...          ...        ...   ...    ...    ...\n",
       "1825403  1825404    Zedrick  2014      M      5\n",
       "1825404  1825405       Zeid  2014      M      5\n",
       "1825405  1825406     Zeidan  2014      M      5\n",
       "1825406  1825407   Zekeriah  2014      M      5\n",
       "1825407  1825408      Zenas  2014      M      5\n",
       "1825408  1825409     Zephen  2014      M      5\n",
       "1825409  1825410     Zerick  2014      M      5\n",
       "1825410  1825411    Zhaiden  2014      M      5\n",
       "1825411  1825412     Zhalen  2014      M      5\n",
       "1825412  1825413    Zhayden  2014      M      5\n",
       "1825413  1825414       Ziar  2014      M      5\n",
       "1825414  1825415     Zichen  2014      M      5\n",
       "1825415  1825416      Ziden  2014      M      5\n",
       "1825416  1825417     Zierre  2014      M      5\n",
       "1825417  1825418      Ziion  2014      M      5\n",
       "1825418  1825419      Zijun  2014      M      5\n",
       "1825419  1825420      Zilas  2014      M      5\n",
       "1825420  1825421      Zirui  2014      M      5\n",
       "1825421  1825422      Zivon  2014      M      5\n",
       "1825422  1825423      Ziyah  2014      M      5\n",
       "1825423  1825424     Ziyang  2014      M      5\n",
       "1825424  1825425    Zmarion  2014      M      5\n",
       "1825425  1825426         Zo  2014      M      5\n",
       "1825426  1825427      Zyeir  2014      M      5\n",
       "1825427  1825428       Zyel  2014      M      5\n",
       "1825428  1825429     Zykeem  2014      M      5\n",
       "1825429  1825430     Zymeer  2014      M      5\n",
       "1825430  1825431    Zymiere  2014      M      5\n",
       "1825431  1825432      Zyran  2014      M      5\n",
       "1825432  1825433      Zyrin  2014      M      5\n",
       "\n",
       "[1825433 rows x 5 columns]"
      ]
     },
     "execution_count": 3,
     "metadata": {},
     "output_type": "execute_result"
    }
   ],
   "source": [
    "#import social security names database from Kaggle in int form\n",
    "names = pd.read_csv(\"NationalNames.csv\", dtype = {'Count': np.int32})\n",
    "names.head(3)\n",
    "names = names.fillna(0)\n",
    "names"
   ]
  },
  {
   "cell_type": "markdown",
   "metadata": {},
   "source": [
    "## Grouping names by gender count"
   ]
  },
  {
   "cell_type": "code",
   "execution_count": 4,
   "metadata": {
    "collapsed": false
   },
   "outputs": [
    {
     "data": {
      "text/plain": [
       "Name       Gender\n",
       "Aaban      M          72\n",
       "Aabha      F          21\n",
       "Aabid      M           5\n",
       "Aabriella  F          10\n",
       "Aadam      M         196\n",
       "Name: Count, dtype: int32"
      ]
     },
     "execution_count": 4,
     "metadata": {},
     "output_type": "execute_result"
    }
   ],
   "source": [
    "namegroup = names.groupby(['Name', 'Gender'])['Count'].sum()\n",
    "namegroup.head()"
   ]
  },
  {
   "cell_type": "markdown",
   "metadata": {},
   "source": [
    "## Training the Naive Bayes model for data not provided"
   ]
  },
  {
   "cell_type": "code",
   "execution_count": 5,
   "metadata": {
    "collapsed": false
   },
   "outputs": [
    {
     "data": {
      "text/html": [
       "<div>\n",
       "<table border=\"1\" class=\"dataframe\">\n",
       "  <thead>\n",
       "    <tr style=\"text-align: right;\">\n",
       "      <th></th>\n",
       "      <th></th>\n",
       "      <th>Count</th>\n",
       "    </tr>\n",
       "    <tr>\n",
       "      <th>Name</th>\n",
       "      <th>Gender</th>\n",
       "      <th></th>\n",
       "    </tr>\n",
       "  </thead>\n",
       "  <tbody>\n",
       "    <tr>\n",
       "      <th>Aaban</th>\n",
       "      <th>M</th>\n",
       "      <td>72</td>\n",
       "    </tr>\n",
       "    <tr>\n",
       "      <th>Aabha</th>\n",
       "      <th>F</th>\n",
       "      <td>21</td>\n",
       "    </tr>\n",
       "    <tr>\n",
       "      <th>Aabid</th>\n",
       "      <th>M</th>\n",
       "      <td>5</td>\n",
       "    </tr>\n",
       "    <tr>\n",
       "      <th>Aabriella</th>\n",
       "      <th>F</th>\n",
       "      <td>10</td>\n",
       "    </tr>\n",
       "    <tr>\n",
       "      <th>Aadam</th>\n",
       "      <th>M</th>\n",
       "      <td>196</td>\n",
       "    </tr>\n",
       "  </tbody>\n",
       "</table>\n",
       "</div>"
      ],
      "text/plain": [
       "                  Count\n",
       "Name      Gender       \n",
       "Aaban     M          72\n",
       "Aabha     F          21\n",
       "Aabid     M           5\n",
       "Aabriella F          10\n",
       "Aadam     M         196"
      ]
     },
     "execution_count": 5,
     "metadata": {},
     "output_type": "execute_result"
    }
   ],
   "source": [
    "namechart = pd.DataFrame(namegroup)\n",
    "namechart.head()"
   ]
  },
  {
   "cell_type": "code",
   "execution_count": 6,
   "metadata": {
    "collapsed": false
   },
   "outputs": [
    {
     "data": {
      "text/html": [
       "<div>\n",
       "<table border=\"1\" class=\"dataframe\">\n",
       "  <thead>\n",
       "    <tr style=\"text-align: right;\">\n",
       "      <th></th>\n",
       "      <th>Name</th>\n",
       "      <th>Gender</th>\n",
       "      <th>Count</th>\n",
       "    </tr>\n",
       "  </thead>\n",
       "  <tbody>\n",
       "    <tr>\n",
       "      <th>0</th>\n",
       "      <td>Aaban</td>\n",
       "      <td>M</td>\n",
       "      <td>72</td>\n",
       "    </tr>\n",
       "    <tr>\n",
       "      <th>1</th>\n",
       "      <td>Aabha</td>\n",
       "      <td>F</td>\n",
       "      <td>21</td>\n",
       "    </tr>\n",
       "    <tr>\n",
       "      <th>2</th>\n",
       "      <td>Aabid</td>\n",
       "      <td>M</td>\n",
       "      <td>5</td>\n",
       "    </tr>\n",
       "  </tbody>\n",
       "</table>\n",
       "</div>"
      ],
      "text/plain": [
       "    Name Gender  Count\n",
       "0  Aaban      M     72\n",
       "1  Aabha      F     21\n",
       "2  Aabid      M      5"
      ]
     },
     "execution_count": 6,
     "metadata": {},
     "output_type": "execute_result"
    }
   ],
   "source": [
    "namechart = names.groupby(['Name', 'Gender'], as_index = False)['Count'].sum()\n",
    "namechart.head(3)"
   ]
  },
  {
   "cell_type": "code",
   "execution_count": 9,
   "metadata": {
    "collapsed": false
   },
   "outputs": [
    {
     "data": {
      "text/html": [
       "<div>\n",
       "<table border=\"1\" class=\"dataframe\">\n",
       "  <thead>\n",
       "    <tr style=\"text-align: right;\">\n",
       "      <th>Gender</th>\n",
       "      <th>F</th>\n",
       "      <th>M</th>\n",
       "      <th>Mpercent</th>\n",
       "      <th>gender</th>\n",
       "    </tr>\n",
       "    <tr>\n",
       "      <th>Name</th>\n",
       "      <th></th>\n",
       "      <th></th>\n",
       "      <th></th>\n",
       "      <th></th>\n",
       "    </tr>\n",
       "  </thead>\n",
       "  <tbody>\n",
       "    <tr>\n",
       "      <th>Aaban</th>\n",
       "      <td>0.0</td>\n",
       "      <td>72.0</td>\n",
       "      <td>1.0</td>\n",
       "      <td>male</td>\n",
       "    </tr>\n",
       "    <tr>\n",
       "      <th>Aabha</th>\n",
       "      <td>21.0</td>\n",
       "      <td>0.0</td>\n",
       "      <td>-1.0</td>\n",
       "      <td>female</td>\n",
       "    </tr>\n",
       "    <tr>\n",
       "      <th>Aabid</th>\n",
       "      <td>0.0</td>\n",
       "      <td>5.0</td>\n",
       "      <td>1.0</td>\n",
       "      <td>male</td>\n",
       "    </tr>\n",
       "    <tr>\n",
       "      <th>Aabriella</th>\n",
       "      <td>10.0</td>\n",
       "      <td>0.0</td>\n",
       "      <td>-1.0</td>\n",
       "      <td>female</td>\n",
       "    </tr>\n",
       "    <tr>\n",
       "      <th>Aadam</th>\n",
       "      <td>0.0</td>\n",
       "      <td>196.0</td>\n",
       "      <td>1.0</td>\n",
       "      <td>male</td>\n",
       "    </tr>\n",
       "  </tbody>\n",
       "</table>\n",
       "</div>"
      ],
      "text/plain": [
       "Gender        F      M  Mpercent  gender\n",
       "Name                                    \n",
       "Aaban       0.0   72.0       1.0    male\n",
       "Aabha      21.0    0.0      -1.0  female\n",
       "Aabid       0.0    5.0       1.0    male\n",
       "Aabriella  10.0    0.0      -1.0  female\n",
       "Aadam       0.0  196.0       1.0    male"
      ]
     },
     "execution_count": 9,
     "metadata": {},
     "output_type": "execute_result"
    }
   ],
   "source": [
    "namechartdiff = namechart.reset_index().pivot('Name', 'Gender', 'Count')\n",
    "namechartdiff = namechartdiff.fillna(0)\n",
    "namechartdiff[\"Mpercent\"] = ((namechartdiff[\"M\"] - namechartdiff[\"F\"])/(namechartdiff[\"M\"] + namechartdiff[\"F\"]))\n",
    "namechartdiff['gender'] = np.where(namechartdiff['Mpercent'] > 0.18, 'male', 'female')\n",
    "namechartdiff.head()"
   ]
  },
  {
   "cell_type": "code",
   "execution_count": 10,
   "metadata": {
    "collapsed": false
   },
   "outputs": [
    {
     "name": "stdout",
     "output_type": "stream",
     "text": [
      "  (0, 0)\t1\n",
      "  (1, 0)\t1\n",
      "  (2, 0)\t1\n",
      "  (3, 0)\t1\n",
      "  (4, 0)\t1\n",
      "  (5, 0)\t1\n",
      "  (6, 0)\t1\n",
      "  (7, 0)\t1\n",
      "  (8, 0)\t1\n",
      "  (9, 0)\t1\n",
      "  (10, 0)\t1\n",
      "  (11, 0)\t1\n",
      "  (12, 0)\t1\n",
      "  (13, 0)\t1\n",
      "  (14, 0)\t1\n",
      "  (15, 0)\t1\n",
      "  (16, 0)\t1\n",
      "  (17, 0)\t1\n",
      "  (18, 0)\t1\n",
      "  (19, 0)\t1\n",
      "  (20, 0)\t1\n",
      "  (21, 0)\t1\n",
      "  (22, 0)\t1\n",
      "  (23, 0)\t1\n",
      "  (24, 0)\t1\n",
      "  :\t:\n",
      "  (64876, 616)\t1\n",
      "  (67519, 616)\t1\n",
      "  (67520, 616)\t1\n",
      "  (67521, 616)\t1\n",
      "  (72287, 616)\t1\n",
      "  (73357, 616)\t1\n",
      "  (73358, 616)\t1\n",
      "  (76118, 616)\t1\n",
      "  (81252, 616)\t1\n",
      "  (81253, 616)\t1\n",
      "  (81254, 616)\t1\n",
      "  (81255, 616)\t1\n",
      "  (81256, 616)\t1\n",
      "  (83577, 616)\t1\n",
      "  (88001, 616)\t1\n",
      "  (88002, 616)\t1\n",
      "  (88270, 616)\t1\n",
      "  (91145, 616)\t1\n",
      "  (91333, 616)\t1\n",
      "  (91334, 616)\t1\n",
      "  (91335, 616)\t1\n",
      "  (91336, 616)\t1\n",
      "  (91604, 616)\t1\n",
      "  (92000, 616)\t1\n",
      "  (93888, 616)\t1\n"
     ]
    }
   ],
   "source": [
    "#NAIVEBAYES MODEL START\n",
    "\n",
    "from sklearn.feature_extraction.text import CountVectorizer \n",
    "\n",
    "char_vectorizer = CountVectorizer(analyzer='char', ngram_range=(2, 2))\n",
    "X = char_vectorizer.fit_transform(namechartdiff.index)\n",
    "X = X.tocsc()\n",
    "y = (namechartdiff.gender == 'male').values.astype(np.int)\n",
    "\n",
    "print(X)"
   ]
  },
  {
   "cell_type": "code",
   "execution_count": 11,
   "metadata": {
    "collapsed": false
   },
   "outputs": [
    {
     "name": "stdout",
     "output_type": "stream",
     "text": [
      "(93889, 617)\n"
     ]
    }
   ],
   "source": [
    "print(X.shape)"
   ]
  },
  {
   "cell_type": "code",
   "execution_count": 12,
   "metadata": {
    "collapsed": true
   },
   "outputs": [],
   "source": [
    "#splitting into test and train sets with 30% holdout set\n",
    "from sklearn.cross_validation import train_test_split\n",
    "itrain, itest = train_test_split(range(namechartdiff.shape[0]), train_size=0.7)\n",
    "mask=np.ones(namechartdiff.shape[0], dtype='int')\n",
    "mask[itrain]=1\n",
    "mask[itest]=0\n",
    "mask = (mask==1)"
   ]
  },
  {
   "cell_type": "code",
   "execution_count": 13,
   "metadata": {
    "collapsed": false
   },
   "outputs": [
    {
     "name": "stdout",
     "output_type": "stream",
     "text": [
      "0.741502084538\n",
      "0.742358078603\n"
     ]
    }
   ],
   "source": [
    "#training first pass on the model (alpha is default)\n",
    "Xtrainthis=X[mask]\n",
    "Ytrainthis=y[mask]\n",
    "Xtestthis=X[~mask]\n",
    "Ytestthis=y[~mask]\n",
    "clf = MultinomialNB(alpha = 1)\n",
    "clf.fit(Xtrainthis, Ytrainthis)\n",
    "training_accuracy = clf.score(Xtrainthis,Ytrainthis)\n",
    "test_accuracy = clf.score(Xtestthis,Ytestthis)\n",
    "        \n",
    "print(training_accuracy)\n",
    "print(test_accuracy)"
   ]
  },
  {
   "cell_type": "code",
   "execution_count": 14,
   "metadata": {
    "collapsed": false
   },
   "outputs": [
    {
     "name": "stdout",
     "output_type": "stream",
     "text": [
      "[[15188  2898]\n",
      " [ 4359  5722]]\n"
     ]
    }
   ],
   "source": [
    "#printing confusion matrix. Low true positive rate (perhaps some error with ambigious names?)\n",
    "from sklearn.metrics import confusion_matrix\n",
    "print (confusion_matrix(Ytestthis, clf.predict(Xtestthis)))"
   ]
  },
  {
   "cell_type": "code",
   "execution_count": 84,
   "metadata": {
    "collapsed": false
   },
   "outputs": [
    {
     "data": {
      "text/plain": [
       "0.70368399245992452"
      ]
     },
     "execution_count": 84,
     "metadata": {},
     "output_type": "execute_result"
    }
   ],
   "source": [
    "#AUC\n",
    "from sklearn import metrics\n",
    "from sklearn.metrics import roc_curve,auc\n",
    "metrics.roc_auc_score(Ytestthis, clf.predict(Xtestthis), average='macro', sample_weight=None)"
   ]
  },
  {
   "cell_type": "code",
   "execution_count": 85,
   "metadata": {
    "collapsed": false
   },
   "outputs": [
    {
     "data": {
      "image/png": "[encoded data removed]",
      "text/plain": [
       "<matplotlib.figure.Figure at 0x11dfa7278>"
      ]
     },
     "metadata": {},
     "output_type": "display_data"
    }
   ],
   "source": [
    "false_positive_rate, true_positive_rate, thresholds = roc_curve(Ytestthis, clf.predict(Xtestthis))\n",
    "roc_auc = auc(false_positive_rate, true_positive_rate)\n",
    "\n",
    "plt.title('Receiver Operating Characteristic')\n",
    "plt.plot(false_positive_rate, true_positive_rate, 'b',\n",
    "label='AUC = %0.2f'% roc_auc)\n",
    "plt.legend(loc='lower right')\n",
    "plt.plot([0,1],[0,1],'r--')\n",
    "plt.xlim([-0.1,1.2])\n",
    "plt.ylim([-0.1,1.2])\n",
    "plt.ylabel('True Positive Rate')\n",
    "plt.xlabel('False Positive Rate')\n",
    "plt.show()"
   ]
  },
  {
   "cell_type": "markdown",
   "metadata": {},
   "source": [
    "## Defining the lookup + Naive Bayes function and initial results"
   ]
  },
  {
   "cell_type": "code",
   "execution_count": 15,
   "metadata": {
    "collapsed": true
   },
   "outputs": [],
   "source": [
    "#this is where the magic happens\n",
    "#remove ambigious names and then train\n",
    "#namechartdiff['gender'] = np.where(namechartdiff['Mpercent'] > 0.18, 'male', 'female')\n",
    "#namechartdiff.head(5)\n",
    "#consider two classifiers\n",
    "#maybe define a threshold with predict.proba\n",
    "#use the same method for the prediction model plot recall/threshold -- ROC curve\n",
    "#ROC curve: http://scikit-learn.org/stable/modules/generated/sklearn.metrics.roc_curve.html\n",
    "#http://scikit-learn.org/stable/auto_examples/model_selection/plot_roc.html\n",
    "#you can set an alpha of 0.1, cross-validation will help with picking alpha\n",
    "#see if SVM/logistic regression do better -- do a bakeoff -- binary outcome\n",
    "#learn what models interact with the data--building the intuition is important\n",
    "#recall presicion/F1 score get that \n",
    "\n",
    "def lookup(x):\n",
    "    str(x)\n",
    "    try:\n",
    "        #0.59 is determined by 99% of values that fall under this range\n",
    "        if namegroup[x][\"M\"]/sum(namegroup[x]) > 0.59:\n",
    "            return (\"It's a male name.\")\n",
    "        elif (namegroup[x][\"M\"]/sum(namegroup[x]) <= 0.59 and namegroup[x][\"M\"]/sum(namegroup[x]) >= 0.41): \n",
    "            return (\"It's an ambiguous name!\")\n",
    "        else:\n",
    "            return (\"It's a female name.\")\n",
    "    #where the naive bayes will work for names outside the table\n",
    "    except KeyError:\n",
    "        new = char_vectorizer.transform([x])\n",
    "        #maybe define a threshold with predict.proba\n",
    "        #use the same method for the prediction model plot recall/threshold -- ROC curve\n",
    "        y_pred = clf.predict(new)\n",
    "        if y_pred == 1:\n",
    "            return (\"It's a male name we had to machine learn!\")\n",
    "        else:\n",
    "            return (\"It's a female name we had to machine learn!\")"
   ]
  },
  {
   "cell_type": "code",
   "execution_count": 16,
   "metadata": {
    "collapsed": false
   },
   "outputs": [
    {
     "data": {
      "text/plain": [
       "\"It's a male name.\""
      ]
     },
     "execution_count": 16,
     "metadata": {},
     "output_type": "execute_result"
    }
   ],
   "source": [
    "lookup(\"Maximo\")"
   ]
  },
  {
   "cell_type": "code",
   "execution_count": 26,
   "metadata": {
    "collapsed": false
   },
   "outputs": [
    {
     "name": "stdout",
     "output_type": "stream",
     "text": [
      "It's a female name we had to machine learn!\n"
     ]
    }
   ],
   "source": [
    "lookup(\"Cortana\")"
   ]
  },
  {
   "cell_type": "code",
   "execution_count": 27,
   "metadata": {
    "collapsed": false
   },
   "outputs": [
    {
     "name": "stdout",
     "output_type": "stream",
     "text": [
      "It's a female name we had to machine learn!\n"
     ]
    }
   ],
   "source": [
    "lookup(\"Siri\")"
   ]
  },
  {
   "cell_type": "code",
   "execution_count": 28,
   "metadata": {
    "collapsed": false
   },
   "outputs": [
    {
     "name": "stdout",
     "output_type": "stream",
     "text": [
      "It's an ambiguous name!\n"
     ]
    }
   ],
   "source": [
    "lookup(\"Aaris\")"
   ]
  },
  {
   "cell_type": "code",
   "execution_count": 29,
   "metadata": {
    "collapsed": false
   },
   "outputs": [
    {
     "name": "stdout",
     "output_type": "stream",
     "text": [
      "It's an ambiguous name!\n"
     ]
    }
   ],
   "source": [
    "lookup(\"Yael\")"
   ]
  },
  {
   "cell_type": "code",
   "execution_count": 30,
   "metadata": {
    "collapsed": false
   },
   "outputs": [
    {
     "name": "stdout",
     "output_type": "stream",
     "text": [
      "It's a male name.\n"
     ]
    }
   ],
   "source": [
    "lookup(\"Rajit\")"
   ]
  },
  {
   "cell_type": "code",
   "execution_count": 20,
   "metadata": {
    "collapsed": false
   },
   "outputs": [],
   "source": [
    "names = [\"Roger\", \"Ali\", \"Steve\", \"Rosa\", \"Cortana\"]\n",
    "for name in names:\n",
    "    lookup(name)"
   ]
  },
  {
   "cell_type": "code",
   "execution_count": 21,
   "metadata": {
    "collapsed": false
   },
   "outputs": [
    {
     "data": {
      "text/plain": [
       "Gender\n",
       "F    308130\n",
       "M    107966\n",
       "Name: Count, dtype: int32"
      ]
     },
     "execution_count": 21,
     "metadata": {},
     "output_type": "execute_result"
    }
   ],
   "source": [
    "namegroup[\"Taylor\"]"
   ]
  },
  {
   "cell_type": "markdown",
   "metadata": {},
   "source": [
    "## Appendix: looking up which names are ambigious"
   ]
  },
  {
   "cell_type": "code",
   "execution_count": 22,
   "metadata": {
    "collapsed": false
   },
   "outputs": [
    {
     "data": {
      "text/html": [
       "<div>\n",
       "<table border=\"1\" class=\"dataframe\">\n",
       "  <thead>\n",
       "    <tr style=\"text-align: right;\">\n",
       "      <th>Gender</th>\n",
       "      <th>F</th>\n",
       "      <th>M</th>\n",
       "      <th>Mpercent</th>\n",
       "      <th>gender</th>\n",
       "      <th>MMF</th>\n",
       "    </tr>\n",
       "    <tr>\n",
       "      <th>Name</th>\n",
       "      <th></th>\n",
       "      <th></th>\n",
       "      <th></th>\n",
       "      <th></th>\n",
       "      <th></th>\n",
       "    </tr>\n",
       "  </thead>\n",
       "  <tbody>\n",
       "    <tr>\n",
       "      <th>Aaban</th>\n",
       "      <td>0.0</td>\n",
       "      <td>72.0</td>\n",
       "      <td>1.0</td>\n",
       "      <td>male</td>\n",
       "      <td>1.0</td>\n",
       "    </tr>\n",
       "    <tr>\n",
       "      <th>Aabha</th>\n",
       "      <td>21.0</td>\n",
       "      <td>0.0</td>\n",
       "      <td>-1.0</td>\n",
       "      <td>female</td>\n",
       "      <td>1.0</td>\n",
       "    </tr>\n",
       "    <tr>\n",
       "      <th>Aabid</th>\n",
       "      <td>0.0</td>\n",
       "      <td>5.0</td>\n",
       "      <td>1.0</td>\n",
       "      <td>male</td>\n",
       "      <td>1.0</td>\n",
       "    </tr>\n",
       "  </tbody>\n",
       "</table>\n",
       "</div>"
      ],
      "text/plain": [
       "Gender     F     M  Mpercent  gender  MMF\n",
       "Name                                     \n",
       "Aaban    0.0  72.0       1.0    male  1.0\n",
       "Aabha   21.0   0.0      -1.0  female  1.0\n",
       "Aabid    0.0   5.0       1.0    male  1.0"
      ]
     },
     "execution_count": 22,
     "metadata": {},
     "output_type": "execute_result"
    }
   ],
   "source": [
    "namechartdiff[\"MMF\"] = abs((namechartdiff[\"M\"] - namechartdiff[\"F\"])/(namechartdiff[\"M\"] + namechartdiff[\"F\"]))\n",
    "namechartdiff.head(3)"
   ]
  },
  {
   "cell_type": "code",
   "execution_count": 23,
   "metadata": {
    "collapsed": false
   },
   "outputs": [
    {
     "data": {
      "text/plain": [
       "0.18518518518518517"
      ]
     },
     "execution_count": 23,
     "metadata": {},
     "output_type": "execute_result"
    }
   ],
   "source": [
    "namechartdiff.MMF.quantile(.01)"
   ]
  },
  {
   "cell_type": "code",
   "execution_count": 24,
   "metadata": {
    "collapsed": false
   },
   "outputs": [
    {
     "data": {
      "text/html": [
       "<div>\n",
       "<table border=\"1\" class=\"dataframe\">\n",
       "  <thead>\n",
       "    <tr style=\"text-align: right;\">\n",
       "      <th>Gender</th>\n",
       "      <th>F</th>\n",
       "      <th>M</th>\n",
       "      <th>Mpercent</th>\n",
       "      <th>gender</th>\n",
       "      <th>MMF</th>\n",
       "    </tr>\n",
       "    <tr>\n",
       "      <th>Name</th>\n",
       "      <th></th>\n",
       "      <th></th>\n",
       "      <th></th>\n",
       "      <th></th>\n",
       "      <th></th>\n",
       "    </tr>\n",
       "  </thead>\n",
       "  <tbody>\n",
       "    <tr>\n",
       "      <th>Aalijah</th>\n",
       "      <td>107.0</td>\n",
       "      <td>155.0</td>\n",
       "      <td>0.183206</td>\n",
       "      <td>male</td>\n",
       "      <td>0.183206</td>\n",
       "    </tr>\n",
       "    <tr>\n",
       "      <th>Aamari</th>\n",
       "      <td>67.0</td>\n",
       "      <td>88.0</td>\n",
       "      <td>0.135484</td>\n",
       "      <td>female</td>\n",
       "      <td>0.135484</td>\n",
       "    </tr>\n",
       "    <tr>\n",
       "      <th>Aaris</th>\n",
       "      <td>28.0</td>\n",
       "      <td>29.0</td>\n",
       "      <td>0.017544</td>\n",
       "      <td>female</td>\n",
       "      <td>0.017544</td>\n",
       "    </tr>\n",
       "    <tr>\n",
       "      <th>Aavyn</th>\n",
       "      <td>5.0</td>\n",
       "      <td>6.0</td>\n",
       "      <td>0.090909</td>\n",
       "      <td>female</td>\n",
       "      <td>0.090909</td>\n",
       "    </tr>\n",
       "    <tr>\n",
       "      <th>Abiyah</th>\n",
       "      <td>5.0</td>\n",
       "      <td>5.0</td>\n",
       "      <td>0.000000</td>\n",
       "      <td>female</td>\n",
       "      <td>0.000000</td>\n",
       "    </tr>\n",
       "    <tr>\n",
       "      <th>Abrar</th>\n",
       "      <td>330.0</td>\n",
       "      <td>296.0</td>\n",
       "      <td>-0.054313</td>\n",
       "      <td>female</td>\n",
       "      <td>0.054313</td>\n",
       "    </tr>\n",
       "    <tr>\n",
       "      <th>Abraxas</th>\n",
       "      <td>5.0</td>\n",
       "      <td>6.0</td>\n",
       "      <td>0.090909</td>\n",
       "      <td>female</td>\n",
       "      <td>0.090909</td>\n",
       "    </tr>\n",
       "    <tr>\n",
       "      <th>Adair</th>\n",
       "      <td>1191.0</td>\n",
       "      <td>1312.0</td>\n",
       "      <td>0.048342</td>\n",
       "      <td>female</td>\n",
       "      <td>0.048342</td>\n",
       "    </tr>\n",
       "    <tr>\n",
       "      <th>Adason</th>\n",
       "      <td>5.0</td>\n",
       "      <td>5.0</td>\n",
       "      <td>0.000000</td>\n",
       "      <td>female</td>\n",
       "      <td>0.000000</td>\n",
       "    </tr>\n",
       "    <tr>\n",
       "      <th>Adel</th>\n",
       "      <td>1258.0</td>\n",
       "      <td>1109.0</td>\n",
       "      <td>-0.062949</td>\n",
       "      <td>female</td>\n",
       "      <td>0.062949</td>\n",
       "    </tr>\n",
       "    <tr>\n",
       "      <th>Adeyinka</th>\n",
       "      <td>5.0</td>\n",
       "      <td>5.0</td>\n",
       "      <td>0.000000</td>\n",
       "      <td>female</td>\n",
       "      <td>0.000000</td>\n",
       "    </tr>\n",
       "    <tr>\n",
       "      <th>Adgie</th>\n",
       "      <td>7.0</td>\n",
       "      <td>5.0</td>\n",
       "      <td>-0.166667</td>\n",
       "      <td>female</td>\n",
       "      <td>0.166667</td>\n",
       "    </tr>\n",
       "    <tr>\n",
       "      <th>Adi</th>\n",
       "      <td>686.0</td>\n",
       "      <td>481.0</td>\n",
       "      <td>-0.175664</td>\n",
       "      <td>female</td>\n",
       "      <td>0.175664</td>\n",
       "    </tr>\n",
       "    <tr>\n",
       "      <th>Adisa</th>\n",
       "      <td>89.0</td>\n",
       "      <td>64.0</td>\n",
       "      <td>-0.163399</td>\n",
       "      <td>female</td>\n",
       "      <td>0.163399</td>\n",
       "    </tr>\n",
       "    <tr>\n",
       "      <th>Aeon</th>\n",
       "      <td>59.0</td>\n",
       "      <td>56.0</td>\n",
       "      <td>-0.026087</td>\n",
       "      <td>female</td>\n",
       "      <td>0.026087</td>\n",
       "    </tr>\n",
       "    <tr>\n",
       "      <th>Agam</th>\n",
       "      <td>76.0</td>\n",
       "      <td>109.0</td>\n",
       "      <td>0.178378</td>\n",
       "      <td>female</td>\n",
       "      <td>0.178378</td>\n",
       "    </tr>\n",
       "    <tr>\n",
       "      <th>Aidynn</th>\n",
       "      <td>64.0</td>\n",
       "      <td>61.0</td>\n",
       "      <td>-0.024000</td>\n",
       "      <td>female</td>\n",
       "      <td>0.024000</td>\n",
       "    </tr>\n",
       "    <tr>\n",
       "      <th>Aijalon</th>\n",
       "      <td>95.0</td>\n",
       "      <td>102.0</td>\n",
       "      <td>0.035533</td>\n",
       "      <td>female</td>\n",
       "      <td>0.035533</td>\n",
       "    </tr>\n",
       "    <tr>\n",
       "      <th>Aimar</th>\n",
       "      <td>114.0</td>\n",
       "      <td>115.0</td>\n",
       "      <td>0.004367</td>\n",
       "      <td>female</td>\n",
       "      <td>0.004367</td>\n",
       "    </tr>\n",
       "    <tr>\n",
       "      <th>Aimen</th>\n",
       "      <td>31.0</td>\n",
       "      <td>26.0</td>\n",
       "      <td>-0.087719</td>\n",
       "      <td>female</td>\n",
       "      <td>0.087719</td>\n",
       "    </tr>\n",
       "    <tr>\n",
       "      <th>Airen</th>\n",
       "      <td>135.0</td>\n",
       "      <td>103.0</td>\n",
       "      <td>-0.134454</td>\n",
       "      <td>female</td>\n",
       "      <td>0.134454</td>\n",
       "    </tr>\n",
       "    <tr>\n",
       "      <th>Ajai</th>\n",
       "      <td>163.0</td>\n",
       "      <td>165.0</td>\n",
       "      <td>0.006098</td>\n",
       "      <td>female</td>\n",
       "      <td>0.006098</td>\n",
       "    </tr>\n",
       "    <tr>\n",
       "      <th>Aki</th>\n",
       "      <td>199.0</td>\n",
       "      <td>243.0</td>\n",
       "      <td>0.099548</td>\n",
       "      <td>female</td>\n",
       "      <td>0.099548</td>\n",
       "    </tr>\n",
       "    <tr>\n",
       "      <th>Alai</th>\n",
       "      <td>5.0</td>\n",
       "      <td>6.0</td>\n",
       "      <td>0.090909</td>\n",
       "      <td>female</td>\n",
       "      <td>0.090909</td>\n",
       "    </tr>\n",
       "    <tr>\n",
       "      <th>Albie</th>\n",
       "      <td>119.0</td>\n",
       "      <td>101.0</td>\n",
       "      <td>-0.081818</td>\n",
       "      <td>female</td>\n",
       "      <td>0.081818</td>\n",
       "    </tr>\n",
       "    <tr>\n",
       "      <th>Alexandr</th>\n",
       "      <td>301.0</td>\n",
       "      <td>385.0</td>\n",
       "      <td>0.122449</td>\n",
       "      <td>female</td>\n",
       "      <td>0.122449</td>\n",
       "    </tr>\n",
       "    <tr>\n",
       "      <th>Alexiel</th>\n",
       "      <td>5.0</td>\n",
       "      <td>5.0</td>\n",
       "      <td>0.000000</td>\n",
       "      <td>female</td>\n",
       "      <td>0.000000</td>\n",
       "    </tr>\n",
       "    <tr>\n",
       "      <th>Alexiz</th>\n",
       "      <td>265.0</td>\n",
       "      <td>249.0</td>\n",
       "      <td>-0.031128</td>\n",
       "      <td>female</td>\n",
       "      <td>0.031128</td>\n",
       "    </tr>\n",
       "    <tr>\n",
       "      <th>Alexy</th>\n",
       "      <td>345.0</td>\n",
       "      <td>284.0</td>\n",
       "      <td>-0.096979</td>\n",
       "      <td>female</td>\n",
       "      <td>0.096979</td>\n",
       "    </tr>\n",
       "    <tr>\n",
       "      <th>Algia</th>\n",
       "      <td>46.0</td>\n",
       "      <td>58.0</td>\n",
       "      <td>0.115385</td>\n",
       "      <td>female</td>\n",
       "      <td>0.115385</td>\n",
       "    </tr>\n",
       "    <tr>\n",
       "      <th>...</th>\n",
       "      <td>...</td>\n",
       "      <td>...</td>\n",
       "      <td>...</td>\n",
       "      <td>...</td>\n",
       "      <td>...</td>\n",
       "    </tr>\n",
       "    <tr>\n",
       "      <th>Yacine</th>\n",
       "      <td>46.0</td>\n",
       "      <td>60.0</td>\n",
       "      <td>0.132075</td>\n",
       "      <td>female</td>\n",
       "      <td>0.132075</td>\n",
       "    </tr>\n",
       "    <tr>\n",
       "      <th>Yael</th>\n",
       "      <td>3044.0</td>\n",
       "      <td>2604.0</td>\n",
       "      <td>-0.077904</td>\n",
       "      <td>female</td>\n",
       "      <td>0.077904</td>\n",
       "    </tr>\n",
       "    <tr>\n",
       "      <th>Yahav</th>\n",
       "      <td>5.0</td>\n",
       "      <td>5.0</td>\n",
       "      <td>0.000000</td>\n",
       "      <td>female</td>\n",
       "      <td>0.000000</td>\n",
       "    </tr>\n",
       "    <tr>\n",
       "      <th>Yandy</th>\n",
       "      <td>11.0</td>\n",
       "      <td>12.0</td>\n",
       "      <td>0.043478</td>\n",
       "      <td>female</td>\n",
       "      <td>0.043478</td>\n",
       "    </tr>\n",
       "    <tr>\n",
       "      <th>Yanick</th>\n",
       "      <td>45.0</td>\n",
       "      <td>50.0</td>\n",
       "      <td>0.052632</td>\n",
       "      <td>female</td>\n",
       "      <td>0.052632</td>\n",
       "    </tr>\n",
       "    <tr>\n",
       "      <th>Yarden</th>\n",
       "      <td>92.0</td>\n",
       "      <td>66.0</td>\n",
       "      <td>-0.164557</td>\n",
       "      <td>female</td>\n",
       "      <td>0.164557</td>\n",
       "    </tr>\n",
       "    <tr>\n",
       "      <th>Yardley</th>\n",
       "      <td>81.0</td>\n",
       "      <td>99.0</td>\n",
       "      <td>0.100000</td>\n",
       "      <td>female</td>\n",
       "      <td>0.100000</td>\n",
       "    </tr>\n",
       "    <tr>\n",
       "      <th>Yarnell</th>\n",
       "      <td>88.0</td>\n",
       "      <td>64.0</td>\n",
       "      <td>-0.157895</td>\n",
       "      <td>female</td>\n",
       "      <td>0.157895</td>\n",
       "    </tr>\n",
       "    <tr>\n",
       "      <th>Yee</th>\n",
       "      <td>201.0</td>\n",
       "      <td>281.0</td>\n",
       "      <td>0.165975</td>\n",
       "      <td>female</td>\n",
       "      <td>0.165975</td>\n",
       "    </tr>\n",
       "    <tr>\n",
       "      <th>Yeshia</th>\n",
       "      <td>5.0</td>\n",
       "      <td>5.0</td>\n",
       "      <td>0.000000</td>\n",
       "      <td>female</td>\n",
       "      <td>0.000000</td>\n",
       "    </tr>\n",
       "    <tr>\n",
       "      <th>Yi</th>\n",
       "      <td>104.0</td>\n",
       "      <td>146.0</td>\n",
       "      <td>0.168000</td>\n",
       "      <td>female</td>\n",
       "      <td>0.168000</td>\n",
       "    </tr>\n",
       "    <tr>\n",
       "      <th>Yinessa</th>\n",
       "      <td>6.0</td>\n",
       "      <td>5.0</td>\n",
       "      <td>-0.090909</td>\n",
       "      <td>female</td>\n",
       "      <td>0.090909</td>\n",
       "    </tr>\n",
       "    <tr>\n",
       "      <th>Ynes</th>\n",
       "      <td>16.0</td>\n",
       "      <td>23.0</td>\n",
       "      <td>0.179487</td>\n",
       "      <td>female</td>\n",
       "      <td>0.179487</td>\n",
       "    </tr>\n",
       "    <tr>\n",
       "      <th>Yoltzin</th>\n",
       "      <td>83.0</td>\n",
       "      <td>87.0</td>\n",
       "      <td>0.023529</td>\n",
       "      <td>female</td>\n",
       "      <td>0.023529</td>\n",
       "    </tr>\n",
       "    <tr>\n",
       "      <th>Yona</th>\n",
       "      <td>202.0</td>\n",
       "      <td>260.0</td>\n",
       "      <td>0.125541</td>\n",
       "      <td>female</td>\n",
       "      <td>0.125541</td>\n",
       "    </tr>\n",
       "    <tr>\n",
       "      <th>Yu</th>\n",
       "      <td>359.0</td>\n",
       "      <td>349.0</td>\n",
       "      <td>-0.014124</td>\n",
       "      <td>female</td>\n",
       "      <td>0.014124</td>\n",
       "    </tr>\n",
       "    <tr>\n",
       "      <th>Yuriah</th>\n",
       "      <td>28.0</td>\n",
       "      <td>27.0</td>\n",
       "      <td>-0.018182</td>\n",
       "      <td>female</td>\n",
       "      <td>0.018182</td>\n",
       "    </tr>\n",
       "    <tr>\n",
       "      <th>Zaelyn</th>\n",
       "      <td>109.0</td>\n",
       "      <td>154.0</td>\n",
       "      <td>0.171103</td>\n",
       "      <td>female</td>\n",
       "      <td>0.171103</td>\n",
       "    </tr>\n",
       "    <tr>\n",
       "      <th>Zaiah</th>\n",
       "      <td>83.0</td>\n",
       "      <td>65.0</td>\n",
       "      <td>-0.121622</td>\n",
       "      <td>female</td>\n",
       "      <td>0.121622</td>\n",
       "    </tr>\n",
       "    <tr>\n",
       "      <th>Zaide</th>\n",
       "      <td>90.0</td>\n",
       "      <td>117.0</td>\n",
       "      <td>0.130435</td>\n",
       "      <td>female</td>\n",
       "      <td>0.130435</td>\n",
       "    </tr>\n",
       "    <tr>\n",
       "      <th>Zannie</th>\n",
       "      <td>140.0</td>\n",
       "      <td>144.0</td>\n",
       "      <td>0.014085</td>\n",
       "      <td>female</td>\n",
       "      <td>0.014085</td>\n",
       "    </tr>\n",
       "    <tr>\n",
       "      <th>Zarin</th>\n",
       "      <td>92.0</td>\n",
       "      <td>105.0</td>\n",
       "      <td>0.065990</td>\n",
       "      <td>female</td>\n",
       "      <td>0.065990</td>\n",
       "    </tr>\n",
       "    <tr>\n",
       "      <th>Zaryn</th>\n",
       "      <td>28.0</td>\n",
       "      <td>22.0</td>\n",
       "      <td>-0.120000</td>\n",
       "      <td>female</td>\n",
       "      <td>0.120000</td>\n",
       "    </tr>\n",
       "    <tr>\n",
       "      <th>Zee</th>\n",
       "      <td>32.0</td>\n",
       "      <td>37.0</td>\n",
       "      <td>0.072464</td>\n",
       "      <td>female</td>\n",
       "      <td>0.072464</td>\n",
       "    </tr>\n",
       "    <tr>\n",
       "      <th>Zi</th>\n",
       "      <td>57.0</td>\n",
       "      <td>48.0</td>\n",
       "      <td>-0.085714</td>\n",
       "      <td>female</td>\n",
       "      <td>0.085714</td>\n",
       "    </tr>\n",
       "    <tr>\n",
       "      <th>Ziel</th>\n",
       "      <td>12.0</td>\n",
       "      <td>13.0</td>\n",
       "      <td>0.040000</td>\n",
       "      <td>female</td>\n",
       "      <td>0.040000</td>\n",
       "    </tr>\n",
       "    <tr>\n",
       "      <th>Zihan</th>\n",
       "      <td>13.0</td>\n",
       "      <td>16.0</td>\n",
       "      <td>0.103448</td>\n",
       "      <td>female</td>\n",
       "      <td>0.103448</td>\n",
       "    </tr>\n",
       "    <tr>\n",
       "      <th>Zixuan</th>\n",
       "      <td>13.0</td>\n",
       "      <td>17.0</td>\n",
       "      <td>0.133333</td>\n",
       "      <td>female</td>\n",
       "      <td>0.133333</td>\n",
       "    </tr>\n",
       "    <tr>\n",
       "      <th>Ziyan</th>\n",
       "      <td>95.0</td>\n",
       "      <td>123.0</td>\n",
       "      <td>0.128440</td>\n",
       "      <td>female</td>\n",
       "      <td>0.128440</td>\n",
       "    </tr>\n",
       "    <tr>\n",
       "      <th>Zyian</th>\n",
       "      <td>49.0</td>\n",
       "      <td>35.0</td>\n",
       "      <td>-0.166667</td>\n",
       "      <td>female</td>\n",
       "      <td>0.166667</td>\n",
       "    </tr>\n",
       "  </tbody>\n",
       "</table>\n",
       "<p>931 rows × 5 columns</p>\n",
       "</div>"
      ],
      "text/plain": [
       "Gender         F       M  Mpercent  gender       MMF\n",
       "Name                                                \n",
       "Aalijah    107.0   155.0  0.183206    male  0.183206\n",
       "Aamari      67.0    88.0  0.135484  female  0.135484\n",
       "Aaris       28.0    29.0  0.017544  female  0.017544\n",
       "Aavyn        5.0     6.0  0.090909  female  0.090909\n",
       "Abiyah       5.0     5.0  0.000000  female  0.000000\n",
       "Abrar      330.0   296.0 -0.054313  female  0.054313\n",
       "Abraxas      5.0     6.0  0.090909  female  0.090909\n",
       "Adair     1191.0  1312.0  0.048342  female  0.048342\n",
       "Adason       5.0     5.0  0.000000  female  0.000000\n",
       "Adel      1258.0  1109.0 -0.062949  female  0.062949\n",
       "Adeyinka     5.0     5.0  0.000000  female  0.000000\n",
       "Adgie        7.0     5.0 -0.166667  female  0.166667\n",
       "Adi        686.0   481.0 -0.175664  female  0.175664\n",
       "Adisa       89.0    64.0 -0.163399  female  0.163399\n",
       "Aeon        59.0    56.0 -0.026087  female  0.026087\n",
       "Agam        76.0   109.0  0.178378  female  0.178378\n",
       "Aidynn      64.0    61.0 -0.024000  female  0.024000\n",
       "Aijalon     95.0   102.0  0.035533  female  0.035533\n",
       "Aimar      114.0   115.0  0.004367  female  0.004367\n",
       "Aimen       31.0    26.0 -0.087719  female  0.087719\n",
       "Airen      135.0   103.0 -0.134454  female  0.134454\n",
       "Ajai       163.0   165.0  0.006098  female  0.006098\n",
       "Aki        199.0   243.0  0.099548  female  0.099548\n",
       "Alai         5.0     6.0  0.090909  female  0.090909\n",
       "Albie      119.0   101.0 -0.081818  female  0.081818\n",
       "Alexandr   301.0   385.0  0.122449  female  0.122449\n",
       "Alexiel      5.0     5.0  0.000000  female  0.000000\n",
       "Alexiz     265.0   249.0 -0.031128  female  0.031128\n",
       "Alexy      345.0   284.0 -0.096979  female  0.096979\n",
       "Algia       46.0    58.0  0.115385  female  0.115385\n",
       "...          ...     ...       ...     ...       ...\n",
       "Yacine      46.0    60.0  0.132075  female  0.132075\n",
       "Yael      3044.0  2604.0 -0.077904  female  0.077904\n",
       "Yahav        5.0     5.0  0.000000  female  0.000000\n",
       "Yandy       11.0    12.0  0.043478  female  0.043478\n",
       "Yanick      45.0    50.0  0.052632  female  0.052632\n",
       "Yarden      92.0    66.0 -0.164557  female  0.164557\n",
       "Yardley     81.0    99.0  0.100000  female  0.100000\n",
       "Yarnell     88.0    64.0 -0.157895  female  0.157895\n",
       "Yee        201.0   281.0  0.165975  female  0.165975\n",
       "Yeshia       5.0     5.0  0.000000  female  0.000000\n",
       "Yi         104.0   146.0  0.168000  female  0.168000\n",
       "Yinessa      6.0     5.0 -0.090909  female  0.090909\n",
       "Ynes        16.0    23.0  0.179487  female  0.179487\n",
       "Yoltzin     83.0    87.0  0.023529  female  0.023529\n",
       "Yona       202.0   260.0  0.125541  female  0.125541\n",
       "Yu         359.0   349.0 -0.014124  female  0.014124\n",
       "Yuriah      28.0    27.0 -0.018182  female  0.018182\n",
       "Zaelyn     109.0   154.0  0.171103  female  0.171103\n",
       "Zaiah       83.0    65.0 -0.121622  female  0.121622\n",
       "Zaide       90.0   117.0  0.130435  female  0.130435\n",
       "Zannie     140.0   144.0  0.014085  female  0.014085\n",
       "Zarin       92.0   105.0  0.065990  female  0.065990\n",
       "Zaryn       28.0    22.0 -0.120000  female  0.120000\n",
       "Zee         32.0    37.0  0.072464  female  0.072464\n",
       "Zi          57.0    48.0 -0.085714  female  0.085714\n",
       "Ziel        12.0    13.0  0.040000  female  0.040000\n",
       "Zihan       13.0    16.0  0.103448  female  0.103448\n",
       "Zixuan      13.0    17.0  0.133333  female  0.133333\n",
       "Ziyan       95.0   123.0  0.128440  female  0.128440\n",
       "Zyian       49.0    35.0 -0.166667  female  0.166667\n",
       "\n",
       "[931 rows x 5 columns]"
      ]
     },
     "execution_count": 24,
     "metadata": {},
     "output_type": "execute_result"
    }
   ],
   "source": [
    "ambiname = namechartdiff[namechartdiff.MMF < namechartdiff.MMF.quantile(.01)]\n",
    "ambiname"
   ]
  },
  {
   "cell_type": "markdown",
   "metadata": {
    "collapsed": true
   },
   "source": [
    "## Importing names from Course Report"
   ]
  },
  {
   "cell_type": "code",
   "execution_count": 63,
   "metadata": {
    "collapsed": false
   },
   "outputs": [],
   "source": [
    "#1 how do I automate this across different pages? Different workshops, different pages\n",
    "#create base string and loop\n",
    "review = requests.get(\"https://www.coursereport.com/schools/galvanize?page=1#/reviews\")\n",
    "r = BeautifulSoup(review.text, \"lxml\")\n",
    "first_name = r.find_all('div', {'class': 'reviewer-details'})"
   ]
  },
  {
   "cell_type": "code",
   "execution_count": 46,
   "metadata": {
    "collapsed": false
   },
   "outputs": [
    {
     "name": "stdout",
     "output_type": "stream",
     "text": [
      "Anonymous\n",
      "kt \n",
      "Anonymous\n",
      "Anonymous\n",
      "Steve \n",
      "Anna VM \n",
      "Jennifer Dunne \n",
      "Josh Cantor \n",
      "Anonymous\n",
      "Gerard Cote \n",
      "Anonymous\n",
      "Anonymous\n",
      "Alex Braun \n",
      "Anonymous\n",
      "Elana Kopelevich \n",
      "Anonymous\n",
      "Anonymous\n",
      "Colin \n",
      "Anonymous\n",
      "Eric Hullander \n",
      "Anonymous\n",
      "Japneet Singh \n",
      "J \n",
      "Anonymous\n",
      "Anonymous\n"
     ]
    }
   ],
   "source": [
    "spans = r.find_all('span', attrs={'class':'reviewer-name'})\n",
    "for span in spans:\n",
    "    print (span.string)"
   ]
  },
  {
   "cell_type": "code",
   "execution_count": 51,
   "metadata": {
    "collapsed": false
   },
   "outputs": [
    {
     "name": "stdout",
     "output_type": "stream",
     "text": [
      "kt \n",
      "Steve \n",
      "Anna VM \n",
      "Jennifer Dunne \n",
      "Josh Cantor \n",
      "Gerard Cote \n",
      "Alex Braun \n",
      "Elana Kopelevich \n",
      "Colin \n",
      "Eric Hullander \n",
      "Japneet Singh \n",
      "J \n"
     ]
    }
   ],
   "source": [
    "cleanspans = []\n",
    "for span in spans:\n",
    "    if span.string != \"Anonymous\":\n",
    "        cleanspans.append(span)\n",
    "        print (span.string)\n"
   ]
  },
  {
   "cell_type": "code",
   "execution_count": 64,
   "metadata": {
    "collapsed": false
   },
   "outputs": [],
   "source": []
  },
  {
   "cell_type": "code",
   "execution_count": 128,
   "metadata": {
    "collapsed": true
   },
   "outputs": [],
   "source": [
    "page_url = 1\n",
    "for i in range(5): # 5 pages of 20 results each\n",
    "    base_url = \"https://www.coursereport.com/schools/galvanize?page=\"   \n",
    "    url = base_url + str(page_url) + \"#/reviews\"\n",
    "    data = get_data(url)\n",
    "    page_url += 1"
   ]
  },
  {
   "cell_type": "code",
   "execution_count": 126,
   "metadata": {
    "collapsed": false
   },
   "outputs": [
    {
     "name": "stdout",
     "output_type": "stream",
     "text": [
      "kt \n"
     ]
    }
   ],
   "source": [
    "print(data)"
   ]
  },
  {
   "cell_type": "code",
   "execution_count": 118,
   "metadata": {
    "collapsed": false
   },
   "outputs": [],
   "source": [
    "base_url = \"https://www.coursereport.com/schools/galvanize?page=\"   \n",
    "url = base_url + str(2) + \"#/reviews\"\n",
    "get_data(url)"
   ]
  },
  {
   "cell_type": "code",
   "execution_count": 120,
   "metadata": {
    "collapsed": true
   },
   "outputs": [],
   "source": [
    "get_data(\"https://www.coursereport.com/schools/galvanize?page=2#/reviews\")"
   ]
  },
  {
   "cell_type": "code",
   "execution_count": 129,
   "metadata": {
    "collapsed": false
   },
   "outputs": [
    {
     "name": "stdout",
     "output_type": "stream",
     "text": [
      "['kt ', 'Steve ', 'Anna VM ', 'Jennifer Dunne ', 'Josh Cantor ', 'Gerard Cote ', 'Alex Braun ', 'Elana Kopelevich ', 'Colin ', 'Eric Hullander ', 'Japneet Singh ', 'J ', 'M ', 'Moses Marsh ', 'Frank ', 'Derik Linch ', 'Tim Hou ', 'Matthew Bird ', 'Anonymous ', 'Robert Hajek ', 'Anonymous ', 'Roberto Ortega ', 'Anonymous ', 'Taylor ', 'Anonymous ', 'Scott Cronin ', 'Anonymous ', 'Anonymous ', 'Jeffrey Roach ', 'Anonymous ', 'Zubair Desai ', 'Lorien S. ', 'Tony Nguyen ', 'Mike ', 'Anonymous ', 'Anonymous ', 'Cameron ', 'Layne ']\n"
     ]
    }
   ],
   "source": [
    "print(cleanspans)"
   ]
  },
  {
   "cell_type": "code",
   "execution_count": 135,
   "metadata": {
    "collapsed": true
   },
   "outputs": [],
   "source": [
    "galvanize = set(cleanspans)"
   ]
  },
  {
   "cell_type": "code",
   "execution_count": 136,
   "metadata": {
    "collapsed": false
   },
   "outputs": [
    {
     "name": "stdout",
     "output_type": "stream",
     "text": [
      "{'Josh Cantor ', 'Layne ', 'Taylor ', 'Jennifer Dunne ', 'Colin ', 'J ', 'Gerard Cote ', 'Moses Marsh ', 'Lorien S. ', 'Cameron ', 'Matthew Bird ', 'Derik Linch ', 'Robert Hajek ', 'Elana Kopelevich ', 'Japneet Singh ', 'Scott Cronin ', 'Anonymous ', 'Alex Braun ', 'Zubair Desai ', 'Mike ', 'Roberto Ortega ', 'Jeffrey Roach ', 'Tim Hou ', 'Tony Nguyen ', 'Anna VM ', 'kt ', 'Eric Hullander ', 'Steve ', 'M ', 'Frank '}\n"
     ]
    }
   ],
   "source": [
    "print(galvanize)"
   ]
  },
  {
   "cell_type": "code",
   "execution_count": 137,
   "metadata": {
    "collapsed": false
   },
   "outputs": [
    {
     "data": {
      "text/plain": [
       "30"
      ]
     },
     "execution_count": 137,
     "metadata": {},
     "output_type": "execute_result"
    }
   ],
   "source": [
    "len(galvanize)"
   ]
  },
  {
   "cell_type": "code",
   "execution_count": 89,
   "metadata": {
    "collapsed": true
   },
   "outputs": [],
   "source": [
    "nyc = []\n",
    "def get_data(url):\n",
    "    response = requests.get(url)\n",
    "    if response.status_code == 200:\n",
    "        data = BeautifulSoup(response.text, \"lxml\")\n",
    "        spans = data.find_all('span', attrs={'class':'reviewer-name'})\n",
    "        for span in spans:\n",
    "            if span.string != \"Anonymous\":\n",
    "                nyc.append(span.string)\n",
    "    else:\n",
    "        return(response.text)\n",
    "        return(response.status_code)"
   ]
  },
  {
   "cell_type": "code",
   "execution_count": 90,
   "metadata": {
    "collapsed": false
   },
   "outputs": [
    {
     "ename": "ConnectionError",
     "evalue": "HTTPSConnectionPool(host='www.coursereport.com', port=443): Max retries exceeded with url: /schools/nyc-data-science-academy?page=1 (Caused by NewConnectionError('<requests.packages.urllib3.connection.VerifiedHTTPSConnection object at 0x1227e6780>: Failed to establish a new connection: [Errno 8] nodename nor servname provided, or not known',))",
     "output_type": "error",
     "traceback": [
      "\u001b[0;31m---------------------------------------------------------------------------\u001b[0m",
      "\u001b[0;31mgaierror\u001b[0m                                  Traceback (most recent call last)",
      "\u001b[0;32m/Users/rogerhuang/downloads/ENTER/lib/python3.5/site-packages/requests/packages/urllib3/connection.py\u001b[0m in \u001b[0;36m_new_conn\u001b[0;34m(self)\u001b[0m\n\u001b[1;32m    141\u001b[0m             conn = connection.create_connection(\n\u001b[0;32m--> 142\u001b[0;31m                 (self.host, self.port), self.timeout, **extra_kw)\n\u001b[0m\u001b[1;32m    143\u001b[0m \u001b[0;34m\u001b[0m\u001b[0m\n",
      "\u001b[0;32m/Users/rogerhuang/downloads/ENTER/lib/python3.5/site-packages/requests/packages/urllib3/util/connection.py\u001b[0m in \u001b[0;36mcreate_connection\u001b[0;34m(address, timeout, source_address, socket_options)\u001b[0m\n\u001b[1;32m     66\u001b[0m     \u001b[0merr\u001b[0m \u001b[0;34m=\u001b[0m \u001b[0;32mNone\u001b[0m\u001b[0;34m\u001b[0m\u001b[0m\n\u001b[0;32m---> 67\u001b[0;31m     \u001b[0;32mfor\u001b[0m \u001b[0mres\u001b[0m \u001b[0;32min\u001b[0m \u001b[0msocket\u001b[0m\u001b[0;34m.\u001b[0m\u001b[0mgetaddrinfo\u001b[0m\u001b[0;34m(\u001b[0m\u001b[0mhost\u001b[0m\u001b[0;34m,\u001b[0m \u001b[0mport\u001b[0m\u001b[0;34m,\u001b[0m \u001b[0;36m0\u001b[0m\u001b[0;34m,\u001b[0m \u001b[0msocket\u001b[0m\u001b[0;34m.\u001b[0m\u001b[0mSOCK_STREAM\u001b[0m\u001b[0;34m)\u001b[0m\u001b[0;34m:\u001b[0m\u001b[0;34m\u001b[0m\u001b[0m\n\u001b[0m\u001b[1;32m     68\u001b[0m         \u001b[0maf\u001b[0m\u001b[0;34m,\u001b[0m \u001b[0msocktype\u001b[0m\u001b[0;34m,\u001b[0m \u001b[0mproto\u001b[0m\u001b[0;34m,\u001b[0m \u001b[0mcanonname\u001b[0m\u001b[0;34m,\u001b[0m \u001b[0msa\u001b[0m \u001b[0;34m=\u001b[0m \u001b[0mres\u001b[0m\u001b[0;34m\u001b[0m\u001b[0m\n",
      "\u001b[0;32m/Users/rogerhuang/downloads/ENTER/lib/python3.5/socket.py\u001b[0m in \u001b[0;36mgetaddrinfo\u001b[0;34m(host, port, family, type, proto, flags)\u001b[0m\n\u001b[1;32m    731\u001b[0m     \u001b[0maddrlist\u001b[0m \u001b[0;34m=\u001b[0m \u001b[0;34m[\u001b[0m\u001b[0;34m]\u001b[0m\u001b[0;34m\u001b[0m\u001b[0m\n\u001b[0;32m--> 732\u001b[0;31m     \u001b[0;32mfor\u001b[0m \u001b[0mres\u001b[0m \u001b[0;32min\u001b[0m \u001b[0m_socket\u001b[0m\u001b[0;34m.\u001b[0m\u001b[0mgetaddrinfo\u001b[0m\u001b[0;34m(\u001b[0m\u001b[0mhost\u001b[0m\u001b[0;34m,\u001b[0m \u001b[0mport\u001b[0m\u001b[0;34m,\u001b[0m \u001b[0mfamily\u001b[0m\u001b[0;34m,\u001b[0m \u001b[0mtype\u001b[0m\u001b[0;34m,\u001b[0m \u001b[0mproto\u001b[0m\u001b[0;34m,\u001b[0m \u001b[0mflags\u001b[0m\u001b[0;34m)\u001b[0m\u001b[0;34m:\u001b[0m\u001b[0;34m\u001b[0m\u001b[0m\n\u001b[0m\u001b[1;32m    733\u001b[0m         \u001b[0maf\u001b[0m\u001b[0;34m,\u001b[0m \u001b[0msocktype\u001b[0m\u001b[0;34m,\u001b[0m \u001b[0mproto\u001b[0m\u001b[0;34m,\u001b[0m \u001b[0mcanonname\u001b[0m\u001b[0;34m,\u001b[0m \u001b[0msa\u001b[0m \u001b[0;34m=\u001b[0m \u001b[0mres\u001b[0m\u001b[0;34m\u001b[0m\u001b[0m\n",
      "\u001b[0;31mgaierror\u001b[0m: [Errno 8] nodename nor servname provided, or not known",
      "\nDuring handling of the above exception, another exception occurred:\n",
      "\u001b[0;31mNewConnectionError\u001b[0m                        Traceback (most recent call last)",
      "\u001b[0;32m/Users/rogerhuang/downloads/ENTER/lib/python3.5/site-packages/requests/packages/urllib3/connectionpool.py\u001b[0m in \u001b[0;36murlopen\u001b[0;34m(self, method, url, body, headers, retries, redirect, assert_same_host, timeout, pool_timeout, release_conn, chunked, **response_kw)\u001b[0m\n\u001b[1;32m    577\u001b[0m                                                   \u001b[0mbody\u001b[0m\u001b[0;34m=\u001b[0m\u001b[0mbody\u001b[0m\u001b[0;34m,\u001b[0m \u001b[0mheaders\u001b[0m\u001b[0;34m=\u001b[0m\u001b[0mheaders\u001b[0m\u001b[0;34m,\u001b[0m\u001b[0;34m\u001b[0m\u001b[0m\n\u001b[0;32m--> 578\u001b[0;31m                                                   chunked=chunked)\n\u001b[0m\u001b[1;32m    579\u001b[0m \u001b[0;34m\u001b[0m\u001b[0m\n",
      "\u001b[0;32m/Users/rogerhuang/downloads/ENTER/lib/python3.5/site-packages/requests/packages/urllib3/connectionpool.py\u001b[0m in \u001b[0;36m_make_request\u001b[0;34m(self, conn, method, url, timeout, chunked, **httplib_request_kw)\u001b[0m\n\u001b[1;32m    350\u001b[0m         \u001b[0;32mtry\u001b[0m\u001b[0;34m:\u001b[0m\u001b[0;34m\u001b[0m\u001b[0m\n\u001b[0;32m--> 351\u001b[0;31m             \u001b[0mself\u001b[0m\u001b[0;34m.\u001b[0m\u001b[0m_validate_conn\u001b[0m\u001b[0;34m(\u001b[0m\u001b[0mconn\u001b[0m\u001b[0;34m)\u001b[0m\u001b[0;34m\u001b[0m\u001b[0m\n\u001b[0m\u001b[1;32m    352\u001b[0m         \u001b[0;32mexcept\u001b[0m \u001b[0;34m(\u001b[0m\u001b[0mSocketTimeout\u001b[0m\u001b[0;34m,\u001b[0m \u001b[0mBaseSSLError\u001b[0m\u001b[0;34m)\u001b[0m \u001b[0;32mas\u001b[0m \u001b[0me\u001b[0m\u001b[0;34m:\u001b[0m\u001b[0;34m\u001b[0m\u001b[0m\n",
      "\u001b[0;32m/Users/rogerhuang/downloads/ENTER/lib/python3.5/site-packages/requests/packages/urllib3/connectionpool.py\u001b[0m in \u001b[0;36m_validate_conn\u001b[0;34m(self, conn)\u001b[0m\n\u001b[1;32m    813\u001b[0m         \u001b[0;32mif\u001b[0m \u001b[0;32mnot\u001b[0m \u001b[0mgetattr\u001b[0m\u001b[0;34m(\u001b[0m\u001b[0mconn\u001b[0m\u001b[0;34m,\u001b[0m \u001b[0;34m'sock'\u001b[0m\u001b[0;34m,\u001b[0m \u001b[0;32mNone\u001b[0m\u001b[0;34m)\u001b[0m\u001b[0;34m:\u001b[0m  \u001b[0;31m# AppEngine might not have  `.sock`\u001b[0m\u001b[0;34m\u001b[0m\u001b[0m\n\u001b[0;32m--> 814\u001b[0;31m             \u001b[0mconn\u001b[0m\u001b[0;34m.\u001b[0m\u001b[0mconnect\u001b[0m\u001b[0;34m(\u001b[0m\u001b[0;34m)\u001b[0m\u001b[0;34m\u001b[0m\u001b[0m\n\u001b[0m\u001b[1;32m    815\u001b[0m \u001b[0;34m\u001b[0m\u001b[0m\n",
      "\u001b[0;32m/Users/rogerhuang/downloads/ENTER/lib/python3.5/site-packages/requests/packages/urllib3/connection.py\u001b[0m in \u001b[0;36mconnect\u001b[0;34m(self)\u001b[0m\n\u001b[1;32m    253\u001b[0m         \u001b[0;31m# Add certificate verification\u001b[0m\u001b[0;34m\u001b[0m\u001b[0;34m\u001b[0m\u001b[0m\n\u001b[0;32m--> 254\u001b[0;31m         \u001b[0mconn\u001b[0m \u001b[0;34m=\u001b[0m \u001b[0mself\u001b[0m\u001b[0;34m.\u001b[0m\u001b[0m_new_conn\u001b[0m\u001b[0;34m(\u001b[0m\u001b[0;34m)\u001b[0m\u001b[0;34m\u001b[0m\u001b[0m\n\u001b[0m\u001b[1;32m    255\u001b[0m \u001b[0;34m\u001b[0m\u001b[0m\n",
      "\u001b[0;32m/Users/rogerhuang/downloads/ENTER/lib/python3.5/site-packages/requests/packages/urllib3/connection.py\u001b[0m in \u001b[0;36m_new_conn\u001b[0;34m(self)\u001b[0m\n\u001b[1;32m    150\u001b[0m             raise NewConnectionError(\n\u001b[0;32m--> 151\u001b[0;31m                 self, \"Failed to establish a new connection: %s\" % e)\n\u001b[0m\u001b[1;32m    152\u001b[0m \u001b[0;34m\u001b[0m\u001b[0m\n",
      "\u001b[0;31mNewConnectionError\u001b[0m: <requests.packages.urllib3.connection.VerifiedHTTPSConnection object at 0x1227e6780>: Failed to establish a new connection: [Errno 8] nodename nor servname provided, or not known",
      "\nDuring handling of the above exception, another exception occurred:\n",
      "\u001b[0;31mMaxRetryError\u001b[0m                             Traceback (most recent call last)",
      "\u001b[0;32m/Users/rogerhuang/downloads/ENTER/lib/python3.5/site-packages/requests/adapters.py\u001b[0m in \u001b[0;36msend\u001b[0;34m(self, request, stream, timeout, verify, cert, proxies)\u001b[0m\n\u001b[1;32m    402\u001b[0m                     \u001b[0mretries\u001b[0m\u001b[0;34m=\u001b[0m\u001b[0mself\u001b[0m\u001b[0;34m.\u001b[0m\u001b[0mmax_retries\u001b[0m\u001b[0;34m,\u001b[0m\u001b[0;34m\u001b[0m\u001b[0m\n\u001b[0;32m--> 403\u001b[0;31m                     \u001b[0mtimeout\u001b[0m\u001b[0;34m=\u001b[0m\u001b[0mtimeout\u001b[0m\u001b[0;34m\u001b[0m\u001b[0m\n\u001b[0m\u001b[1;32m    404\u001b[0m                 )\n",
      "\u001b[0;32m/Users/rogerhuang/downloads/ENTER/lib/python3.5/site-packages/requests/packages/urllib3/connectionpool.py\u001b[0m in \u001b[0;36murlopen\u001b[0;34m(self, method, url, body, headers, retries, redirect, assert_same_host, timeout, pool_timeout, release_conn, chunked, **response_kw)\u001b[0m\n\u001b[1;32m    622\u001b[0m             retries = retries.increment(method, url, error=e, _pool=self,\n\u001b[0;32m--> 623\u001b[0;31m                                         _stacktrace=sys.exc_info()[2])\n\u001b[0m\u001b[1;32m    624\u001b[0m             \u001b[0mretries\u001b[0m\u001b[0;34m.\u001b[0m\u001b[0msleep\u001b[0m\u001b[0;34m(\u001b[0m\u001b[0;34m)\u001b[0m\u001b[0;34m\u001b[0m\u001b[0m\n",
      "\u001b[0;32m/Users/rogerhuang/downloads/ENTER/lib/python3.5/site-packages/requests/packages/urllib3/util/retry.py\u001b[0m in \u001b[0;36mincrement\u001b[0;34m(self, method, url, response, error, _pool, _stacktrace)\u001b[0m\n\u001b[1;32m    280\u001b[0m         \u001b[0;32mif\u001b[0m \u001b[0mnew_retry\u001b[0m\u001b[0;34m.\u001b[0m\u001b[0mis_exhausted\u001b[0m\u001b[0;34m(\u001b[0m\u001b[0;34m)\u001b[0m\u001b[0;34m:\u001b[0m\u001b[0;34m\u001b[0m\u001b[0m\n\u001b[0;32m--> 281\u001b[0;31m             \u001b[0;32mraise\u001b[0m \u001b[0mMaxRetryError\u001b[0m\u001b[0;34m(\u001b[0m\u001b[0m_pool\u001b[0m\u001b[0;34m,\u001b[0m \u001b[0murl\u001b[0m\u001b[0;34m,\u001b[0m \u001b[0merror\u001b[0m \u001b[0;32mor\u001b[0m \u001b[0mResponseError\u001b[0m\u001b[0;34m(\u001b[0m\u001b[0mcause\u001b[0m\u001b[0;34m)\u001b[0m\u001b[0;34m)\u001b[0m\u001b[0;34m\u001b[0m\u001b[0m\n\u001b[0m\u001b[1;32m    282\u001b[0m \u001b[0;34m\u001b[0m\u001b[0m\n",
      "\u001b[0;31mMaxRetryError\u001b[0m: HTTPSConnectionPool(host='www.coursereport.com', port=443): Max retries exceeded with url: /schools/nyc-data-science-academy?page=1 (Caused by NewConnectionError('<requests.packages.urllib3.connection.VerifiedHTTPSConnection object at 0x1227e6780>: Failed to establish a new connection: [Errno 8] nodename nor servname provided, or not known',))",
      "\nDuring handling of the above exception, another exception occurred:\n",
      "\u001b[0;31mConnectionError\u001b[0m                           Traceback (most recent call last)",
      "\u001b[0;32m<ipython-input-90-a2ef1937397d>\u001b[0m in \u001b[0;36m<module>\u001b[0;34m()\u001b[0m\n\u001b[1;32m      3\u001b[0m     \u001b[0mbase_url\u001b[0m \u001b[0;34m=\u001b[0m \u001b[0;34m\"https://www.coursereport.com/schools/nyc-data-science-academy?page=\"\u001b[0m\u001b[0;34m\u001b[0m\u001b[0m\n\u001b[1;32m      4\u001b[0m     \u001b[0murl\u001b[0m \u001b[0;34m=\u001b[0m \u001b[0mbase_url\u001b[0m \u001b[0;34m+\u001b[0m \u001b[0mstr\u001b[0m\u001b[0;34m(\u001b[0m\u001b[0mpage_url\u001b[0m\u001b[0;34m)\u001b[0m \u001b[0;34m+\u001b[0m \u001b[0;34m\"#/reviews\"\u001b[0m\u001b[0;34m\u001b[0m\u001b[0m\n\u001b[0;32m----> 5\u001b[0;31m     \u001b[0mdata\u001b[0m \u001b[0;34m=\u001b[0m \u001b[0mget_data\u001b[0m\u001b[0;34m(\u001b[0m\u001b[0murl\u001b[0m\u001b[0;34m)\u001b[0m\u001b[0;34m\u001b[0m\u001b[0m\n\u001b[0m\u001b[1;32m      6\u001b[0m     \u001b[0mpage_url\u001b[0m \u001b[0;34m+=\u001b[0m \u001b[0;36m1\u001b[0m\u001b[0;34m\u001b[0m\u001b[0m\n",
      "\u001b[0;32m<ipython-input-89-fd6dbd8c76eb>\u001b[0m in \u001b[0;36mget_data\u001b[0;34m(url)\u001b[0m\n\u001b[1;32m      1\u001b[0m \u001b[0mnyc\u001b[0m \u001b[0;34m=\u001b[0m \u001b[0;34m[\u001b[0m\u001b[0;34m]\u001b[0m\u001b[0;34m\u001b[0m\u001b[0m\n\u001b[1;32m      2\u001b[0m \u001b[0;32mdef\u001b[0m \u001b[0mget_data\u001b[0m\u001b[0;34m(\u001b[0m\u001b[0murl\u001b[0m\u001b[0;34m)\u001b[0m\u001b[0;34m:\u001b[0m\u001b[0;34m\u001b[0m\u001b[0m\n\u001b[0;32m----> 3\u001b[0;31m     \u001b[0mresponse\u001b[0m \u001b[0;34m=\u001b[0m \u001b[0mrequests\u001b[0m\u001b[0;34m.\u001b[0m\u001b[0mget\u001b[0m\u001b[0;34m(\u001b[0m\u001b[0murl\u001b[0m\u001b[0;34m)\u001b[0m\u001b[0;34m\u001b[0m\u001b[0m\n\u001b[0m\u001b[1;32m      4\u001b[0m     \u001b[0;32mif\u001b[0m \u001b[0mresponse\u001b[0m\u001b[0;34m.\u001b[0m\u001b[0mstatus_code\u001b[0m \u001b[0;34m==\u001b[0m \u001b[0;36m200\u001b[0m\u001b[0;34m:\u001b[0m\u001b[0;34m\u001b[0m\u001b[0m\n\u001b[1;32m      5\u001b[0m         \u001b[0mdata\u001b[0m \u001b[0;34m=\u001b[0m \u001b[0mBeautifulSoup\u001b[0m\u001b[0;34m(\u001b[0m\u001b[0mresponse\u001b[0m\u001b[0;34m.\u001b[0m\u001b[0mtext\u001b[0m\u001b[0;34m,\u001b[0m \u001b[0;34m\"lxml\"\u001b[0m\u001b[0;34m)\u001b[0m\u001b[0;34m\u001b[0m\u001b[0m\n",
      "\u001b[0;32m/Users/rogerhuang/downloads/ENTER/lib/python3.5/site-packages/requests/api.py\u001b[0m in \u001b[0;36mget\u001b[0;34m(url, params, **kwargs)\u001b[0m\n\u001b[1;32m     69\u001b[0m \u001b[0;34m\u001b[0m\u001b[0m\n\u001b[1;32m     70\u001b[0m     \u001b[0mkwargs\u001b[0m\u001b[0;34m.\u001b[0m\u001b[0msetdefault\u001b[0m\u001b[0;34m(\u001b[0m\u001b[0;34m'allow_redirects'\u001b[0m\u001b[0;34m,\u001b[0m \u001b[0;32mTrue\u001b[0m\u001b[0;34m)\u001b[0m\u001b[0;34m\u001b[0m\u001b[0m\n\u001b[0;32m---> 71\u001b[0;31m     \u001b[0;32mreturn\u001b[0m \u001b[0mrequest\u001b[0m\u001b[0;34m(\u001b[0m\u001b[0;34m'get'\u001b[0m\u001b[0;34m,\u001b[0m \u001b[0murl\u001b[0m\u001b[0;34m,\u001b[0m \u001b[0mparams\u001b[0m\u001b[0;34m=\u001b[0m\u001b[0mparams\u001b[0m\u001b[0;34m,\u001b[0m \u001b[0;34m**\u001b[0m\u001b[0mkwargs\u001b[0m\u001b[0;34m)\u001b[0m\u001b[0;34m\u001b[0m\u001b[0m\n\u001b[0m\u001b[1;32m     72\u001b[0m \u001b[0;34m\u001b[0m\u001b[0m\n\u001b[1;32m     73\u001b[0m \u001b[0;34m\u001b[0m\u001b[0m\n",
      "\u001b[0;32m/Users/rogerhuang/downloads/ENTER/lib/python3.5/site-packages/requests/api.py\u001b[0m in \u001b[0;36mrequest\u001b[0;34m(method, url, **kwargs)\u001b[0m\n\u001b[1;32m     55\u001b[0m     \u001b[0;31m# cases, and look like a memory leak in others.\u001b[0m\u001b[0;34m\u001b[0m\u001b[0;34m\u001b[0m\u001b[0m\n\u001b[1;32m     56\u001b[0m     \u001b[0;32mwith\u001b[0m \u001b[0msessions\u001b[0m\u001b[0;34m.\u001b[0m\u001b[0mSession\u001b[0m\u001b[0;34m(\u001b[0m\u001b[0;34m)\u001b[0m \u001b[0;32mas\u001b[0m \u001b[0msession\u001b[0m\u001b[0;34m:\u001b[0m\u001b[0;34m\u001b[0m\u001b[0m\n\u001b[0;32m---> 57\u001b[0;31m         \u001b[0;32mreturn\u001b[0m \u001b[0msession\u001b[0m\u001b[0;34m.\u001b[0m\u001b[0mrequest\u001b[0m\u001b[0;34m(\u001b[0m\u001b[0mmethod\u001b[0m\u001b[0;34m=\u001b[0m\u001b[0mmethod\u001b[0m\u001b[0;34m,\u001b[0m \u001b[0murl\u001b[0m\u001b[0;34m=\u001b[0m\u001b[0murl\u001b[0m\u001b[0;34m,\u001b[0m \u001b[0;34m**\u001b[0m\u001b[0mkwargs\u001b[0m\u001b[0;34m)\u001b[0m\u001b[0;34m\u001b[0m\u001b[0m\n\u001b[0m\u001b[1;32m     58\u001b[0m \u001b[0;34m\u001b[0m\u001b[0m\n\u001b[1;32m     59\u001b[0m \u001b[0;34m\u001b[0m\u001b[0m\n",
      "\u001b[0;32m/Users/rogerhuang/downloads/ENTER/lib/python3.5/site-packages/requests/sessions.py\u001b[0m in \u001b[0;36mrequest\u001b[0;34m(self, method, url, params, data, headers, cookies, files, auth, timeout, allow_redirects, proxies, hooks, stream, verify, cert, json)\u001b[0m\n\u001b[1;32m    473\u001b[0m         }\n\u001b[1;32m    474\u001b[0m         \u001b[0msend_kwargs\u001b[0m\u001b[0;34m.\u001b[0m\u001b[0mupdate\u001b[0m\u001b[0;34m(\u001b[0m\u001b[0msettings\u001b[0m\u001b[0;34m)\u001b[0m\u001b[0;34m\u001b[0m\u001b[0m\n\u001b[0;32m--> 475\u001b[0;31m         \u001b[0mresp\u001b[0m \u001b[0;34m=\u001b[0m \u001b[0mself\u001b[0m\u001b[0;34m.\u001b[0m\u001b[0msend\u001b[0m\u001b[0;34m(\u001b[0m\u001b[0mprep\u001b[0m\u001b[0;34m,\u001b[0m \u001b[0;34m**\u001b[0m\u001b[0msend_kwargs\u001b[0m\u001b[0;34m)\u001b[0m\u001b[0;34m\u001b[0m\u001b[0m\n\u001b[0m\u001b[1;32m    476\u001b[0m \u001b[0;34m\u001b[0m\u001b[0m\n\u001b[1;32m    477\u001b[0m         \u001b[0;32mreturn\u001b[0m \u001b[0mresp\u001b[0m\u001b[0;34m\u001b[0m\u001b[0m\n",
      "\u001b[0;32m/Users/rogerhuang/downloads/ENTER/lib/python3.5/site-packages/requests/sessions.py\u001b[0m in \u001b[0;36msend\u001b[0;34m(self, request, **kwargs)\u001b[0m\n\u001b[1;32m    583\u001b[0m \u001b[0;34m\u001b[0m\u001b[0m\n\u001b[1;32m    584\u001b[0m         \u001b[0;31m# Send the request\u001b[0m\u001b[0;34m\u001b[0m\u001b[0;34m\u001b[0m\u001b[0m\n\u001b[0;32m--> 585\u001b[0;31m         \u001b[0mr\u001b[0m \u001b[0;34m=\u001b[0m \u001b[0madapter\u001b[0m\u001b[0;34m.\u001b[0m\u001b[0msend\u001b[0m\u001b[0;34m(\u001b[0m\u001b[0mrequest\u001b[0m\u001b[0;34m,\u001b[0m \u001b[0;34m**\u001b[0m\u001b[0mkwargs\u001b[0m\u001b[0;34m)\u001b[0m\u001b[0;34m\u001b[0m\u001b[0m\n\u001b[0m\u001b[1;32m    586\u001b[0m \u001b[0;34m\u001b[0m\u001b[0m\n\u001b[1;32m    587\u001b[0m         \u001b[0;31m# Total elapsed time of the request (approximately)\u001b[0m\u001b[0;34m\u001b[0m\u001b[0;34m\u001b[0m\u001b[0m\n",
      "\u001b[0;32m/Users/rogerhuang/downloads/ENTER/lib/python3.5/site-packages/requests/adapters.py\u001b[0m in \u001b[0;36msend\u001b[0;34m(self, request, stream, timeout, verify, cert, proxies)\u001b[0m\n\u001b[1;32m    465\u001b[0m                 \u001b[0;32mraise\u001b[0m \u001b[0mProxyError\u001b[0m\u001b[0;34m(\u001b[0m\u001b[0me\u001b[0m\u001b[0;34m,\u001b[0m \u001b[0mrequest\u001b[0m\u001b[0;34m=\u001b[0m\u001b[0mrequest\u001b[0m\u001b[0;34m)\u001b[0m\u001b[0;34m\u001b[0m\u001b[0m\n\u001b[1;32m    466\u001b[0m \u001b[0;34m\u001b[0m\u001b[0m\n\u001b[0;32m--> 467\u001b[0;31m             \u001b[0;32mraise\u001b[0m \u001b[0mConnectionError\u001b[0m\u001b[0;34m(\u001b[0m\u001b[0me\u001b[0m\u001b[0;34m,\u001b[0m \u001b[0mrequest\u001b[0m\u001b[0;34m=\u001b[0m\u001b[0mrequest\u001b[0m\u001b[0;34m)\u001b[0m\u001b[0;34m\u001b[0m\u001b[0m\n\u001b[0m\u001b[1;32m    468\u001b[0m \u001b[0;34m\u001b[0m\u001b[0m\n\u001b[1;32m    469\u001b[0m         \u001b[0;32mexcept\u001b[0m \u001b[0mClosedPoolError\u001b[0m \u001b[0;32mas\u001b[0m \u001b[0me\u001b[0m\u001b[0;34m:\u001b[0m\u001b[0;34m\u001b[0m\u001b[0m\n",
      "\u001b[0;31mConnectionError\u001b[0m: HTTPSConnectionPool(host='www.coursereport.com', port=443): Max retries exceeded with url: /schools/nyc-data-science-academy?page=1 (Caused by NewConnectionError('<requests.packages.urllib3.connection.VerifiedHTTPSConnection object at 0x1227e6780>: Failed to establish a new connection: [Errno 8] nodename nor servname provided, or not known',))"
     ]
    }
   ],
   "source": [
    "page_url = 1\n",
    "for i in range(5): # 5 pages of 20 results each\n",
    "    base_url = \"https://www.coursereport.com/schools/nyc-data-science-academy?page=\"   \n",
    "    url = base_url + str(page_url) + \"#/reviews\"\n",
    "    data = get_data(url)\n",
    "    page_url += 1"
   ]
  },
  {
   "cell_type": "code",
   "execution_count": 143,
   "metadata": {
    "collapsed": false
   },
   "outputs": [
    {
     "name": "stdout",
     "output_type": "stream",
     "text": [
      "['Jurgen de Jager ', 'Arda Kosar ', 'Tingyan Zheng ', 'Bin Lin ', 'Melita ', 'Tatiana Sorokina ', 'Robert Castellano ', 'Jiaqi L ', 'Iris Huang ', 'Ho Fai Wong ', 'Kelly ', 'Denis Nguyen ', 'Yuka ', 'Adam Cone ', 'Wendy ', 'David Steinmetz ', 'Anonymous ', 'Anonymous ', 'Christopher Redino ', 'Sricharan Maddineni ', 'Joseph Lee ', 'Korrigan ', 'Fangzhou ', 'John ', 'Anonymous ', 'Sebastian Nordgren ', 'Jake ', 'David Comfort ', 'Nate Aiken ', 'JF Darre ', 'Shin Chin ', 'Dani ', 'Jason ', 'Pokman ', 'Punam ', 'Sam ', 'Liz ', 'Bret Fontecchio ', 'Anonymous ', 'Anonymous ', 'anonymous ', 'Anonymous ']\n"
     ]
    }
   ],
   "source": [
    "print(nyc)"
   ]
  },
  {
   "cell_type": "code",
   "execution_count": 144,
   "metadata": {
    "collapsed": false
   },
   "outputs": [
    {
     "name": "stdout",
     "output_type": "stream",
     "text": [
      "{'Sebastian Nordgren ', 'Jiaqi L ', 'Ho Fai Wong ', 'Adam Cone ', 'Liz ', 'Bin Lin ', 'Punam ', 'Korrigan ', 'Melita ', 'Denis Nguyen ', 'Sam ', 'Wendy ', 'Arda Kosar ', 'Jurgen de Jager ', 'Nate Aiken ', 'Kelly ', 'Anonymous ', 'Bret Fontecchio ', 'Shin Chin ', 'Fangzhou ', 'Jake ', 'Tingyan Zheng ', 'Dani ', 'Robert Castellano ', 'Tatiana Sorokina ', 'Sricharan Maddineni ', 'Jason ', 'Joseph Lee ', 'David Comfort ', 'Iris Huang ', 'Yuka ', 'JF Darre ', 'Pokman ', 'anonymous ', 'John ', 'David Steinmetz ', 'Christopher Redino '}\n"
     ]
    }
   ],
   "source": [
    "nyc = set(nyc)\n",
    "print(nyc)"
   ]
  },
  {
   "cell_type": "code",
   "execution_count": 145,
   "metadata": {
    "collapsed": false
   },
   "outputs": [
    {
     "data": {
      "text/plain": [
       "37"
      ]
     },
     "execution_count": 145,
     "metadata": {},
     "output_type": "execute_result"
    }
   ],
   "source": [
    "len(nyc)"
   ]
  },
  {
   "cell_type": "code",
   "execution_count": 148,
   "metadata": {
    "collapsed": false
   },
   "outputs": [
    {
     "name": "stdout",
     "output_type": "stream",
     "text": [
      "['Max Melnick ', 'Emmanuele Salvati ', 'Brian Kim ', 'Anonymous ', 'Anonymous ', 'Anonymous ', 'Revanth Reddy Garlapati ', 'Anonymous ', 'Anonymous ']\n"
     ]
    }
   ],
   "source": [
    "print(metis)"
   ]
  },
  {
   "cell_type": "code",
   "execution_count": 81,
   "metadata": {
    "collapsed": true
   },
   "outputs": [],
   "source": [
    "byte = []\n",
    "def get_data(url):\n",
    "    response = requests.get(url)\n",
    "    if response.status_code == 200:\n",
    "        data = BeautifulSoup(response.text, \"lxml\")\n",
    "        spans = data.find_all('span', attrs={'class':'reviewer-name'})\n",
    "        for span in spans:\n",
    "            if span.string != \"Anonymous\":\n",
    "                byte.append(span.string)\n",
    "    else:\n",
    "        return(response.text)\n",
    "        return(response.status_code)"
   ]
  },
  {
   "cell_type": "code",
   "execution_count": 82,
   "metadata": {
    "collapsed": false
   },
   "outputs": [],
   "source": [
    "page_url = 1\n",
    "for i in range(5): # 5 pages of 20 results each\n",
    "    base_url = \"https://www.coursereport.com/schools/byte-academy?page=\"   \n",
    "    url = base_url + str(page_url) + \"#/reviews\"\n",
    "    data = get_data(url)\n",
    "    page_url += 1"
   ]
  },
  {
   "cell_type": "code",
   "execution_count": 83,
   "metadata": {
    "collapsed": false
   },
   "outputs": [
    {
     "name": "stdout",
     "output_type": "stream",
     "text": [
      "['Ben ', 'Matt ', 'Nat Greenwald ', 'Rod ', 'Dan ', 'Sulekha ', 'Anonymous ', 'Anonymous ', 'Anonymous ', 'Shehryar Khan ', 'Anonymous ', 'Cody ', 'Graduate ', 'Josh ', 'Anonymous ', 'Anonymous ', 'Anonymous ', 'Yulia ', 'Benjamin Mukasa ', 'Anonymous ', 'Anthony ', 'Adam J ', 'Anonymous ', 'Jesse ', 'Anonymous ', 'Anonymous ', 'Anonymous ', 'William mantly ', 'Anthony Keating ', 'Anonymous ']\n"
     ]
    }
   ],
   "source": [
    "print(byte)"
   ]
  },
  {
   "cell_type": "code",
   "execution_count": 84,
   "metadata": {
    "collapsed": false
   },
   "outputs": [
    {
     "data": {
      "text/plain": [
       "30"
      ]
     },
     "execution_count": 84,
     "metadata": {},
     "output_type": "execute_result"
    }
   ],
   "source": [
    "len(byte)"
   ]
  },
  {
   "cell_type": "code",
   "execution_count": 86,
   "metadata": {
    "collapsed": true
   },
   "outputs": [],
   "source": [
    "metis = []\n",
    "def get_data(url):\n",
    "    response = requests.get(url)\n",
    "    if response.status_code == 200:\n",
    "        data = BeautifulSoup(response.text, \"lxml\")\n",
    "        spans = data.find_all('span', attrs={'class':'reviewer-name'})\n",
    "        for span in spans:\n",
    "            if span.string != \"Anonymous\":\n",
    "                metis.append(span.string)\n",
    "    else:\n",
    "        return(response.text)\n",
    "        return(response.status_code)"
   ]
  },
  {
   "cell_type": "code",
   "execution_count": 91,
   "metadata": {
    "collapsed": false
   },
   "outputs": [
    {
     "ename": "ConnectionError",
     "evalue": "HTTPSConnectionPool(host='www.coursereport.com', port=443): Max retries exceeded with url: /schools/metis?page=1 (Caused by NewConnectionError('<requests.packages.urllib3.connection.VerifiedHTTPSConnection object at 0x1227e0be0>: Failed to establish a new connection: [Errno 8] nodename nor servname provided, or not known',))",
     "output_type": "error",
     "traceback": [
      "\u001b[0;31m---------------------------------------------------------------------------\u001b[0m",
      "\u001b[0;31mgaierror\u001b[0m                                  Traceback (most recent call last)",
      "\u001b[0;32m/Users/rogerhuang/downloads/ENTER/lib/python3.5/site-packages/requests/packages/urllib3/connection.py\u001b[0m in \u001b[0;36m_new_conn\u001b[0;34m(self)\u001b[0m\n\u001b[1;32m    141\u001b[0m             conn = connection.create_connection(\n\u001b[0;32m--> 142\u001b[0;31m                 (self.host, self.port), self.timeout, **extra_kw)\n\u001b[0m\u001b[1;32m    143\u001b[0m \u001b[0;34m\u001b[0m\u001b[0m\n",
      "\u001b[0;32m/Users/rogerhuang/downloads/ENTER/lib/python3.5/site-packages/requests/packages/urllib3/util/connection.py\u001b[0m in \u001b[0;36mcreate_connection\u001b[0;34m(address, timeout, source_address, socket_options)\u001b[0m\n\u001b[1;32m     66\u001b[0m     \u001b[0merr\u001b[0m \u001b[0;34m=\u001b[0m \u001b[0;32mNone\u001b[0m\u001b[0;34m\u001b[0m\u001b[0m\n\u001b[0;32m---> 67\u001b[0;31m     \u001b[0;32mfor\u001b[0m \u001b[0mres\u001b[0m \u001b[0;32min\u001b[0m \u001b[0msocket\u001b[0m\u001b[0;34m.\u001b[0m\u001b[0mgetaddrinfo\u001b[0m\u001b[0;34m(\u001b[0m\u001b[0mhost\u001b[0m\u001b[0;34m,\u001b[0m \u001b[0mport\u001b[0m\u001b[0;34m,\u001b[0m \u001b[0;36m0\u001b[0m\u001b[0;34m,\u001b[0m \u001b[0msocket\u001b[0m\u001b[0;34m.\u001b[0m\u001b[0mSOCK_STREAM\u001b[0m\u001b[0;34m)\u001b[0m\u001b[0;34m:\u001b[0m\u001b[0;34m\u001b[0m\u001b[0m\n\u001b[0m\u001b[1;32m     68\u001b[0m         \u001b[0maf\u001b[0m\u001b[0;34m,\u001b[0m \u001b[0msocktype\u001b[0m\u001b[0;34m,\u001b[0m \u001b[0mproto\u001b[0m\u001b[0;34m,\u001b[0m \u001b[0mcanonname\u001b[0m\u001b[0;34m,\u001b[0m \u001b[0msa\u001b[0m \u001b[0;34m=\u001b[0m \u001b[0mres\u001b[0m\u001b[0;34m\u001b[0m\u001b[0m\n",
      "\u001b[0;32m/Users/rogerhuang/downloads/ENTER/lib/python3.5/socket.py\u001b[0m in \u001b[0;36mgetaddrinfo\u001b[0;34m(host, port, family, type, proto, flags)\u001b[0m\n\u001b[1;32m    731\u001b[0m     \u001b[0maddrlist\u001b[0m \u001b[0;34m=\u001b[0m \u001b[0;34m[\u001b[0m\u001b[0;34m]\u001b[0m\u001b[0;34m\u001b[0m\u001b[0m\n\u001b[0;32m--> 732\u001b[0;31m     \u001b[0;32mfor\u001b[0m \u001b[0mres\u001b[0m \u001b[0;32min\u001b[0m \u001b[0m_socket\u001b[0m\u001b[0;34m.\u001b[0m\u001b[0mgetaddrinfo\u001b[0m\u001b[0;34m(\u001b[0m\u001b[0mhost\u001b[0m\u001b[0;34m,\u001b[0m \u001b[0mport\u001b[0m\u001b[0;34m,\u001b[0m \u001b[0mfamily\u001b[0m\u001b[0;34m,\u001b[0m \u001b[0mtype\u001b[0m\u001b[0;34m,\u001b[0m \u001b[0mproto\u001b[0m\u001b[0;34m,\u001b[0m \u001b[0mflags\u001b[0m\u001b[0;34m)\u001b[0m\u001b[0;34m:\u001b[0m\u001b[0;34m\u001b[0m\u001b[0m\n\u001b[0m\u001b[1;32m    733\u001b[0m         \u001b[0maf\u001b[0m\u001b[0;34m,\u001b[0m \u001b[0msocktype\u001b[0m\u001b[0;34m,\u001b[0m \u001b[0mproto\u001b[0m\u001b[0;34m,\u001b[0m \u001b[0mcanonname\u001b[0m\u001b[0;34m,\u001b[0m \u001b[0msa\u001b[0m \u001b[0;34m=\u001b[0m \u001b[0mres\u001b[0m\u001b[0;34m\u001b[0m\u001b[0m\n",
      "\u001b[0;31mgaierror\u001b[0m: [Errno 8] nodename nor servname provided, or not known",
      "\nDuring handling of the above exception, another exception occurred:\n",
      "\u001b[0;31mNewConnectionError\u001b[0m                        Traceback (most recent call last)",
      "\u001b[0;32m/Users/rogerhuang/downloads/ENTER/lib/python3.5/site-packages/requests/packages/urllib3/connectionpool.py\u001b[0m in \u001b[0;36murlopen\u001b[0;34m(self, method, url, body, headers, retries, redirect, assert_same_host, timeout, pool_timeout, release_conn, chunked, **response_kw)\u001b[0m\n\u001b[1;32m    577\u001b[0m                                                   \u001b[0mbody\u001b[0m\u001b[0;34m=\u001b[0m\u001b[0mbody\u001b[0m\u001b[0;34m,\u001b[0m \u001b[0mheaders\u001b[0m\u001b[0;34m=\u001b[0m\u001b[0mheaders\u001b[0m\u001b[0;34m,\u001b[0m\u001b[0;34m\u001b[0m\u001b[0m\n\u001b[0;32m--> 578\u001b[0;31m                                                   chunked=chunked)\n\u001b[0m\u001b[1;32m    579\u001b[0m \u001b[0;34m\u001b[0m\u001b[0m\n",
      "\u001b[0;32m/Users/rogerhuang/downloads/ENTER/lib/python3.5/site-packages/requests/packages/urllib3/connectionpool.py\u001b[0m in \u001b[0;36m_make_request\u001b[0;34m(self, conn, method, url, timeout, chunked, **httplib_request_kw)\u001b[0m\n\u001b[1;32m    350\u001b[0m         \u001b[0;32mtry\u001b[0m\u001b[0;34m:\u001b[0m\u001b[0;34m\u001b[0m\u001b[0m\n\u001b[0;32m--> 351\u001b[0;31m             \u001b[0mself\u001b[0m\u001b[0;34m.\u001b[0m\u001b[0m_validate_conn\u001b[0m\u001b[0;34m(\u001b[0m\u001b[0mconn\u001b[0m\u001b[0;34m)\u001b[0m\u001b[0;34m\u001b[0m\u001b[0m\n\u001b[0m\u001b[1;32m    352\u001b[0m         \u001b[0;32mexcept\u001b[0m \u001b[0;34m(\u001b[0m\u001b[0mSocketTimeout\u001b[0m\u001b[0;34m,\u001b[0m \u001b[0mBaseSSLError\u001b[0m\u001b[0;34m)\u001b[0m \u001b[0;32mas\u001b[0m \u001b[0me\u001b[0m\u001b[0;34m:\u001b[0m\u001b[0;34m\u001b[0m\u001b[0m\n",
      "\u001b[0;32m/Users/rogerhuang/downloads/ENTER/lib/python3.5/site-packages/requests/packages/urllib3/connectionpool.py\u001b[0m in \u001b[0;36m_validate_conn\u001b[0;34m(self, conn)\u001b[0m\n\u001b[1;32m    813\u001b[0m         \u001b[0;32mif\u001b[0m \u001b[0;32mnot\u001b[0m \u001b[0mgetattr\u001b[0m\u001b[0;34m(\u001b[0m\u001b[0mconn\u001b[0m\u001b[0;34m,\u001b[0m \u001b[0;34m'sock'\u001b[0m\u001b[0;34m,\u001b[0m \u001b[0;32mNone\u001b[0m\u001b[0;34m)\u001b[0m\u001b[0;34m:\u001b[0m  \u001b[0;31m# AppEngine might not have  `.sock`\u001b[0m\u001b[0;34m\u001b[0m\u001b[0m\n\u001b[0;32m--> 814\u001b[0;31m             \u001b[0mconn\u001b[0m\u001b[0;34m.\u001b[0m\u001b[0mconnect\u001b[0m\u001b[0;34m(\u001b[0m\u001b[0;34m)\u001b[0m\u001b[0;34m\u001b[0m\u001b[0m\n\u001b[0m\u001b[1;32m    815\u001b[0m \u001b[0;34m\u001b[0m\u001b[0m\n",
      "\u001b[0;32m/Users/rogerhuang/downloads/ENTER/lib/python3.5/site-packages/requests/packages/urllib3/connection.py\u001b[0m in \u001b[0;36mconnect\u001b[0;34m(self)\u001b[0m\n\u001b[1;32m    253\u001b[0m         \u001b[0;31m# Add certificate verification\u001b[0m\u001b[0;34m\u001b[0m\u001b[0;34m\u001b[0m\u001b[0m\n\u001b[0;32m--> 254\u001b[0;31m         \u001b[0mconn\u001b[0m \u001b[0;34m=\u001b[0m \u001b[0mself\u001b[0m\u001b[0;34m.\u001b[0m\u001b[0m_new_conn\u001b[0m\u001b[0;34m(\u001b[0m\u001b[0;34m)\u001b[0m\u001b[0;34m\u001b[0m\u001b[0m\n\u001b[0m\u001b[1;32m    255\u001b[0m \u001b[0;34m\u001b[0m\u001b[0m\n",
      "\u001b[0;32m/Users/rogerhuang/downloads/ENTER/lib/python3.5/site-packages/requests/packages/urllib3/connection.py\u001b[0m in \u001b[0;36m_new_conn\u001b[0;34m(self)\u001b[0m\n\u001b[1;32m    150\u001b[0m             raise NewConnectionError(\n\u001b[0;32m--> 151\u001b[0;31m                 self, \"Failed to establish a new connection: %s\" % e)\n\u001b[0m\u001b[1;32m    152\u001b[0m \u001b[0;34m\u001b[0m\u001b[0m\n",
      "\u001b[0;31mNewConnectionError\u001b[0m: <requests.packages.urllib3.connection.VerifiedHTTPSConnection object at 0x1227e0be0>: Failed to establish a new connection: [Errno 8] nodename nor servname provided, or not known",
      "\nDuring handling of the above exception, another exception occurred:\n",
      "\u001b[0;31mMaxRetryError\u001b[0m                             Traceback (most recent call last)",
      "\u001b[0;32m/Users/rogerhuang/downloads/ENTER/lib/python3.5/site-packages/requests/adapters.py\u001b[0m in \u001b[0;36msend\u001b[0;34m(self, request, stream, timeout, verify, cert, proxies)\u001b[0m\n\u001b[1;32m    402\u001b[0m                     \u001b[0mretries\u001b[0m\u001b[0;34m=\u001b[0m\u001b[0mself\u001b[0m\u001b[0;34m.\u001b[0m\u001b[0mmax_retries\u001b[0m\u001b[0;34m,\u001b[0m\u001b[0;34m\u001b[0m\u001b[0m\n\u001b[0;32m--> 403\u001b[0;31m                     \u001b[0mtimeout\u001b[0m\u001b[0;34m=\u001b[0m\u001b[0mtimeout\u001b[0m\u001b[0;34m\u001b[0m\u001b[0m\n\u001b[0m\u001b[1;32m    404\u001b[0m                 )\n",
      "\u001b[0;32m/Users/rogerhuang/downloads/ENTER/lib/python3.5/site-packages/requests/packages/urllib3/connectionpool.py\u001b[0m in \u001b[0;36murlopen\u001b[0;34m(self, method, url, body, headers, retries, redirect, assert_same_host, timeout, pool_timeout, release_conn, chunked, **response_kw)\u001b[0m\n\u001b[1;32m    622\u001b[0m             retries = retries.increment(method, url, error=e, _pool=self,\n\u001b[0;32m--> 623\u001b[0;31m                                         _stacktrace=sys.exc_info()[2])\n\u001b[0m\u001b[1;32m    624\u001b[0m             \u001b[0mretries\u001b[0m\u001b[0;34m.\u001b[0m\u001b[0msleep\u001b[0m\u001b[0;34m(\u001b[0m\u001b[0;34m)\u001b[0m\u001b[0;34m\u001b[0m\u001b[0m\n",
      "\u001b[0;32m/Users/rogerhuang/downloads/ENTER/lib/python3.5/site-packages/requests/packages/urllib3/util/retry.py\u001b[0m in \u001b[0;36mincrement\u001b[0;34m(self, method, url, response, error, _pool, _stacktrace)\u001b[0m\n\u001b[1;32m    280\u001b[0m         \u001b[0;32mif\u001b[0m \u001b[0mnew_retry\u001b[0m\u001b[0;34m.\u001b[0m\u001b[0mis_exhausted\u001b[0m\u001b[0;34m(\u001b[0m\u001b[0;34m)\u001b[0m\u001b[0;34m:\u001b[0m\u001b[0;34m\u001b[0m\u001b[0m\n\u001b[0;32m--> 281\u001b[0;31m             \u001b[0;32mraise\u001b[0m \u001b[0mMaxRetryError\u001b[0m\u001b[0;34m(\u001b[0m\u001b[0m_pool\u001b[0m\u001b[0;34m,\u001b[0m \u001b[0murl\u001b[0m\u001b[0;34m,\u001b[0m \u001b[0merror\u001b[0m \u001b[0;32mor\u001b[0m \u001b[0mResponseError\u001b[0m\u001b[0;34m(\u001b[0m\u001b[0mcause\u001b[0m\u001b[0;34m)\u001b[0m\u001b[0;34m)\u001b[0m\u001b[0;34m\u001b[0m\u001b[0m\n\u001b[0m\u001b[1;32m    282\u001b[0m \u001b[0;34m\u001b[0m\u001b[0m\n",
      "\u001b[0;31mMaxRetryError\u001b[0m: HTTPSConnectionPool(host='www.coursereport.com', port=443): Max retries exceeded with url: /schools/metis?page=1 (Caused by NewConnectionError('<requests.packages.urllib3.connection.VerifiedHTTPSConnection object at 0x1227e0be0>: Failed to establish a new connection: [Errno 8] nodename nor servname provided, or not known',))",
      "\nDuring handling of the above exception, another exception occurred:\n",
      "\u001b[0;31mConnectionError\u001b[0m                           Traceback (most recent call last)",
      "\u001b[0;32m<ipython-input-91-3f3fe70506c8>\u001b[0m in \u001b[0;36m<module>\u001b[0;34m()\u001b[0m\n\u001b[1;32m      3\u001b[0m     \u001b[0mbase_url\u001b[0m \u001b[0;34m=\u001b[0m \u001b[0;34m\"https://www.coursereport.com/schools/metis?page=\"\u001b[0m\u001b[0;34m\u001b[0m\u001b[0m\n\u001b[1;32m      4\u001b[0m     \u001b[0murl\u001b[0m \u001b[0;34m=\u001b[0m \u001b[0mbase_url\u001b[0m \u001b[0;34m+\u001b[0m \u001b[0mstr\u001b[0m\u001b[0;34m(\u001b[0m\u001b[0mpage_url\u001b[0m\u001b[0;34m)\u001b[0m \u001b[0;34m+\u001b[0m \u001b[0;34m\"#/reviews\"\u001b[0m\u001b[0;34m\u001b[0m\u001b[0m\n\u001b[0;32m----> 5\u001b[0;31m     \u001b[0mdata\u001b[0m \u001b[0;34m=\u001b[0m \u001b[0mget_data\u001b[0m\u001b[0;34m(\u001b[0m\u001b[0murl\u001b[0m\u001b[0;34m)\u001b[0m\u001b[0;34m\u001b[0m\u001b[0m\n\u001b[0m\u001b[1;32m      6\u001b[0m     \u001b[0mpage_url\u001b[0m \u001b[0;34m+=\u001b[0m \u001b[0;36m1\u001b[0m\u001b[0;34m\u001b[0m\u001b[0m\n",
      "\u001b[0;32m<ipython-input-89-fd6dbd8c76eb>\u001b[0m in \u001b[0;36mget_data\u001b[0;34m(url)\u001b[0m\n\u001b[1;32m      1\u001b[0m \u001b[0mnyc\u001b[0m \u001b[0;34m=\u001b[0m \u001b[0;34m[\u001b[0m\u001b[0;34m]\u001b[0m\u001b[0;34m\u001b[0m\u001b[0m\n\u001b[1;32m      2\u001b[0m \u001b[0;32mdef\u001b[0m \u001b[0mget_data\u001b[0m\u001b[0;34m(\u001b[0m\u001b[0murl\u001b[0m\u001b[0;34m)\u001b[0m\u001b[0;34m:\u001b[0m\u001b[0;34m\u001b[0m\u001b[0m\n\u001b[0;32m----> 3\u001b[0;31m     \u001b[0mresponse\u001b[0m \u001b[0;34m=\u001b[0m \u001b[0mrequests\u001b[0m\u001b[0;34m.\u001b[0m\u001b[0mget\u001b[0m\u001b[0;34m(\u001b[0m\u001b[0murl\u001b[0m\u001b[0;34m)\u001b[0m\u001b[0;34m\u001b[0m\u001b[0m\n\u001b[0m\u001b[1;32m      4\u001b[0m     \u001b[0;32mif\u001b[0m \u001b[0mresponse\u001b[0m\u001b[0;34m.\u001b[0m\u001b[0mstatus_code\u001b[0m \u001b[0;34m==\u001b[0m \u001b[0;36m200\u001b[0m\u001b[0;34m:\u001b[0m\u001b[0;34m\u001b[0m\u001b[0m\n\u001b[1;32m      5\u001b[0m         \u001b[0mdata\u001b[0m \u001b[0;34m=\u001b[0m \u001b[0mBeautifulSoup\u001b[0m\u001b[0;34m(\u001b[0m\u001b[0mresponse\u001b[0m\u001b[0;34m.\u001b[0m\u001b[0mtext\u001b[0m\u001b[0;34m,\u001b[0m \u001b[0;34m\"lxml\"\u001b[0m\u001b[0;34m)\u001b[0m\u001b[0;34m\u001b[0m\u001b[0m\n",
      "\u001b[0;32m/Users/rogerhuang/downloads/ENTER/lib/python3.5/site-packages/requests/api.py\u001b[0m in \u001b[0;36mget\u001b[0;34m(url, params, **kwargs)\u001b[0m\n\u001b[1;32m     69\u001b[0m \u001b[0;34m\u001b[0m\u001b[0m\n\u001b[1;32m     70\u001b[0m     \u001b[0mkwargs\u001b[0m\u001b[0;34m.\u001b[0m\u001b[0msetdefault\u001b[0m\u001b[0;34m(\u001b[0m\u001b[0;34m'allow_redirects'\u001b[0m\u001b[0;34m,\u001b[0m \u001b[0;32mTrue\u001b[0m\u001b[0;34m)\u001b[0m\u001b[0;34m\u001b[0m\u001b[0m\n\u001b[0;32m---> 71\u001b[0;31m     \u001b[0;32mreturn\u001b[0m \u001b[0mrequest\u001b[0m\u001b[0;34m(\u001b[0m\u001b[0;34m'get'\u001b[0m\u001b[0;34m,\u001b[0m \u001b[0murl\u001b[0m\u001b[0;34m,\u001b[0m \u001b[0mparams\u001b[0m\u001b[0;34m=\u001b[0m\u001b[0mparams\u001b[0m\u001b[0;34m,\u001b[0m \u001b[0;34m**\u001b[0m\u001b[0mkwargs\u001b[0m\u001b[0;34m)\u001b[0m\u001b[0;34m\u001b[0m\u001b[0m\n\u001b[0m\u001b[1;32m     72\u001b[0m \u001b[0;34m\u001b[0m\u001b[0m\n\u001b[1;32m     73\u001b[0m \u001b[0;34m\u001b[0m\u001b[0m\n",
      "\u001b[0;32m/Users/rogerhuang/downloads/ENTER/lib/python3.5/site-packages/requests/api.py\u001b[0m in \u001b[0;36mrequest\u001b[0;34m(method, url, **kwargs)\u001b[0m\n\u001b[1;32m     55\u001b[0m     \u001b[0;31m# cases, and look like a memory leak in others.\u001b[0m\u001b[0;34m\u001b[0m\u001b[0;34m\u001b[0m\u001b[0m\n\u001b[1;32m     56\u001b[0m     \u001b[0;32mwith\u001b[0m \u001b[0msessions\u001b[0m\u001b[0;34m.\u001b[0m\u001b[0mSession\u001b[0m\u001b[0;34m(\u001b[0m\u001b[0;34m)\u001b[0m \u001b[0;32mas\u001b[0m \u001b[0msession\u001b[0m\u001b[0;34m:\u001b[0m\u001b[0;34m\u001b[0m\u001b[0m\n\u001b[0;32m---> 57\u001b[0;31m         \u001b[0;32mreturn\u001b[0m \u001b[0msession\u001b[0m\u001b[0;34m.\u001b[0m\u001b[0mrequest\u001b[0m\u001b[0;34m(\u001b[0m\u001b[0mmethod\u001b[0m\u001b[0;34m=\u001b[0m\u001b[0mmethod\u001b[0m\u001b[0;34m,\u001b[0m \u001b[0murl\u001b[0m\u001b[0;34m=\u001b[0m\u001b[0murl\u001b[0m\u001b[0;34m,\u001b[0m \u001b[0;34m**\u001b[0m\u001b[0mkwargs\u001b[0m\u001b[0;34m)\u001b[0m\u001b[0;34m\u001b[0m\u001b[0m\n\u001b[0m\u001b[1;32m     58\u001b[0m \u001b[0;34m\u001b[0m\u001b[0m\n\u001b[1;32m     59\u001b[0m \u001b[0;34m\u001b[0m\u001b[0m\n",
      "\u001b[0;32m/Users/rogerhuang/downloads/ENTER/lib/python3.5/site-packages/requests/sessions.py\u001b[0m in \u001b[0;36mrequest\u001b[0;34m(self, method, url, params, data, headers, cookies, files, auth, timeout, allow_redirects, proxies, hooks, stream, verify, cert, json)\u001b[0m\n\u001b[1;32m    473\u001b[0m         }\n\u001b[1;32m    474\u001b[0m         \u001b[0msend_kwargs\u001b[0m\u001b[0;34m.\u001b[0m\u001b[0mupdate\u001b[0m\u001b[0;34m(\u001b[0m\u001b[0msettings\u001b[0m\u001b[0;34m)\u001b[0m\u001b[0;34m\u001b[0m\u001b[0m\n\u001b[0;32m--> 475\u001b[0;31m         \u001b[0mresp\u001b[0m \u001b[0;34m=\u001b[0m \u001b[0mself\u001b[0m\u001b[0;34m.\u001b[0m\u001b[0msend\u001b[0m\u001b[0;34m(\u001b[0m\u001b[0mprep\u001b[0m\u001b[0;34m,\u001b[0m \u001b[0;34m**\u001b[0m\u001b[0msend_kwargs\u001b[0m\u001b[0;34m)\u001b[0m\u001b[0;34m\u001b[0m\u001b[0m\n\u001b[0m\u001b[1;32m    476\u001b[0m \u001b[0;34m\u001b[0m\u001b[0m\n\u001b[1;32m    477\u001b[0m         \u001b[0;32mreturn\u001b[0m \u001b[0mresp\u001b[0m\u001b[0;34m\u001b[0m\u001b[0m\n",
      "\u001b[0;32m/Users/rogerhuang/downloads/ENTER/lib/python3.5/site-packages/requests/sessions.py\u001b[0m in \u001b[0;36msend\u001b[0;34m(self, request, **kwargs)\u001b[0m\n\u001b[1;32m    583\u001b[0m \u001b[0;34m\u001b[0m\u001b[0m\n\u001b[1;32m    584\u001b[0m         \u001b[0;31m# Send the request\u001b[0m\u001b[0;34m\u001b[0m\u001b[0;34m\u001b[0m\u001b[0m\n\u001b[0;32m--> 585\u001b[0;31m         \u001b[0mr\u001b[0m \u001b[0;34m=\u001b[0m \u001b[0madapter\u001b[0m\u001b[0;34m.\u001b[0m\u001b[0msend\u001b[0m\u001b[0;34m(\u001b[0m\u001b[0mrequest\u001b[0m\u001b[0;34m,\u001b[0m \u001b[0;34m**\u001b[0m\u001b[0mkwargs\u001b[0m\u001b[0;34m)\u001b[0m\u001b[0;34m\u001b[0m\u001b[0m\n\u001b[0m\u001b[1;32m    586\u001b[0m \u001b[0;34m\u001b[0m\u001b[0m\n\u001b[1;32m    587\u001b[0m         \u001b[0;31m# Total elapsed time of the request (approximately)\u001b[0m\u001b[0;34m\u001b[0m\u001b[0;34m\u001b[0m\u001b[0m\n",
      "\u001b[0;32m/Users/rogerhuang/downloads/ENTER/lib/python3.5/site-packages/requests/adapters.py\u001b[0m in \u001b[0;36msend\u001b[0;34m(self, request, stream, timeout, verify, cert, proxies)\u001b[0m\n\u001b[1;32m    465\u001b[0m                 \u001b[0;32mraise\u001b[0m \u001b[0mProxyError\u001b[0m\u001b[0;34m(\u001b[0m\u001b[0me\u001b[0m\u001b[0;34m,\u001b[0m \u001b[0mrequest\u001b[0m\u001b[0;34m=\u001b[0m\u001b[0mrequest\u001b[0m\u001b[0;34m)\u001b[0m\u001b[0;34m\u001b[0m\u001b[0m\n\u001b[1;32m    466\u001b[0m \u001b[0;34m\u001b[0m\u001b[0m\n\u001b[0;32m--> 467\u001b[0;31m             \u001b[0;32mraise\u001b[0m \u001b[0mConnectionError\u001b[0m\u001b[0;34m(\u001b[0m\u001b[0me\u001b[0m\u001b[0;34m,\u001b[0m \u001b[0mrequest\u001b[0m\u001b[0;34m=\u001b[0m\u001b[0mrequest\u001b[0m\u001b[0;34m)\u001b[0m\u001b[0;34m\u001b[0m\u001b[0m\n\u001b[0m\u001b[1;32m    468\u001b[0m \u001b[0;34m\u001b[0m\u001b[0m\n\u001b[1;32m    469\u001b[0m         \u001b[0;32mexcept\u001b[0m \u001b[0mClosedPoolError\u001b[0m \u001b[0;32mas\u001b[0m \u001b[0me\u001b[0m\u001b[0;34m:\u001b[0m\u001b[0;34m\u001b[0m\u001b[0m\n",
      "\u001b[0;31mConnectionError\u001b[0m: HTTPSConnectionPool(host='www.coursereport.com', port=443): Max retries exceeded with url: /schools/metis?page=1 (Caused by NewConnectionError('<requests.packages.urllib3.connection.VerifiedHTTPSConnection object at 0x1227e0be0>: Failed to establish a new connection: [Errno 8] nodename nor servname provided, or not known',))"
     ]
    }
   ],
   "source": [
    "#avoid throttle -- always sleep after each request (do time.sleep -- 1 second, maybe randomize)\n",
    "#change the user agent\n",
    "page_url = 1\n",
    "for i in range(5): # 5 pages of 20 results each\n",
    "    base_url = \"https://www.coursereport.com/schools/metis?page=\"   \n",
    "    url = base_url + str(page_url) + \"#/reviews\"\n",
    "    data = get_data(url)\n",
    "    page_url += 1"
   ]
  },
  {
   "cell_type": "code",
   "execution_count": 78,
   "metadata": {
    "collapsed": false
   },
   "outputs": [
    {
     "name": "stdout",
     "output_type": "stream",
     "text": [
      "[]\n"
     ]
    }
   ],
   "source": [
    "print(metis)"
   ]
  },
  {
   "cell_type": "code",
   "execution_count": 27,
   "metadata": {
    "collapsed": true
   },
   "outputs": [],
   "source": [
    "byte = ['Ben', 'Matt', 'Nat', 'Rod', 'Dan', 'Sulekha', 'Shehryar', 'Cody', 'Graduate', 'Josh', 'Yulia', 'Benjamin', 'Anthony', 'Adam', 'Jesse', 'William', 'Anthony']"
   ]
  },
  {
   "cell_type": "code",
   "execution_count": 28,
   "metadata": {
    "collapsed": false,
    "scrolled": true
   },
   "outputs": [
    {
     "name": "stdout",
     "output_type": "stream",
     "text": [
      "['Ben', 'Matt', 'Nat', 'Rod', 'Dan', 'Sulekha', 'Shehryar', 'Cody', 'Graduate', 'Josh', 'Yulia', 'Benjamin', 'Anthony', 'Adam', 'Jesse', 'William', 'Anthony']\n"
     ]
    }
   ],
   "source": [
    "namelist = []\n",
    "for x in byte:\n",
    "    if x != 'Anonymous ':\n",
    "        fn = x.split()[0]\n",
    "        namelist.append(fn)\n",
    "        \n",
    "print(namelist)"
   ]
  },
  {
   "cell_type": "code",
   "execution_count": null,
   "metadata": {
    "collapsed": true
   },
   "outputs": [],
   "source": [
    "byte = []\n",
    "def get_data(url):\n",
    "    response = requests.get(url)\n",
    "    if response.status_code == 200:\n",
    "        data = BeautifulSoup(response.text, \"lxml\")\n",
    "        spans = data.find_all('span', attrs={'class':'reviewer-name'})\n",
    "        for span in spans:\n",
    "            if span.string != \"Anonymous\":\n",
    "                byte.append(span.string)\n",
    "    else:\n",
    "        return(response.text)\n",
    "        return(response.status_code)"
   ]
  },
  {
   "cell_type": "code",
   "execution_count": 25,
   "metadata": {
    "collapsed": true
   },
   "outputs": [],
   "source": [
    "nyc = ['Jurgen de Jager ', 'Arda Kosar ', 'Tingyan Zheng ', 'Bin Lin ', 'Melita ', 'Tatiana Sorokina ', 'Robert Castellano ', 'Jiaqi L ', 'Iris Huang ', 'Ho Fai Wong ', 'Kelly ', 'Denis Nguyen ', 'Yuka ', 'Adam Cone ', 'Wendy ', 'David Steinmetz ', 'Anonymous ', 'Anonymous ', 'Christopher Redino ', 'Sricharan Maddineni ', 'Joseph Lee ', 'Korrigan ', 'Fangzhou ', 'John ', 'Anonymous ', 'Sebastian Nordgren ', 'Jake ', 'David Comfort ', 'Nate Aiken ', 'JF Darre ', 'Shin Chin ', 'Dani ', 'Jason ', 'Pokman ', 'Punam ', 'Sam ', 'Liz ', 'Bret Fontecchio ', 'Anonymous ', 'Anonymous ', 'anonymous ', 'Anonymous ']\n",
    "galvanize = ['kt ', 'Steve ', 'Anna VM ', 'Jennifer Dunne ', 'Josh Cantor ', 'Gerard Cote ', 'Alex Braun ', 'Elana Kopelevich ', 'Colin ', 'Eric Hullander ', 'Japneet Singh ', 'J ', 'M ', 'Moses Marsh ', 'Frank ', 'Derik Linch ', 'Tim Hou ', 'Matthew Bird ', 'Anonymous ', 'Robert Hajek ', 'Anonymous ', 'Roberto Ortega ', 'Anonymous ', 'Taylor ', 'Anonymous ', 'Scott Cronin ', 'Anonymous ', 'Anonymous ', 'Jeffrey Roach ', 'Anonymous ', 'Zubair Desai ', 'Lorien S. ', 'Tony Nguyen ', 'Mike ', 'Anonymous ', 'Anonymous ', 'Cameron ', 'Layne ']"
   ]
  },
  {
   "cell_type": "code",
   "execution_count": 29,
   "metadata": {
    "collapsed": false
   },
   "outputs": [],
   "source": [
    "for x in nyc:\n",
    "    if x != 'Anonymous ':\n",
    "        fn = x.split()[0]\n",
    "        namelist.append(fn)"
   ]
  },
  {
   "cell_type": "code",
   "execution_count": 30,
   "metadata": {
    "collapsed": false
   },
   "outputs": [],
   "source": [
    "for x in galvanize:\n",
    "    if x != 'Anonymous ':\n",
    "        fn = x.split()[0]\n",
    "        namelist.append(fn)"
   ]
  },
  {
   "cell_type": "markdown",
   "metadata": {},
   "source": [
    "## Putting lists of names through the system"
   ]
  },
  {
   "cell_type": "code",
   "execution_count": 215,
   "metadata": {
    "collapsed": false
   },
   "outputs": [],
   "source": [
    "springdict = {}\n",
    "def namelook(nameslot):\n",
    "    namelistit = [(name, lookup(name)) for name in nameslot]\n",
    "    springna, springgender = zip(*namelistit)\n",
    "    springdict = {\"name\": springna, \"gender\":springgender}\n",
    "    springs = pd.DataFrame(springdict)\n",
    "    mf = {\"It's a female name we had to machine learn!\" : \"Female\",\n",
    "      \"It's a female name.\" : \"Female\",\n",
    "      \"It's a male name we had to machine learn!\" : \"Male\",\n",
    "      \"It's a male name.\" : \"Male\",\n",
    "      \"It's an ambiguous name!\" : \"Ambiguous\"\n",
    "      }\n",
    "    springclean = springs.replace({\"gender\" : mf})\n",
    "    springclean.gender.value_counts()\n",
    "    labels = [\"Male\", \"Female\", \"Ambiguous\"] \n",
    "    colors = ['#ef2964', '#00c09d', '#48485e', '#a4a4af', '#2ca893', '#7d7f89', '#efeff6']\n",
    "    plt.pie(springclean.gender.value_counts(), autopct='%1.1f%%', shadow= True, colors = colors, labels = labels)\n",
    "    plt.axis('equal')\n",
    "    plt.show()\n",
    "    \n",
    "    \n"
   ]
  },
  {
   "cell_type": "code",
   "execution_count": 102,
   "metadata": {
    "collapsed": false
   },
   "outputs": [
    {
     "data": {
      "text/plain": [
       "(('Ben',\n",
       "  'Matt',\n",
       "  'Nat',\n",
       "  'Rod',\n",
       "  'Dan',\n",
       "  'Sulekha',\n",
       "  'Shehryar',\n",
       "  'Cody',\n",
       "  'Graduate',\n",
       "  'Josh',\n",
       "  'Yulia',\n",
       "  'Benjamin',\n",
       "  'Anthony',\n",
       "  'Adam',\n",
       "  'Jesse',\n",
       "  'William',\n",
       "  'Anthony',\n",
       "  'Jurgen',\n",
       "  'Arda',\n",
       "  'Tingyan',\n",
       "  'Bin',\n",
       "  'Melita',\n",
       "  'Tatiana',\n",
       "  'Robert',\n",
       "  'Jiaqi',\n",
       "  'Iris',\n",
       "  'Ho',\n",
       "  'Kelly',\n",
       "  'Denis',\n",
       "  'Yuka',\n",
       "  'Adam',\n",
       "  'Wendy',\n",
       "  'David',\n",
       "  'Christopher',\n",
       "  'Sricharan',\n",
       "  'Joseph',\n",
       "  'Korrigan',\n",
       "  'Fangzhou',\n",
       "  'John',\n",
       "  'Sebastian',\n",
       "  'Jake',\n",
       "  'David',\n",
       "  'Nate',\n",
       "  'JF',\n",
       "  'Shin',\n",
       "  'Dani',\n",
       "  'Jason',\n",
       "  'Pokman',\n",
       "  'Punam',\n",
       "  'Sam',\n",
       "  'Liz',\n",
       "  'Bret',\n",
       "  'anonymous',\n",
       "  'kt',\n",
       "  'Steve',\n",
       "  'Anna',\n",
       "  'Jennifer',\n",
       "  'Josh',\n",
       "  'Gerard',\n",
       "  'Alex',\n",
       "  'Elana',\n",
       "  'Colin',\n",
       "  'Eric',\n",
       "  'Japneet',\n",
       "  'J',\n",
       "  'M',\n",
       "  'Moses',\n",
       "  'Frank',\n",
       "  'Derik',\n",
       "  'Tim',\n",
       "  'Matthew',\n",
       "  'Robert',\n",
       "  'Roberto',\n",
       "  'Taylor',\n",
       "  'Scott',\n",
       "  'Jeffrey',\n",
       "  'Zubair',\n",
       "  'Lorien',\n",
       "  'Tony',\n",
       "  'Mike',\n",
       "  'Cameron',\n",
       "  'Layne'),\n",
       " (\"It's a male name.\",\n",
       "  \"It's a male name.\",\n",
       "  \"It's a male name.\",\n",
       "  \"It's a male name.\",\n",
       "  \"It's a male name.\",\n",
       "  \"It's a female name we had to machine learn!\",\n",
       "  \"It's a male name.\",\n",
       "  \"It's a male name.\",\n",
       "  \"It's a male name we had to machine learn!\",\n",
       "  \"It's a male name.\",\n",
       "  \"It's a female name we had to machine learn!\",\n",
       "  \"It's a male name.\",\n",
       "  \"It's a male name.\",\n",
       "  \"It's a male name.\",\n",
       "  \"It's a male name.\",\n",
       "  \"It's a male name.\",\n",
       "  \"It's a male name.\",\n",
       "  \"It's a male name.\",\n",
       "  \"It's an ambiguous name!\",\n",
       "  \"It's a female name we had to machine learn!\",\n",
       "  \"It's a male name.\",\n",
       "  \"It's a female name we had to machine learn!\",\n",
       "  \"It's a female name.\",\n",
       "  \"It's a male name.\",\n",
       "  \"It's a female name we had to machine learn!\",\n",
       "  \"It's a female name.\",\n",
       "  \"It's a male name.\",\n",
       "  \"It's a female name.\",\n",
       "  \"It's a male name.\",\n",
       "  \"It's a male name we had to machine learn!\",\n",
       "  \"It's a male name.\",\n",
       "  \"It's a female name.\",\n",
       "  \"It's a male name.\",\n",
       "  \"It's a male name.\",\n",
       "  \"It's a male name.\",\n",
       "  \"It's a male name.\",\n",
       "  \"It's a male name.\",\n",
       "  \"It's a male name we had to machine learn!\",\n",
       "  \"It's a male name.\",\n",
       "  \"It's a male name.\",\n",
       "  \"It's a male name.\",\n",
       "  \"It's a male name.\",\n",
       "  \"It's a male name.\",\n",
       "  \"It's a female name we had to machine learn!\",\n",
       "  \"It's a male name.\",\n",
       "  \"It's a female name.\",\n",
       "  \"It's a male name.\",\n",
       "  \"It's a female name we had to machine learn!\",\n",
       "  \"It's a female name we had to machine learn!\",\n",
       "  \"It's a male name.\",\n",
       "  \"It's a female name we had to machine learn!\",\n",
       "  \"It's a male name.\",\n",
       "  \"It's a male name we had to machine learn!\",\n",
       "  \"It's a female name we had to machine learn!\",\n",
       "  \"It's a male name.\",\n",
       "  \"It's a female name.\",\n",
       "  \"It's a female name.\",\n",
       "  \"It's a male name.\",\n",
       "  \"It's a male name.\",\n",
       "  \"It's a male name.\",\n",
       "  \"It's a female name we had to machine learn!\",\n",
       "  \"It's a male name.\",\n",
       "  \"It's a male name.\",\n",
       "  \"It's a female name we had to machine learn!\",\n",
       "  \"It's a female name we had to machine learn!\",\n",
       "  \"It's a female name we had to machine learn!\",\n",
       "  \"It's a male name.\",\n",
       "  \"It's a male name.\",\n",
       "  \"It's a male name.\",\n",
       "  \"It's a male name.\",\n",
       "  \"It's a male name.\",\n",
       "  \"It's a male name.\",\n",
       "  \"It's a male name.\",\n",
       "  \"It's a female name.\",\n",
       "  \"It's a male name.\",\n",
       "  \"It's a male name.\",\n",
       "  \"It's a male name.\",\n",
       "  \"It's a female name we had to machine learn!\",\n",
       "  \"It's a male name.\",\n",
       "  \"It's a male name.\",\n",
       "  \"It's a male name.\",\n",
       "  \"It's a male name.\"))"
      ]
     },
     "execution_count": 102,
     "metadata": {},
     "output_type": "execute_result"
    }
   ],
   "source": [
    "namelook(namelist)"
   ]
  },
  {
   "cell_type": "code",
   "execution_count": 103,
   "metadata": {
    "collapsed": false
   },
   "outputs": [
    {
     "name": "stdout",
     "output_type": "stream",
     "text": [
      "(\"It's a male name.\", \"It's a male name.\", \"It's a male name.\", \"It's a male name.\", \"It's a male name.\", \"It's a female name we had to machine learn!\", \"It's a male name.\", \"It's a male name.\", \"It's a male name we had to machine learn!\", \"It's a male name.\", \"It's a female name we had to machine learn!\", \"It's a male name.\", \"It's a male name.\", \"It's a male name.\", \"It's a male name.\", \"It's a male name.\", \"It's a male name.\", \"It's a male name.\", \"It's an ambiguous name!\", \"It's a female name we had to machine learn!\", \"It's a male name.\", \"It's a female name we had to machine learn!\", \"It's a female name.\", \"It's a male name.\", \"It's a female name we had to machine learn!\", \"It's a female name.\", \"It's a male name.\", \"It's a female name.\", \"It's a male name.\", \"It's a male name we had to machine learn!\", \"It's a male name.\", \"It's a female name.\", \"It's a male name.\", \"It's a male name.\", \"It's a male name.\", \"It's a male name.\", \"It's a male name.\", \"It's a male name we had to machine learn!\", \"It's a male name.\", \"It's a male name.\", \"It's a male name.\", \"It's a male name.\", \"It's a male name.\", \"It's a female name we had to machine learn!\", \"It's a male name.\", \"It's a female name.\", \"It's a male name.\", \"It's a female name we had to machine learn!\", \"It's a female name we had to machine learn!\", \"It's a male name.\", \"It's a female name we had to machine learn!\", \"It's a male name.\", \"It's a male name we had to machine learn!\", \"It's a female name we had to machine learn!\", \"It's a male name.\", \"It's a female name.\", \"It's a female name.\", \"It's a male name.\", \"It's a male name.\", \"It's a male name.\", \"It's a female name we had to machine learn!\", \"It's a male name.\", \"It's a male name.\", \"It's a female name we had to machine learn!\", \"It's a female name we had to machine learn!\", \"It's a female name we had to machine learn!\", \"It's a male name.\", \"It's a male name.\", \"It's a male name.\", \"It's a male name.\", \"It's a male name.\", \"It's a male name.\", \"It's a male name.\", \"It's a female name.\", \"It's a male name.\", \"It's a male name.\", \"It's a male name.\", \"It's a female name we had to machine learn!\", \"It's a male name.\", \"It's a male name.\", \"It's a male name.\", \"It's a male name.\")\n"
     ]
    }
   ],
   "source": [
    "print(namegender)"
   ]
  },
  {
   "cell_type": "code",
   "execution_count": 104,
   "metadata": {
    "collapsed": false
   },
   "outputs": [
    {
     "name": "stdout",
     "output_type": "stream",
     "text": [
      "('Ben', 'Matt', 'Nat', 'Rod', 'Dan', 'Sulekha', 'Shehryar', 'Cody', 'Graduate', 'Josh', 'Yulia', 'Benjamin', 'Anthony', 'Adam', 'Jesse', 'William', 'Anthony', 'Jurgen', 'Arda', 'Tingyan', 'Bin', 'Melita', 'Tatiana', 'Robert', 'Jiaqi', 'Iris', 'Ho', 'Kelly', 'Denis', 'Yuka', 'Adam', 'Wendy', 'David', 'Christopher', 'Sricharan', 'Joseph', 'Korrigan', 'Fangzhou', 'John', 'Sebastian', 'Jake', 'David', 'Nate', 'JF', 'Shin', 'Dani', 'Jason', 'Pokman', 'Punam', 'Sam', 'Liz', 'Bret', 'anonymous', 'kt', 'Steve', 'Anna', 'Jennifer', 'Josh', 'Gerard', 'Alex', 'Elana', 'Colin', 'Eric', 'Japneet', 'J', 'M', 'Moses', 'Frank', 'Derik', 'Tim', 'Matthew', 'Robert', 'Roberto', 'Taylor', 'Scott', 'Jeffrey', 'Zubair', 'Lorien', 'Tony', 'Mike', 'Cameron', 'Layne')\n"
     ]
    }
   ],
   "source": [
    "print(namename)"
   ]
  },
  {
   "cell_type": "code",
   "execution_count": 37,
   "metadata": {
    "collapsed": true
   },
   "outputs": [],
   "source": [
    "namedict = {\"name\": namename, \"gender\":namegender}"
   ]
  },
  {
   "cell_type": "code",
   "execution_count": 38,
   "metadata": {
    "collapsed": true
   },
   "outputs": [],
   "source": [
    "naming = pd.DataFrame(namedict)"
   ]
  },
  {
   "cell_type": "code",
   "execution_count": 40,
   "metadata": {
    "collapsed": false
   },
   "outputs": [
    {
     "data": {
      "text/html": [
       "<div>\n",
       "<table border=\"1\" class=\"dataframe\">\n",
       "  <thead>\n",
       "    <tr style=\"text-align: right;\">\n",
       "      <th></th>\n",
       "      <th>gender</th>\n",
       "    </tr>\n",
       "    <tr>\n",
       "      <th>name</th>\n",
       "      <th></th>\n",
       "    </tr>\n",
       "  </thead>\n",
       "  <tbody>\n",
       "    <tr>\n",
       "      <th>Ben</th>\n",
       "      <td>It's a male name.</td>\n",
       "    </tr>\n",
       "    <tr>\n",
       "      <th>Matt</th>\n",
       "      <td>It's a male name.</td>\n",
       "    </tr>\n",
       "    <tr>\n",
       "      <th>Nat</th>\n",
       "      <td>It's a male name.</td>\n",
       "    </tr>\n",
       "  </tbody>\n",
       "</table>\n",
       "</div>"
      ],
      "text/plain": [
       "                 gender\n",
       "name                   \n",
       "Ben   It's a male name.\n",
       "Matt  It's a male name.\n",
       "Nat   It's a male name."
      ]
     },
     "execution_count": 40,
     "metadata": {},
     "output_type": "execute_result"
    }
   ],
   "source": [
    "namingfinal = naming.set_index(\"name\")\n",
    "namingfinal.head(3)"
   ]
  },
  {
   "cell_type": "code",
   "execution_count": 41,
   "metadata": {
    "collapsed": false
   },
   "outputs": [
    {
     "data": {
      "text/plain": [
       "It's a male name.                              54\n",
       "It's a female name we had to machine learn!    15\n",
       "It's a female name.                             8\n",
       "It's a male name we had to machine learn!       4\n",
       "It's an ambiguous name!                         1\n",
       "Name: gender, dtype: int64"
      ]
     },
     "execution_count": 41,
     "metadata": {},
     "output_type": "execute_result"
    }
   ],
   "source": [
    "naming.gender.value_counts()"
   ]
  },
  {
   "cell_type": "code",
   "execution_count": 67,
   "metadata": {
    "collapsed": false
   },
   "outputs": [
    {
     "data": {
      "image/png": "[encoded data removed]",
      "text/plain": [
       "<matplotlib.figure.Figure at 0x11e5596a0>"
      ]
     },
     "metadata": {},
     "output_type": "display_data"
    }
   ],
   "source": [
    "labels = [\"It's a male name.\", \"It's a female name we had to machine learn!\", \"It's a female name.\", \"It's a male name we had to machine learn!\", \"It's an ambiguous name!\"] \n",
    "colors = ['#ef2964', '#00c09d', '#48485e', '#a4a4af', '#2ca893', '#7d7f89', '#efeff6']\n",
    "plt.pie(naming.gender.value_counts(), autopct='%1.1f%%', shadow= True, colors = colors, labels = labels)\n",
    "plt.axis('equal')\n",
    "plt.show()"
   ]
  },
  {
   "cell_type": "code",
   "execution_count": 91,
   "metadata": {
    "collapsed": false
   },
   "outputs": [
    {
     "data": {
      "text/plain": [
       "Male         58\n",
       "Female       23\n",
       "Ambiguous     1\n",
       "Name: gender, dtype: int64"
      ]
     },
     "execution_count": 91,
     "metadata": {},
     "output_type": "execute_result"
    }
   ],
   "source": [
    "mf = {\"It's a female name we had to machine learn!\" : \"Female\",\n",
    "      \"It's a female name.\" : \"Female\",\n",
    "      \"It's a male name we had to machine learn!\" : \"Male\",\n",
    "      \"It's a male name.\" : \"Male\",\n",
    "      \"It's an ambiguous name!\" : \"Ambiguous\"\n",
    "      }\n",
    "namingclean = naming.replace({\"gender\" : mf})\n",
    "namingclean.gender.value_counts()"
   ]
  },
  {
   "cell_type": "code",
   "execution_count": 96,
   "metadata": {
    "collapsed": false
   },
   "outputs": [
    {
     "data": {
      "image/png": "[encoded data removed]",
      "text/plain": [
       "<matplotlib.figure.Figure at 0x11f0069e8>"
      ]
     },
     "metadata": {},
     "output_type": "display_data"
    }
   ],
   "source": [
    "labels = [\"Male\", \"Female\", \"Ambiguous\"] \n",
    "colors = ['#ef2964', '#00c09d', '#48485e', '#a4a4af', '#2ca893', '#7d7f89', '#efeff6']\n",
    "plt.pie(namingclean.gender.value_counts(), autopct='%1.1f%%', shadow= True, colors = colors, labels = labels)\n",
    "plt.axis('equal')\n",
    "plt.show()"
   ]
  },
  {
   "cell_type": "code",
   "execution_count": 86,
   "metadata": {
    "collapsed": false
   },
   "outputs": [
    {
     "data": {
      "text/plain": [
       "82"
      ]
     },
     "execution_count": 86,
     "metadata": {},
     "output_type": "execute_result"
    }
   ],
   "source": [
    "len(naming.gender)"
   ]
  },
  {
   "cell_type": "code",
   "execution_count": 152,
   "metadata": {
    "collapsed": false
   },
   "outputs": [],
   "source": [
    "springboard = pd.read_csv(\"springboarddatastudents.csv\")\n",
    "springboard = springboard.dropna(subset=['first_name'])"
   ]
  },
  {
   "cell_type": "code",
   "execution_count": 153,
   "metadata": {
    "collapsed": false
   },
   "outputs": [
    {
     "data": {
      "text/html": [
       "<div>\n",
       "<table border=\"1\" class=\"dataframe\">\n",
       "  <thead>\n",
       "    <tr style=\"text-align: right;\">\n",
       "      <th></th>\n",
       "      <th>status</th>\n",
       "      <th>email</th>\n",
       "      <th>first_name</th>\n",
       "      <th>name</th>\n",
       "    </tr>\n",
       "  </thead>\n",
       "  <tbody>\n",
       "    <tr>\n",
       "      <th>0</th>\n",
       "      <td>AC</td>\n",
       "      <td>vasu01@gmail.com</td>\n",
       "      <td>Vasu</td>\n",
       "      <td>Foundations of Data Science</td>\n",
       "    </tr>\n",
       "    <tr>\n",
       "      <th>1</th>\n",
       "      <td>AC</td>\n",
       "      <td>wlau0721@gmail.com</td>\n",
       "      <td>Wilson</td>\n",
       "      <td>Data Science Intensive</td>\n",
       "    </tr>\n",
       "    <tr>\n",
       "      <th>2</th>\n",
       "      <td>AC</td>\n",
       "      <td>jentiger82@gmail.com</td>\n",
       "      <td>Jenny</td>\n",
       "      <td>Data Science Intensive</td>\n",
       "    </tr>\n",
       "    <tr>\n",
       "      <th>4</th>\n",
       "      <td>AC</td>\n",
       "      <td>cforbes1@gmail.com</td>\n",
       "      <td>Craig</td>\n",
       "      <td>Foundations of Data Science</td>\n",
       "    </tr>\n",
       "    <tr>\n",
       "      <th>5</th>\n",
       "      <td>AC</td>\n",
       "      <td>tacastill@gmail.com</td>\n",
       "      <td>Tomas</td>\n",
       "      <td>Foundations of Data Science</td>\n",
       "    </tr>\n",
       "  </tbody>\n",
       "</table>\n",
       "</div>"
      ],
      "text/plain": [
       "  status                 email first_name                         name\n",
       "0     AC      vasu01@gmail.com       Vasu  Foundations of Data Science\n",
       "1     AC    wlau0721@gmail.com     Wilson       Data Science Intensive\n",
       "2     AC  jentiger82@gmail.com      Jenny       Data Science Intensive\n",
       "4     AC    cforbes1@gmail.com      Craig  Foundations of Data Science\n",
       "5     AC   tacastill@gmail.com      Tomas  Foundations of Data Science"
      ]
     },
     "execution_count": 153,
     "metadata": {},
     "output_type": "execute_result"
    }
   ],
   "source": [
    "springboard.head()"
   ]
  },
  {
   "cell_type": "code",
   "execution_count": 154,
   "metadata": {
    "collapsed": true
   },
   "outputs": [],
   "source": [
    "springboardname = list(springboard[\"first_name\"])"
   ]
  },
  {
   "cell_type": "code",
   "execution_count": 216,
   "metadata": {
    "collapsed": false
   },
   "outputs": [
    {
     "data": {
      "image/png": "[encoded data removed]",
      "text/plain": [
       "<matplotlib.figure.Figure at 0x11f1b9978>"
      ]
     },
     "metadata": {},
     "output_type": "display_data"
    }
   ],
   "source": [
    "namelook(springboardname)"
   ]
  },
  {
   "cell_type": "code",
   "execution_count": 217,
   "metadata": {
    "collapsed": true
   },
   "outputs": [],
   "source": [
    "springboardnametest = springboardname"
   ]
  },
  {
   "cell_type": "code",
   "execution_count": 156,
   "metadata": {
    "collapsed": false
   },
   "outputs": [
    {
     "data": {
      "text/plain": [
       "Male         58\n",
       "Female       23\n",
       "Ambiguous     1\n",
       "Name: gender, dtype: int64"
      ]
     },
     "execution_count": 156,
     "metadata": {},
     "output_type": "execute_result"
    }
   ],
   "source": [
    "mf = {\"It's a female name we had to machine learn!\" : \"Female\",\n",
    "      \"It's a female name.\" : \"Female\",\n",
    "      \"It's a male name we had to machine learn!\" : \"Male\",\n",
    "      \"It's a male name.\" : \"Male\",\n",
    "      \"It's an ambiguous name!\" : \"Ambiguous\"\n",
    "      }\n",
    "springclean = springs.replace({\"gender\" : mf})\n",
    "springclean.gender.value_counts()"
   ]
  },
  {
   "cell_type": "code",
   "execution_count": 218,
   "metadata": {
    "collapsed": true
   },
   "outputs": [],
   "source": [
    "namelistit = [(name, lookup(name)) for name in springboardnametest]\n",
    "springna, springgender = zip(*namelistit)\n",
    "springdict = {\"name\": springna, \"gender\":springgender}\n",
    "springs = pd.DataFrame(springdict)"
   ]
  },
  {
   "cell_type": "code",
   "execution_count": 222,
   "metadata": {
    "collapsed": false
   },
   "outputs": [
    {
     "data": {
      "text/plain": [
       "It's a male name.                              120\n",
       "It's a female name we had to machine learn!     41\n",
       "It's a female name.                             40\n",
       "It's a male name we had to machine learn!       32\n",
       "It's an ambiguous name!                          1\n",
       "Name: gender, dtype: int64"
      ]
     },
     "execution_count": 222,
     "metadata": {},
     "output_type": "execute_result"
    }
   ],
   "source": [
    "springs.gender.value_counts()"
   ]
  },
  {
   "cell_type": "code",
   "execution_count": 223,
   "metadata": {
    "collapsed": false
   },
   "outputs": [
    {
     "data": {
      "text/plain": [
       "234"
      ]
     },
     "execution_count": 223,
     "metadata": {},
     "output_type": "execute_result"
    }
   ],
   "source": [
    "len(springs.name)"
   ]
  }
 ],
 "metadata": {
  "anaconda-cloud": {},
  "kernelspec": {
   "display_name": "Python [Root]",
   "language": "python",
   "name": "Python [Root]"
  },
  "language_info": {
   "codemirror_mode": {
    "name": "ipython",
    "version": 3
   },
   "file_extension": ".py",
   "mimetype": "text/x-python",
   "name": "python",
   "nbconvert_exporter": "python",
   "pygments_lexer": "ipython3",
   "version": "3.5.2"
  }
 },
 "nbformat": 4,
 "nbformat_minor": 0
}
