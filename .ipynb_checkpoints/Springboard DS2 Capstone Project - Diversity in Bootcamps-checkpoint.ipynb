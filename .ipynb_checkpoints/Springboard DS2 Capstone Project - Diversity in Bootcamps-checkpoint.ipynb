{
 "cells": [
  {
   "cell_type": "code",
   "execution_count": null,
   "metadata": {
    "collapsed": true
   },
   "outputs": [],
   "source": [
    "#dataset I need: first names of all bootcamp graduates/attendees (manually/scraping) - Linkedin\n",
    "#treatment I need: classification based on first names into male/female (Naive Bayes with dictionaries of most common names?)\n",
    "\n",
    "#look at word stems\n",
    "#how many features \n",
    "#Facebook API is pretty limited--first names and genders from public profiles from Facebook\n",
    "#Find a Wikipedia project containing all the articles: organize in a taxinomy: gender/first name with labels, look into XML dumps\n",
    "#open source dictionary\n",
    "\n",
    "#two big challenges\n",
    "#Wrangling together as many as name/gender matches to create a classifier\n",
    "#Wrangling together first names of bootcamp graduates\n",
    "\n",
    "#http://stackoverflow.com/questions/33440939/cant-pip-install-packages-in-anaconda\n",
    "#https://en.wikipedia.org/wiki/Category:Feminine_given_names"
   ]
  },
  {
   "cell_type": "code",
   "execution_count": null,
   "metadata": {
    "collapsed": true
   },
   "outputs": [],
   "source": [
    "import matplotlib as mpl\n",
    "mpl.use('TkAgg')"
   ]
  },
  {
   "cell_type": "code",
   "execution_count": 3,
   "metadata": {
    "collapsed": true
   },
   "outputs": [],
   "source": [
    "import pandas as pd"
   ]
  },
  {
   "cell_type": "code",
   "execution_count": 4,
   "metadata": {
    "collapsed": false
   },
   "outputs": [
    {
     "data": {
      "text/plain": [
       "912716.5"
      ]
     },
     "execution_count": 4,
     "metadata": {},
     "output_type": "execute_result"
    }
   ],
   "source": [
    "names = pd.read_csv(\"NationalNames.csv\")\n",
    "names.head(3)\n",
    "len(names)/2"
   ]
  },
  {
   "cell_type": "code",
   "execution_count": 10,
   "metadata": {
    "collapsed": false
   },
   "outputs": [
    {
     "data": {
      "text/html": [
       "<div>\n",
       "<table border=\"1\" class=\"dataframe\">\n",
       "  <thead>\n",
       "    <tr style=\"text-align: right;\">\n",
       "      <th></th>\n",
       "      <th>Id</th>\n",
       "      <th>Name</th>\n",
       "      <th>Year</th>\n",
       "      <th>Gender</th>\n",
       "      <th>Count</th>\n",
       "    </tr>\n",
       "  </thead>\n",
       "  <tbody>\n",
       "    <tr>\n",
       "      <th>1792389</th>\n",
       "      <td>1792390</td>\n",
       "      <td>Emma</td>\n",
       "      <td>2014</td>\n",
       "      <td>F</td>\n",
       "      <td>20799</td>\n",
       "    </tr>\n",
       "    <tr>\n",
       "      <th>1792390</th>\n",
       "      <td>1792391</td>\n",
       "      <td>Olivia</td>\n",
       "      <td>2014</td>\n",
       "      <td>F</td>\n",
       "      <td>19674</td>\n",
       "    </tr>\n",
       "    <tr>\n",
       "      <th>1792391</th>\n",
       "      <td>1792392</td>\n",
       "      <td>Sophia</td>\n",
       "      <td>2014</td>\n",
       "      <td>F</td>\n",
       "      <td>18490</td>\n",
       "    </tr>\n",
       "    <tr>\n",
       "      <th>1792392</th>\n",
       "      <td>1792393</td>\n",
       "      <td>Isabella</td>\n",
       "      <td>2014</td>\n",
       "      <td>F</td>\n",
       "      <td>16950</td>\n",
       "    </tr>\n",
       "    <tr>\n",
       "      <th>1792393</th>\n",
       "      <td>1792394</td>\n",
       "      <td>Ava</td>\n",
       "      <td>2014</td>\n",
       "      <td>F</td>\n",
       "      <td>15586</td>\n",
       "    </tr>\n",
       "    <tr>\n",
       "      <th>1792394</th>\n",
       "      <td>1792395</td>\n",
       "      <td>Mia</td>\n",
       "      <td>2014</td>\n",
       "      <td>F</td>\n",
       "      <td>13442</td>\n",
       "    </tr>\n",
       "    <tr>\n",
       "      <th>1792395</th>\n",
       "      <td>1792396</td>\n",
       "      <td>Emily</td>\n",
       "      <td>2014</td>\n",
       "      <td>F</td>\n",
       "      <td>12562</td>\n",
       "    </tr>\n",
       "    <tr>\n",
       "      <th>1792396</th>\n",
       "      <td>1792397</td>\n",
       "      <td>Abigail</td>\n",
       "      <td>2014</td>\n",
       "      <td>F</td>\n",
       "      <td>11985</td>\n",
       "    </tr>\n",
       "    <tr>\n",
       "      <th>1792397</th>\n",
       "      <td>1792398</td>\n",
       "      <td>Madison</td>\n",
       "      <td>2014</td>\n",
       "      <td>F</td>\n",
       "      <td>10247</td>\n",
       "    </tr>\n",
       "    <tr>\n",
       "      <th>1792398</th>\n",
       "      <td>1792399</td>\n",
       "      <td>Charlotte</td>\n",
       "      <td>2014</td>\n",
       "      <td>F</td>\n",
       "      <td>10048</td>\n",
       "    </tr>\n",
       "    <tr>\n",
       "      <th>1792399</th>\n",
       "      <td>1792400</td>\n",
       "      <td>Harper</td>\n",
       "      <td>2014</td>\n",
       "      <td>F</td>\n",
       "      <td>9564</td>\n",
       "    </tr>\n",
       "    <tr>\n",
       "      <th>1792400</th>\n",
       "      <td>1792401</td>\n",
       "      <td>Sofia</td>\n",
       "      <td>2014</td>\n",
       "      <td>F</td>\n",
       "      <td>9542</td>\n",
       "    </tr>\n",
       "    <tr>\n",
       "      <th>1792401</th>\n",
       "      <td>1792402</td>\n",
       "      <td>Avery</td>\n",
       "      <td>2014</td>\n",
       "      <td>F</td>\n",
       "      <td>9517</td>\n",
       "    </tr>\n",
       "    <tr>\n",
       "      <th>1792402</th>\n",
       "      <td>1792403</td>\n",
       "      <td>Elizabeth</td>\n",
       "      <td>2014</td>\n",
       "      <td>F</td>\n",
       "      <td>9492</td>\n",
       "    </tr>\n",
       "    <tr>\n",
       "      <th>1792403</th>\n",
       "      <td>1792404</td>\n",
       "      <td>Amelia</td>\n",
       "      <td>2014</td>\n",
       "      <td>F</td>\n",
       "      <td>8727</td>\n",
       "    </tr>\n",
       "    <tr>\n",
       "      <th>1792404</th>\n",
       "      <td>1792405</td>\n",
       "      <td>Evelyn</td>\n",
       "      <td>2014</td>\n",
       "      <td>F</td>\n",
       "      <td>8692</td>\n",
       "    </tr>\n",
       "    <tr>\n",
       "      <th>1792405</th>\n",
       "      <td>1792406</td>\n",
       "      <td>Ella</td>\n",
       "      <td>2014</td>\n",
       "      <td>F</td>\n",
       "      <td>8489</td>\n",
       "    </tr>\n",
       "    <tr>\n",
       "      <th>1792406</th>\n",
       "      <td>1792407</td>\n",
       "      <td>Chloe</td>\n",
       "      <td>2014</td>\n",
       "      <td>F</td>\n",
       "      <td>8469</td>\n",
       "    </tr>\n",
       "    <tr>\n",
       "      <th>1792407</th>\n",
       "      <td>1792408</td>\n",
       "      <td>Victoria</td>\n",
       "      <td>2014</td>\n",
       "      <td>F</td>\n",
       "      <td>7955</td>\n",
       "    </tr>\n",
       "    <tr>\n",
       "      <th>1792408</th>\n",
       "      <td>1792409</td>\n",
       "      <td>Aubrey</td>\n",
       "      <td>2014</td>\n",
       "      <td>F</td>\n",
       "      <td>7589</td>\n",
       "    </tr>\n",
       "  </tbody>\n",
       "</table>\n",
       "</div>"
      ],
      "text/plain": [
       "              Id       Name  Year Gender  Count\n",
       "1792389  1792390       Emma  2014      F  20799\n",
       "1792390  1792391     Olivia  2014      F  19674\n",
       "1792391  1792392     Sophia  2014      F  18490\n",
       "1792392  1792393   Isabella  2014      F  16950\n",
       "1792393  1792394        Ava  2014      F  15586\n",
       "1792394  1792395        Mia  2014      F  13442\n",
       "1792395  1792396      Emily  2014      F  12562\n",
       "1792396  1792397    Abigail  2014      F  11985\n",
       "1792397  1792398    Madison  2014      F  10247\n",
       "1792398  1792399  Charlotte  2014      F  10048\n",
       "1792399  1792400     Harper  2014      F   9564\n",
       "1792400  1792401      Sofia  2014      F   9542\n",
       "1792401  1792402      Avery  2014      F   9517\n",
       "1792402  1792403  Elizabeth  2014      F   9492\n",
       "1792403  1792404     Amelia  2014      F   8727\n",
       "1792404  1792405     Evelyn  2014      F   8692\n",
       "1792405  1792406       Ella  2014      F   8489\n",
       "1792406  1792407      Chloe  2014      F   8469\n",
       "1792407  1792408   Victoria  2014      F   7955\n",
       "1792408  1792409     Aubrey  2014      F   7589"
      ]
     },
     "execution_count": 10,
     "metadata": {},
     "output_type": "execute_result"
    }
   ],
   "source": [
    "now = names[names.Year == 2014]\n",
    "now.head(20)\n",
    "#groupby and do gender count by name : Name, Gender, Count\n",
    "#using data from all of the years could be useful ex: edge cases like winfred\n",
    "#consider adding UK name set\n",
    "#consider looking into pivottable : http://pandas.pydata.org/pandas-docs/stable/reshaping.html\n",
    "\n",
    "#binary classification can be used for names in the table\n",
    "#Naive Bayes model can be built on character traits and character transitions to define a name not in the table \n",
    "#go through coursereport and take 500 names\n",
    "\n",
    "#Action items for next week\n",
    "#1 - Clean up the dataframe here, do a first pass for the gender classifier\n",
    "#2 - Draft more on the story of the project\n",
    "#3 - Use requests and BS4 and get at least 300-500 names from CourseReport"
   ]
  },
  {
   "cell_type": "code",
   "execution_count": 12,
   "metadata": {
    "collapsed": false
   },
   "outputs": [
    {
     "data": {
      "text/html": [
       "<div>\n",
       "<table border=\"1\" class=\"dataframe\">\n",
       "  <thead>\n",
       "    <tr style=\"text-align: right;\">\n",
       "      <th></th>\n",
       "      <th>Id</th>\n",
       "      <th>Name</th>\n",
       "      <th>Year</th>\n",
       "      <th>Gender</th>\n",
       "      <th>Count</th>\n",
       "    </tr>\n",
       "  </thead>\n",
       "  <tbody>\n",
       "    <tr>\n",
       "      <th>1811456</th>\n",
       "      <td>1811457</td>\n",
       "      <td>Noah</td>\n",
       "      <td>2014</td>\n",
       "      <td>M</td>\n",
       "      <td>19144</td>\n",
       "    </tr>\n",
       "    <tr>\n",
       "      <th>1811457</th>\n",
       "      <td>1811458</td>\n",
       "      <td>Liam</td>\n",
       "      <td>2014</td>\n",
       "      <td>M</td>\n",
       "      <td>18342</td>\n",
       "    </tr>\n",
       "    <tr>\n",
       "      <th>1811458</th>\n",
       "      <td>1811459</td>\n",
       "      <td>Mason</td>\n",
       "      <td>2014</td>\n",
       "      <td>M</td>\n",
       "      <td>17092</td>\n",
       "    </tr>\n",
       "  </tbody>\n",
       "</table>\n",
       "</div>"
      ],
      "text/plain": [
       "              Id   Name  Year Gender  Count\n",
       "1811456  1811457   Noah  2014      M  19144\n",
       "1811457  1811458   Liam  2014      M  18342\n",
       "1811458  1811459  Mason  2014      M  17092"
      ]
     },
     "execution_count": 12,
     "metadata": {},
     "output_type": "execute_result"
    }
   ],
   "source": [
    "nowmale = now[now.Gender == \"M\"]\n",
    "nowmale.head(3)"
   ]
  },
  {
   "cell_type": "code",
   "execution_count": 13,
   "metadata": {
    "collapsed": false
   },
   "outputs": [
    {
     "data": {
      "text/html": [
       "<div>\n",
       "<table border=\"1\" class=\"dataframe\">\n",
       "  <thead>\n",
       "    <tr style=\"text-align: right;\">\n",
       "      <th></th>\n",
       "      <th>Id</th>\n",
       "      <th>Name</th>\n",
       "      <th>Year</th>\n",
       "      <th>Gender</th>\n",
       "      <th>Count</th>\n",
       "    </tr>\n",
       "  </thead>\n",
       "  <tbody>\n",
       "    <tr>\n",
       "      <th>1792389</th>\n",
       "      <td>1792390</td>\n",
       "      <td>Emma</td>\n",
       "      <td>2014</td>\n",
       "      <td>F</td>\n",
       "      <td>20799</td>\n",
       "    </tr>\n",
       "    <tr>\n",
       "      <th>1818165</th>\n",
       "      <td>1818166</td>\n",
       "      <td>Emma</td>\n",
       "      <td>2014</td>\n",
       "      <td>M</td>\n",
       "      <td>12</td>\n",
       "    </tr>\n",
       "  </tbody>\n",
       "</table>\n",
       "</div>"
      ],
      "text/plain": [
       "              Id  Name  Year Gender  Count\n",
       "1792389  1792390  Emma  2014      F  20799\n",
       "1818165  1818166  Emma  2014      M     12"
      ]
     },
     "execution_count": 13,
     "metadata": {},
     "output_type": "execute_result"
    }
   ],
   "source": [
    "nowemma = now[now.Name == \"Emma\"]\n",
    "nowemma.head(3)"
   ]
  },
  {
   "cell_type": "code",
   "execution_count": 1,
   "metadata": {
    "collapsed": false
   },
   "outputs": [
    {
     "name": "stdout",
     "output_type": "stream",
     "text": [
      "Collecting seaborn\n",
      "  Downloading seaborn-0.7.1.tar.gz (158kB)\n",
      "\u001b[K    100% |████████████████████████████████| 163kB 245kB/s \n",
      "\u001b[?25hBuilding wheels for collected packages: seaborn\n",
      "  Running setup.py bdist_wheel for seaborn ... \u001b[?25l-\b \b\\\b \b|\b \b/\b \b-\b \b\\\b \bdone\n",
      "\u001b[?25h  Stored in directory: /Users/rogerhuang/Library/Caches/pip/wheels/cb/c8/67/83d615c0ef9b529558525aa521025b183de8c5b156799b091e\n",
      "Successfully built seaborn\n",
      "Installing collected packages: seaborn\n",
      "Successfully installed seaborn-0.7.1\n"
     ]
    }
   ],
   "source": [
    "!pip install seaborn"
   ]
  },
  {
   "cell_type": "code",
   "execution_count": 20,
   "metadata": {
    "collapsed": false
   },
   "outputs": [
    {
     "name": "stderr",
     "output_type": "stream",
     "text": [
      "/Users/rogerhuang/downloads/ENTER/lib/python3.5/site-packages/matplotlib/__init__.py:1357: UserWarning:  This call to matplotlib.use() has no effect\n",
      "because the backend has already been chosen;\n",
      "matplotlib.use() must be called *before* pylab, matplotlib.pyplot,\n",
      "or matplotlib.backends is imported for the first time.\n",
      "\n",
      "  warnings.warn(_use_error_msg)\n"
     ]
    },
    {
     "ename": "RuntimeError",
     "evalue": "Python is not installed as a framework. The Mac OS X backend will not be able to function correctly if Python is not installed as a framework. See the Python documentation for more information on installing Python as a framework on Mac OS X. Please either reinstall Python as a framework, or try one of the other backends. If you are Working with Matplotlib in a virtual enviroment see 'Working with Matplotlib in Virtual environments' in the Matplotlib FAQ",
     "output_type": "error",
     "traceback": [
      "\u001b[0;31m---------------------------------------------------------------------------\u001b[0m",
      "\u001b[0;31mRuntimeError\u001b[0m                              Traceback (most recent call last)",
      "\u001b[0;32m<ipython-input-20-26ab0e22240f>\u001b[0m in \u001b[0;36m<module>\u001b[0;34m()\u001b[0m\n\u001b[1;32m      1\u001b[0m \u001b[0;32mimport\u001b[0m \u001b[0mmatplotlib\u001b[0m\u001b[0;34m\u001b[0m\u001b[0m\n\u001b[1;32m      2\u001b[0m \u001b[0mmpl\u001b[0m\u001b[0;34m.\u001b[0m\u001b[0muse\u001b[0m\u001b[0;34m(\u001b[0m\u001b[0;34m'TkAgg'\u001b[0m\u001b[0;34m)\u001b[0m\u001b[0;34m\u001b[0m\u001b[0m\n\u001b[0;32m----> 3\u001b[0;31m \u001b[0;32mimport\u001b[0m \u001b[0mseaborn\u001b[0m\u001b[0;34m\u001b[0m\u001b[0m\n\u001b[0m",
      "\u001b[0;32m/Users/rogerhuang/downloads/ENTER/lib/python3.5/site-packages/seaborn/__init__.py\u001b[0m in \u001b[0;36m<module>\u001b[0;34m()\u001b[0m\n\u001b[1;32m      4\u001b[0m \u001b[0;34m\u001b[0m\u001b[0m\n\u001b[1;32m      5\u001b[0m \u001b[0;31m# Import seaborn objects\u001b[0m\u001b[0;34m\u001b[0m\u001b[0;34m\u001b[0m\u001b[0m\n\u001b[0;32m----> 6\u001b[0;31m \u001b[0;32mfrom\u001b[0m \u001b[0;34m.\u001b[0m\u001b[0mrcmod\u001b[0m \u001b[0;32mimport\u001b[0m \u001b[0;34m*\u001b[0m\u001b[0;34m\u001b[0m\u001b[0m\n\u001b[0m\u001b[1;32m      7\u001b[0m \u001b[0;32mfrom\u001b[0m \u001b[0;34m.\u001b[0m\u001b[0mutils\u001b[0m \u001b[0;32mimport\u001b[0m \u001b[0;34m*\u001b[0m\u001b[0;34m\u001b[0m\u001b[0m\n\u001b[1;32m      8\u001b[0m \u001b[0;32mfrom\u001b[0m \u001b[0;34m.\u001b[0m\u001b[0mpalettes\u001b[0m \u001b[0;32mimport\u001b[0m \u001b[0;34m*\u001b[0m\u001b[0;34m\u001b[0m\u001b[0m\n",
      "\u001b[0;32m/Users/rogerhuang/downloads/ENTER/lib/python3.5/site-packages/seaborn/rcmod.py\u001b[0m in \u001b[0;36m<module>\u001b[0;34m()\u001b[0m\n\u001b[1;32m      6\u001b[0m \u001b[0;32mimport\u001b[0m \u001b[0mmatplotlib\u001b[0m \u001b[0;32mas\u001b[0m \u001b[0mmpl\u001b[0m\u001b[0;34m\u001b[0m\u001b[0m\n\u001b[1;32m      7\u001b[0m \u001b[0;34m\u001b[0m\u001b[0m\n\u001b[0;32m----> 8\u001b[0;31m \u001b[0;32mfrom\u001b[0m \u001b[0;34m.\u001b[0m \u001b[0;32mimport\u001b[0m \u001b[0mpalettes\u001b[0m\u001b[0;34m,\u001b[0m \u001b[0m_orig_rc_params\u001b[0m\u001b[0;34m\u001b[0m\u001b[0m\n\u001b[0m\u001b[1;32m      9\u001b[0m \u001b[0;34m\u001b[0m\u001b[0m\n\u001b[1;32m     10\u001b[0m \u001b[0;34m\u001b[0m\u001b[0m\n",
      "\u001b[0;32m/Users/rogerhuang/downloads/ENTER/lib/python3.5/site-packages/seaborn/palettes.py\u001b[0m in \u001b[0;36m<module>\u001b[0;34m()\u001b[0m\n\u001b[1;32m     10\u001b[0m \u001b[0;32mfrom\u001b[0m \u001b[0;34m.\u001b[0m\u001b[0mexternal\u001b[0m\u001b[0;34m.\u001b[0m\u001b[0msix\u001b[0m\u001b[0;34m.\u001b[0m\u001b[0mmoves\u001b[0m \u001b[0;32mimport\u001b[0m \u001b[0mrange\u001b[0m\u001b[0;34m\u001b[0m\u001b[0m\n\u001b[1;32m     11\u001b[0m \u001b[0;34m\u001b[0m\u001b[0m\n\u001b[0;32m---> 12\u001b[0;31m \u001b[0;32mfrom\u001b[0m \u001b[0;34m.\u001b[0m\u001b[0mutils\u001b[0m \u001b[0;32mimport\u001b[0m \u001b[0mdesaturate\u001b[0m\u001b[0;34m,\u001b[0m \u001b[0mset_hls_values\u001b[0m\u001b[0;34m,\u001b[0m \u001b[0mget_color_cycle\u001b[0m\u001b[0;34m\u001b[0m\u001b[0m\n\u001b[0m\u001b[1;32m     13\u001b[0m \u001b[0;32mfrom\u001b[0m \u001b[0;34m.\u001b[0m\u001b[0mxkcd_rgb\u001b[0m \u001b[0;32mimport\u001b[0m \u001b[0mxkcd_rgb\u001b[0m\u001b[0;34m\u001b[0m\u001b[0m\n\u001b[1;32m     14\u001b[0m \u001b[0;32mfrom\u001b[0m \u001b[0;34m.\u001b[0m\u001b[0mcrayons\u001b[0m \u001b[0;32mimport\u001b[0m \u001b[0mcrayons\u001b[0m\u001b[0;34m\u001b[0m\u001b[0m\n",
      "\u001b[0;32m/Users/rogerhuang/downloads/ENTER/lib/python3.5/site-packages/seaborn/utils.py\u001b[0m in \u001b[0;36m<module>\u001b[0;34m()\u001b[0m\n\u001b[1;32m     10\u001b[0m \u001b[0;32mimport\u001b[0m \u001b[0mmatplotlib\u001b[0m \u001b[0;32mas\u001b[0m \u001b[0mmpl\u001b[0m\u001b[0;34m\u001b[0m\u001b[0m\n\u001b[1;32m     11\u001b[0m \u001b[0;32mimport\u001b[0m \u001b[0mmatplotlib\u001b[0m\u001b[0;34m.\u001b[0m\u001b[0mcolors\u001b[0m \u001b[0;32mas\u001b[0m \u001b[0mmplcol\u001b[0m\u001b[0;34m\u001b[0m\u001b[0m\n\u001b[0;32m---> 12\u001b[0;31m \u001b[0;32mimport\u001b[0m \u001b[0mmatplotlib\u001b[0m\u001b[0;34m.\u001b[0m\u001b[0mpyplot\u001b[0m \u001b[0;32mas\u001b[0m \u001b[0mplt\u001b[0m\u001b[0;34m\u001b[0m\u001b[0m\n\u001b[0m\u001b[1;32m     13\u001b[0m \u001b[0;34m\u001b[0m\u001b[0m\n\u001b[1;32m     14\u001b[0m \u001b[0;32mfrom\u001b[0m \u001b[0mdistutils\u001b[0m\u001b[0;34m.\u001b[0m\u001b[0mversion\u001b[0m \u001b[0;32mimport\u001b[0m \u001b[0mLooseVersion\u001b[0m\u001b[0;34m\u001b[0m\u001b[0m\n",
      "\u001b[0;32m/Users/rogerhuang/downloads/ENTER/lib/python3.5/site-packages/matplotlib/pyplot.py\u001b[0m in \u001b[0;36m<module>\u001b[0;34m()\u001b[0m\n\u001b[1;32m    112\u001b[0m \u001b[0;34m\u001b[0m\u001b[0m\n\u001b[1;32m    113\u001b[0m \u001b[0;32mfrom\u001b[0m \u001b[0mmatplotlib\u001b[0m\u001b[0;34m.\u001b[0m\u001b[0mbackends\u001b[0m \u001b[0;32mimport\u001b[0m \u001b[0mpylab_setup\u001b[0m\u001b[0;34m\u001b[0m\u001b[0m\n\u001b[0;32m--> 114\u001b[0;31m \u001b[0m_backend_mod\u001b[0m\u001b[0;34m,\u001b[0m \u001b[0mnew_figure_manager\u001b[0m\u001b[0;34m,\u001b[0m \u001b[0mdraw_if_interactive\u001b[0m\u001b[0;34m,\u001b[0m \u001b[0m_show\u001b[0m \u001b[0;34m=\u001b[0m \u001b[0mpylab_setup\u001b[0m\u001b[0;34m(\u001b[0m\u001b[0;34m)\u001b[0m\u001b[0;34m\u001b[0m\u001b[0m\n\u001b[0m\u001b[1;32m    115\u001b[0m \u001b[0;34m\u001b[0m\u001b[0m\n\u001b[1;32m    116\u001b[0m \u001b[0m_IP_REGISTERED\u001b[0m \u001b[0;34m=\u001b[0m \u001b[0;32mNone\u001b[0m\u001b[0;34m\u001b[0m\u001b[0m\n",
      "\u001b[0;32m/Users/rogerhuang/downloads/ENTER/lib/python3.5/site-packages/matplotlib/backends/__init__.py\u001b[0m in \u001b[0;36mpylab_setup\u001b[0;34m()\u001b[0m\n\u001b[1;32m     30\u001b[0m     \u001b[0;31m# imports. 0 means only perform absolute imports.\u001b[0m\u001b[0;34m\u001b[0m\u001b[0;34m\u001b[0m\u001b[0m\n\u001b[1;32m     31\u001b[0m     backend_mod = __import__(backend_name,\n\u001b[0;32m---> 32\u001b[0;31m                              globals(),locals(),[backend_name],0)\n\u001b[0m\u001b[1;32m     33\u001b[0m \u001b[0;34m\u001b[0m\u001b[0m\n\u001b[1;32m     34\u001b[0m     \u001b[0;31m# Things we pull in from all backends\u001b[0m\u001b[0;34m\u001b[0m\u001b[0;34m\u001b[0m\u001b[0m\n",
      "\u001b[0;32m/Users/rogerhuang/downloads/ENTER/lib/python3.5/site-packages/matplotlib/backends/backend_macosx.py\u001b[0m in \u001b[0;36m<module>\u001b[0;34m()\u001b[0m\n\u001b[1;32m     22\u001b[0m \u001b[0;34m\u001b[0m\u001b[0m\n\u001b[1;32m     23\u001b[0m \u001b[0;32mimport\u001b[0m \u001b[0mmatplotlib\u001b[0m\u001b[0;34m\u001b[0m\u001b[0m\n\u001b[0;32m---> 24\u001b[0;31m \u001b[0;32mfrom\u001b[0m \u001b[0mmatplotlib\u001b[0m\u001b[0;34m.\u001b[0m\u001b[0mbackends\u001b[0m \u001b[0;32mimport\u001b[0m \u001b[0m_macosx\u001b[0m\u001b[0;34m\u001b[0m\u001b[0m\n\u001b[0m\u001b[1;32m     25\u001b[0m \u001b[0;34m\u001b[0m\u001b[0m\n\u001b[1;32m     26\u001b[0m \u001b[0;34m\u001b[0m\u001b[0m\n",
      "\u001b[0;31mRuntimeError\u001b[0m: Python is not installed as a framework. The Mac OS X backend will not be able to function correctly if Python is not installed as a framework. See the Python documentation for more information on installing Python as a framework on Mac OS X. Please either reinstall Python as a framework, or try one of the other backends. If you are Working with Matplotlib in a virtual enviroment see 'Working with Matplotlib in Virtual environments' in the Matplotlib FAQ"
     ]
    }
   ],
   "source": [
    "import matplotlib\n",
    "import seaborn\n"
   ]
  },
  {
   "cell_type": "code",
   "execution_count": 13,
   "metadata": {
    "collapsed": false
   },
   "outputs": [
    {
     "data": {
      "text/html": [
       "<div>\n",
       "<table border=\"1\" class=\"dataframe\">\n",
       "  <thead>\n",
       "    <tr style=\"text-align: right;\">\n",
       "      <th></th>\n",
       "      <th>Id</th>\n",
       "      <th>Name</th>\n",
       "      <th>Year</th>\n",
       "      <th>Gender</th>\n",
       "      <th>Count</th>\n",
       "    </tr>\n",
       "  </thead>\n",
       "  <tbody>\n",
       "    <tr>\n",
       "      <th>412324</th>\n",
       "      <td>412325</td>\n",
       "      <td>Mary</td>\n",
       "      <td>1945</td>\n",
       "      <td>F</td>\n",
       "      <td>59284</td>\n",
       "    </tr>\n",
       "    <tr>\n",
       "      <th>412325</th>\n",
       "      <td>412326</td>\n",
       "      <td>Linda</td>\n",
       "      <td>1945</td>\n",
       "      <td>F</td>\n",
       "      <td>41465</td>\n",
       "    </tr>\n",
       "    <tr>\n",
       "      <th>412326</th>\n",
       "      <td>412327</td>\n",
       "      <td>Barbara</td>\n",
       "      <td>1945</td>\n",
       "      <td>F</td>\n",
       "      <td>38272</td>\n",
       "    </tr>\n",
       "    <tr>\n",
       "      <th>412327</th>\n",
       "      <td>412328</td>\n",
       "      <td>Patricia</td>\n",
       "      <td>1945</td>\n",
       "      <td>F</td>\n",
       "      <td>35841</td>\n",
       "    </tr>\n",
       "    <tr>\n",
       "      <th>412328</th>\n",
       "      <td>412329</td>\n",
       "      <td>Carol</td>\n",
       "      <td>1945</td>\n",
       "      <td>F</td>\n",
       "      <td>30387</td>\n",
       "    </tr>\n",
       "    <tr>\n",
       "      <th>412329</th>\n",
       "      <td>412330</td>\n",
       "      <td>Sandra</td>\n",
       "      <td>1945</td>\n",
       "      <td>F</td>\n",
       "      <td>24700</td>\n",
       "    </tr>\n",
       "    <tr>\n",
       "      <th>412330</th>\n",
       "      <td>412331</td>\n",
       "      <td>Nancy</td>\n",
       "      <td>1945</td>\n",
       "      <td>F</td>\n",
       "      <td>21454</td>\n",
       "    </tr>\n",
       "    <tr>\n",
       "      <th>412331</th>\n",
       "      <td>412332</td>\n",
       "      <td>Sharon</td>\n",
       "      <td>1945</td>\n",
       "      <td>F</td>\n",
       "      <td>20832</td>\n",
       "    </tr>\n",
       "    <tr>\n",
       "      <th>412332</th>\n",
       "      <td>412333</td>\n",
       "      <td>Judith</td>\n",
       "      <td>1945</td>\n",
       "      <td>F</td>\n",
       "      <td>20187</td>\n",
       "    </tr>\n",
       "    <tr>\n",
       "      <th>412333</th>\n",
       "      <td>412334</td>\n",
       "      <td>Susan</td>\n",
       "      <td>1945</td>\n",
       "      <td>F</td>\n",
       "      <td>19223</td>\n",
       "    </tr>\n",
       "  </tbody>\n",
       "</table>\n",
       "</div>"
      ],
      "text/plain": [
       "            Id      Name  Year Gender  Count\n",
       "412324  412325      Mary  1945      F  59284\n",
       "412325  412326     Linda  1945      F  41465\n",
       "412326  412327   Barbara  1945      F  38272\n",
       "412327  412328  Patricia  1945      F  35841\n",
       "412328  412329     Carol  1945      F  30387\n",
       "412329  412330    Sandra  1945      F  24700\n",
       "412330  412331     Nancy  1945      F  21454\n",
       "412331  412332    Sharon  1945      F  20832\n",
       "412332  412333    Judith  1945      F  20187\n",
       "412333  412334     Susan  1945      F  19223"
      ]
     },
     "execution_count": 13,
     "metadata": {},
     "output_type": "execute_result"
    }
   ],
   "source": [
    "fortyfive = names[names.Year == 1945]\n",
    "fortyfive.head(10)"
   ]
  },
  {
   "cell_type": "code",
   "execution_count": 14,
   "metadata": {
    "collapsed": false
   },
   "outputs": [
    {
     "data": {
      "text/html": [
       "<div>\n",
       "<table border=\"1\" class=\"dataframe\">\n",
       "  <thead>\n",
       "    <tr style=\"text-align: right;\">\n",
       "      <th></th>\n",
       "      <th>Id</th>\n",
       "      <th>Name</th>\n",
       "      <th>Year</th>\n",
       "      <th>Gender</th>\n",
       "      <th>Count</th>\n",
       "    </tr>\n",
       "  </thead>\n",
       "  <tbody>\n",
       "    <tr>\n",
       "      <th>417567</th>\n",
       "      <td>417568</td>\n",
       "      <td>James</td>\n",
       "      <td>1945</td>\n",
       "      <td>M</td>\n",
       "      <td>74450</td>\n",
       "    </tr>\n",
       "    <tr>\n",
       "      <th>417568</th>\n",
       "      <td>417569</td>\n",
       "      <td>Robert</td>\n",
       "      <td>1945</td>\n",
       "      <td>M</td>\n",
       "      <td>69926</td>\n",
       "    </tr>\n",
       "    <tr>\n",
       "      <th>417569</th>\n",
       "      <td>417570</td>\n",
       "      <td>John</td>\n",
       "      <td>1945</td>\n",
       "      <td>M</td>\n",
       "      <td>66123</td>\n",
       "    </tr>\n",
       "    <tr>\n",
       "      <th>417570</th>\n",
       "      <td>417571</td>\n",
       "      <td>William</td>\n",
       "      <td>1945</td>\n",
       "      <td>M</td>\n",
       "      <td>50209</td>\n",
       "    </tr>\n",
       "    <tr>\n",
       "      <th>417571</th>\n",
       "      <td>417572</td>\n",
       "      <td>Richard</td>\n",
       "      <td>1945</td>\n",
       "      <td>M</td>\n",
       "      <td>46045</td>\n",
       "    </tr>\n",
       "  </tbody>\n",
       "</table>\n",
       "</div>"
      ],
      "text/plain": [
       "            Id     Name  Year Gender  Count\n",
       "417567  417568    James  1945      M  74450\n",
       "417568  417569   Robert  1945      M  69926\n",
       "417569  417570     John  1945      M  66123\n",
       "417570  417571  William  1945      M  50209\n",
       "417571  417572  Richard  1945      M  46045"
      ]
     },
     "execution_count": 14,
     "metadata": {},
     "output_type": "execute_result"
    }
   ],
   "source": [
    "fortyfivemen = fortyfive[fortyfive.Gender == \"M\"]\n",
    "fortyfivemen.head(5)"
   ]
  },
  {
   "cell_type": "code",
   "execution_count": 15,
   "metadata": {
    "collapsed": false
   },
   "outputs": [
    {
     "data": {
      "text/html": [
       "<div>\n",
       "<table border=\"1\" class=\"dataframe\">\n",
       "  <thead>\n",
       "    <tr style=\"text-align: right;\">\n",
       "      <th></th>\n",
       "      <th>Id</th>\n",
       "      <th>Name</th>\n",
       "      <th>Year</th>\n",
       "      <th>Gender</th>\n",
       "      <th>Count</th>\n",
       "    </tr>\n",
       "  </thead>\n",
       "  <tbody>\n",
       "    <tr>\n",
       "      <th>421344</th>\n",
       "      <td>421345</td>\n",
       "      <td>Ysmael</td>\n",
       "      <td>1945</td>\n",
       "      <td>M</td>\n",
       "      <td>5</td>\n",
       "    </tr>\n",
       "    <tr>\n",
       "      <th>421345</th>\n",
       "      <td>421346</td>\n",
       "      <td>Zacarias</td>\n",
       "      <td>1945</td>\n",
       "      <td>M</td>\n",
       "      <td>5</td>\n",
       "    </tr>\n",
       "    <tr>\n",
       "      <th>421346</th>\n",
       "      <td>421347</td>\n",
       "      <td>Zach</td>\n",
       "      <td>1945</td>\n",
       "      <td>M</td>\n",
       "      <td>5</td>\n",
       "    </tr>\n",
       "    <tr>\n",
       "      <th>421347</th>\n",
       "      <td>421348</td>\n",
       "      <td>Zachariah</td>\n",
       "      <td>1945</td>\n",
       "      <td>M</td>\n",
       "      <td>5</td>\n",
       "    </tr>\n",
       "    <tr>\n",
       "      <th>421348</th>\n",
       "      <td>421349</td>\n",
       "      <td>Zenon</td>\n",
       "      <td>1945</td>\n",
       "      <td>M</td>\n",
       "      <td>5</td>\n",
       "    </tr>\n",
       "  </tbody>\n",
       "</table>\n",
       "</div>"
      ],
      "text/plain": [
       "            Id       Name  Year Gender  Count\n",
       "421344  421345     Ysmael  1945      M      5\n",
       "421345  421346   Zacarias  1945      M      5\n",
       "421346  421347       Zach  1945      M      5\n",
       "421347  421348  Zachariah  1945      M      5\n",
       "421348  421349      Zenon  1945      M      5"
      ]
     },
     "execution_count": 15,
     "metadata": {},
     "output_type": "execute_result"
    }
   ],
   "source": [
    "fortyfivemen.tail(5)"
   ]
  },
  {
   "cell_type": "code",
   "execution_count": null,
   "metadata": {
    "collapsed": true
   },
   "outputs": [],
   "source": []
  }
 ],
 "metadata": {
  "anaconda-cloud": {},
  "kernelspec": {
   "display_name": "Python [Root]",
   "language": "python",
   "name": "Python [Root]"
  },
  "language_info": {
   "codemirror_mode": {
    "name": "ipython",
    "version": 3
   },
   "file_extension": ".py",
   "mimetype": "text/x-python",
   "name": "python",
   "nbconvert_exporter": "python",
   "pygments_lexer": "ipython3",
   "version": "3.5.2"
  }
 },
 "nbformat": 4,
 "nbformat_minor": 0
}
