{
 "cells": [
  {
   "cell_type": "code",
   "execution_count": null,
   "metadata": {
    "collapsed": true
   },
   "outputs": [],
   "source": [
    "#dataset I need: first names of all bootcamp graduates/attendees (manually/scraping) - Linkedin\n",
    "#treatment I need: classification based on first names into male/female (Naive Bayes with dictionaries of most common names?)\n",
    "\n",
    "#look at word stems\n",
    "#how many features \n",
    "#Facebook API is pretty limited--first names and genders from public profiles from Facebook\n",
    "#Find a Wikipedia project containing all the articles: organize in a taxinomy: gender/first name with labels, look into XML dumps\n",
    "#open source dictionary\n",
    "\n",
    "#two big challenges\n",
    "#Wrangling together as many as name/gender matches to create a classifier\n",
    "#Wrangling together first names of bootcamp graduates\n",
    "\n",
    "#http://stackoverflow.com/questions/33440939/cant-pip-install-packages-in-anaconda\n",
    "#https://en.wikipedia.org/wiki/Category:Feminine_given_names"
   ]
  },
  {
   "cell_type": "code",
   "execution_count": 2,
   "metadata": {
    "collapsed": true
   },
   "outputs": [],
   "source": [
    "import pandas as pd\n",
    "import numpy as np\n",
    "from sklearn.naive_bayes import MultinomialNB\n",
    "import requests\n",
    "from bs4 import BeautifulSoup"
   ]
  },
  {
   "cell_type": "code",
   "execution_count": 1,
   "metadata": {
    "collapsed": false
   },
   "outputs": [],
   "source": [
    "import matplotlib as mlp\n",
    "mlp.use(\"TKAgg\")\n",
    "%matplotlib inline\n",
    "import matplotlib.pyplot as plt\n",
    "import seaborn as sns"
   ]
  },
  {
   "cell_type": "code",
   "execution_count": 3,
   "metadata": {
    "collapsed": false
   },
   "outputs": [
    {
     "data": {
      "text/plain": [
       "912716.5"
      ]
     },
     "execution_count": 3,
     "metadata": {},
     "output_type": "execute_result"
    }
   ],
   "source": [
    "#import columns as INT type look at read_csv documentation\n",
    "names = pd.read_csv(\"NationalNames.csv\", dtype = {'Count': np.int32})\n",
    "len(names)/2"
   ]
  },
  {
   "cell_type": "code",
   "execution_count": 4,
   "metadata": {
    "collapsed": false
   },
   "outputs": [
    {
     "data": {
      "text/html": [
       "<div>\n",
       "<table border=\"1\" class=\"dataframe\">\n",
       "  <thead>\n",
       "    <tr style=\"text-align: right;\">\n",
       "      <th></th>\n",
       "      <th>Id</th>\n",
       "      <th>Name</th>\n",
       "      <th>Year</th>\n",
       "      <th>Gender</th>\n",
       "      <th>Count</th>\n",
       "    </tr>\n",
       "  </thead>\n",
       "  <tbody>\n",
       "    <tr>\n",
       "      <th>0</th>\n",
       "      <td>1</td>\n",
       "      <td>Mary</td>\n",
       "      <td>1880</td>\n",
       "      <td>F</td>\n",
       "      <td>7065</td>\n",
       "    </tr>\n",
       "    <tr>\n",
       "      <th>1</th>\n",
       "      <td>2</td>\n",
       "      <td>Anna</td>\n",
       "      <td>1880</td>\n",
       "      <td>F</td>\n",
       "      <td>2604</td>\n",
       "    </tr>\n",
       "    <tr>\n",
       "      <th>2</th>\n",
       "      <td>3</td>\n",
       "      <td>Emma</td>\n",
       "      <td>1880</td>\n",
       "      <td>F</td>\n",
       "      <td>2003</td>\n",
       "    </tr>\n",
       "  </tbody>\n",
       "</table>\n",
       "</div>"
      ],
      "text/plain": [
       "   Id  Name  Year Gender  Count\n",
       "0   1  Mary  1880      F   7065\n",
       "1   2  Anna  1880      F   2604\n",
       "2   3  Emma  1880      F   2003"
      ]
     },
     "execution_count": 4,
     "metadata": {},
     "output_type": "execute_result"
    }
   ],
   "source": [
    "names.head(3)"
   ]
  },
  {
   "cell_type": "code",
   "execution_count": 5,
   "metadata": {
    "collapsed": false
   },
   "outputs": [
    {
     "data": {
      "text/plain": [
       "numpy.int32"
      ]
     },
     "execution_count": 5,
     "metadata": {},
     "output_type": "execute_result"
    }
   ],
   "source": [
    "type(names.Count[1])"
   ]
  },
  {
   "cell_type": "code",
   "execution_count": 6,
   "metadata": {
    "collapsed": false
   },
   "outputs": [
    {
     "data": {
      "text/html": [
       "<div>\n",
       "<table border=\"1\" class=\"dataframe\">\n",
       "  <thead>\n",
       "    <tr style=\"text-align: right;\">\n",
       "      <th></th>\n",
       "      <th>Id</th>\n",
       "      <th>Name</th>\n",
       "      <th>Year</th>\n",
       "      <th>Gender</th>\n",
       "      <th>Count</th>\n",
       "    </tr>\n",
       "  </thead>\n",
       "  <tbody>\n",
       "    <tr>\n",
       "      <th>0</th>\n",
       "      <td>1</td>\n",
       "      <td>Mary</td>\n",
       "      <td>1880</td>\n",
       "      <td>F</td>\n",
       "      <td>7065</td>\n",
       "    </tr>\n",
       "    <tr>\n",
       "      <th>1</th>\n",
       "      <td>2</td>\n",
       "      <td>Anna</td>\n",
       "      <td>1880</td>\n",
       "      <td>F</td>\n",
       "      <td>2604</td>\n",
       "    </tr>\n",
       "    <tr>\n",
       "      <th>2</th>\n",
       "      <td>3</td>\n",
       "      <td>Emma</td>\n",
       "      <td>1880</td>\n",
       "      <td>F</td>\n",
       "      <td>2003</td>\n",
       "    </tr>\n",
       "    <tr>\n",
       "      <th>3</th>\n",
       "      <td>4</td>\n",
       "      <td>Elizabeth</td>\n",
       "      <td>1880</td>\n",
       "      <td>F</td>\n",
       "      <td>1939</td>\n",
       "    </tr>\n",
       "    <tr>\n",
       "      <th>4</th>\n",
       "      <td>5</td>\n",
       "      <td>Minnie</td>\n",
       "      <td>1880</td>\n",
       "      <td>F</td>\n",
       "      <td>1746</td>\n",
       "    </tr>\n",
       "    <tr>\n",
       "      <th>5</th>\n",
       "      <td>6</td>\n",
       "      <td>Margaret</td>\n",
       "      <td>1880</td>\n",
       "      <td>F</td>\n",
       "      <td>1578</td>\n",
       "    </tr>\n",
       "    <tr>\n",
       "      <th>6</th>\n",
       "      <td>7</td>\n",
       "      <td>Ida</td>\n",
       "      <td>1880</td>\n",
       "      <td>F</td>\n",
       "      <td>1472</td>\n",
       "    </tr>\n",
       "    <tr>\n",
       "      <th>7</th>\n",
       "      <td>8</td>\n",
       "      <td>Alice</td>\n",
       "      <td>1880</td>\n",
       "      <td>F</td>\n",
       "      <td>1414</td>\n",
       "    </tr>\n",
       "    <tr>\n",
       "      <th>8</th>\n",
       "      <td>9</td>\n",
       "      <td>Bertha</td>\n",
       "      <td>1880</td>\n",
       "      <td>F</td>\n",
       "      <td>1320</td>\n",
       "    </tr>\n",
       "    <tr>\n",
       "      <th>9</th>\n",
       "      <td>10</td>\n",
       "      <td>Sarah</td>\n",
       "      <td>1880</td>\n",
       "      <td>F</td>\n",
       "      <td>1288</td>\n",
       "    </tr>\n",
       "    <tr>\n",
       "      <th>10</th>\n",
       "      <td>11</td>\n",
       "      <td>Annie</td>\n",
       "      <td>1880</td>\n",
       "      <td>F</td>\n",
       "      <td>1258</td>\n",
       "    </tr>\n",
       "    <tr>\n",
       "      <th>11</th>\n",
       "      <td>12</td>\n",
       "      <td>Clara</td>\n",
       "      <td>1880</td>\n",
       "      <td>F</td>\n",
       "      <td>1226</td>\n",
       "    </tr>\n",
       "    <tr>\n",
       "      <th>12</th>\n",
       "      <td>13</td>\n",
       "      <td>Ella</td>\n",
       "      <td>1880</td>\n",
       "      <td>F</td>\n",
       "      <td>1156</td>\n",
       "    </tr>\n",
       "    <tr>\n",
       "      <th>13</th>\n",
       "      <td>14</td>\n",
       "      <td>Florence</td>\n",
       "      <td>1880</td>\n",
       "      <td>F</td>\n",
       "      <td>1063</td>\n",
       "    </tr>\n",
       "    <tr>\n",
       "      <th>14</th>\n",
       "      <td>15</td>\n",
       "      <td>Cora</td>\n",
       "      <td>1880</td>\n",
       "      <td>F</td>\n",
       "      <td>1045</td>\n",
       "    </tr>\n",
       "    <tr>\n",
       "      <th>15</th>\n",
       "      <td>16</td>\n",
       "      <td>Martha</td>\n",
       "      <td>1880</td>\n",
       "      <td>F</td>\n",
       "      <td>1040</td>\n",
       "    </tr>\n",
       "    <tr>\n",
       "      <th>16</th>\n",
       "      <td>17</td>\n",
       "      <td>Laura</td>\n",
       "      <td>1880</td>\n",
       "      <td>F</td>\n",
       "      <td>1012</td>\n",
       "    </tr>\n",
       "    <tr>\n",
       "      <th>17</th>\n",
       "      <td>18</td>\n",
       "      <td>Nellie</td>\n",
       "      <td>1880</td>\n",
       "      <td>F</td>\n",
       "      <td>995</td>\n",
       "    </tr>\n",
       "    <tr>\n",
       "      <th>18</th>\n",
       "      <td>19</td>\n",
       "      <td>Grace</td>\n",
       "      <td>1880</td>\n",
       "      <td>F</td>\n",
       "      <td>982</td>\n",
       "    </tr>\n",
       "    <tr>\n",
       "      <th>19</th>\n",
       "      <td>20</td>\n",
       "      <td>Carrie</td>\n",
       "      <td>1880</td>\n",
       "      <td>F</td>\n",
       "      <td>949</td>\n",
       "    </tr>\n",
       "    <tr>\n",
       "      <th>20</th>\n",
       "      <td>21</td>\n",
       "      <td>Maude</td>\n",
       "      <td>1880</td>\n",
       "      <td>F</td>\n",
       "      <td>858</td>\n",
       "    </tr>\n",
       "    <tr>\n",
       "      <th>21</th>\n",
       "      <td>22</td>\n",
       "      <td>Mabel</td>\n",
       "      <td>1880</td>\n",
       "      <td>F</td>\n",
       "      <td>808</td>\n",
       "    </tr>\n",
       "    <tr>\n",
       "      <th>22</th>\n",
       "      <td>23</td>\n",
       "      <td>Bessie</td>\n",
       "      <td>1880</td>\n",
       "      <td>F</td>\n",
       "      <td>796</td>\n",
       "    </tr>\n",
       "    <tr>\n",
       "      <th>23</th>\n",
       "      <td>24</td>\n",
       "      <td>Jennie</td>\n",
       "      <td>1880</td>\n",
       "      <td>F</td>\n",
       "      <td>793</td>\n",
       "    </tr>\n",
       "    <tr>\n",
       "      <th>24</th>\n",
       "      <td>25</td>\n",
       "      <td>Gertrude</td>\n",
       "      <td>1880</td>\n",
       "      <td>F</td>\n",
       "      <td>787</td>\n",
       "    </tr>\n",
       "    <tr>\n",
       "      <th>25</th>\n",
       "      <td>26</td>\n",
       "      <td>Julia</td>\n",
       "      <td>1880</td>\n",
       "      <td>F</td>\n",
       "      <td>783</td>\n",
       "    </tr>\n",
       "    <tr>\n",
       "      <th>26</th>\n",
       "      <td>27</td>\n",
       "      <td>Hattie</td>\n",
       "      <td>1880</td>\n",
       "      <td>F</td>\n",
       "      <td>769</td>\n",
       "    </tr>\n",
       "    <tr>\n",
       "      <th>27</th>\n",
       "      <td>28</td>\n",
       "      <td>Edith</td>\n",
       "      <td>1880</td>\n",
       "      <td>F</td>\n",
       "      <td>768</td>\n",
       "    </tr>\n",
       "    <tr>\n",
       "      <th>28</th>\n",
       "      <td>29</td>\n",
       "      <td>Mattie</td>\n",
       "      <td>1880</td>\n",
       "      <td>F</td>\n",
       "      <td>704</td>\n",
       "    </tr>\n",
       "    <tr>\n",
       "      <th>29</th>\n",
       "      <td>30</td>\n",
       "      <td>Rose</td>\n",
       "      <td>1880</td>\n",
       "      <td>F</td>\n",
       "      <td>700</td>\n",
       "    </tr>\n",
       "    <tr>\n",
       "      <th>...</th>\n",
       "      <td>...</td>\n",
       "      <td>...</td>\n",
       "      <td>...</td>\n",
       "      <td>...</td>\n",
       "      <td>...</td>\n",
       "    </tr>\n",
       "    <tr>\n",
       "      <th>1825403</th>\n",
       "      <td>1825404</td>\n",
       "      <td>Zedrick</td>\n",
       "      <td>2014</td>\n",
       "      <td>M</td>\n",
       "      <td>5</td>\n",
       "    </tr>\n",
       "    <tr>\n",
       "      <th>1825404</th>\n",
       "      <td>1825405</td>\n",
       "      <td>Zeid</td>\n",
       "      <td>2014</td>\n",
       "      <td>M</td>\n",
       "      <td>5</td>\n",
       "    </tr>\n",
       "    <tr>\n",
       "      <th>1825405</th>\n",
       "      <td>1825406</td>\n",
       "      <td>Zeidan</td>\n",
       "      <td>2014</td>\n",
       "      <td>M</td>\n",
       "      <td>5</td>\n",
       "    </tr>\n",
       "    <tr>\n",
       "      <th>1825406</th>\n",
       "      <td>1825407</td>\n",
       "      <td>Zekeriah</td>\n",
       "      <td>2014</td>\n",
       "      <td>M</td>\n",
       "      <td>5</td>\n",
       "    </tr>\n",
       "    <tr>\n",
       "      <th>1825407</th>\n",
       "      <td>1825408</td>\n",
       "      <td>Zenas</td>\n",
       "      <td>2014</td>\n",
       "      <td>M</td>\n",
       "      <td>5</td>\n",
       "    </tr>\n",
       "    <tr>\n",
       "      <th>1825408</th>\n",
       "      <td>1825409</td>\n",
       "      <td>Zephen</td>\n",
       "      <td>2014</td>\n",
       "      <td>M</td>\n",
       "      <td>5</td>\n",
       "    </tr>\n",
       "    <tr>\n",
       "      <th>1825409</th>\n",
       "      <td>1825410</td>\n",
       "      <td>Zerick</td>\n",
       "      <td>2014</td>\n",
       "      <td>M</td>\n",
       "      <td>5</td>\n",
       "    </tr>\n",
       "    <tr>\n",
       "      <th>1825410</th>\n",
       "      <td>1825411</td>\n",
       "      <td>Zhaiden</td>\n",
       "      <td>2014</td>\n",
       "      <td>M</td>\n",
       "      <td>5</td>\n",
       "    </tr>\n",
       "    <tr>\n",
       "      <th>1825411</th>\n",
       "      <td>1825412</td>\n",
       "      <td>Zhalen</td>\n",
       "      <td>2014</td>\n",
       "      <td>M</td>\n",
       "      <td>5</td>\n",
       "    </tr>\n",
       "    <tr>\n",
       "      <th>1825412</th>\n",
       "      <td>1825413</td>\n",
       "      <td>Zhayden</td>\n",
       "      <td>2014</td>\n",
       "      <td>M</td>\n",
       "      <td>5</td>\n",
       "    </tr>\n",
       "    <tr>\n",
       "      <th>1825413</th>\n",
       "      <td>1825414</td>\n",
       "      <td>Ziar</td>\n",
       "      <td>2014</td>\n",
       "      <td>M</td>\n",
       "      <td>5</td>\n",
       "    </tr>\n",
       "    <tr>\n",
       "      <th>1825414</th>\n",
       "      <td>1825415</td>\n",
       "      <td>Zichen</td>\n",
       "      <td>2014</td>\n",
       "      <td>M</td>\n",
       "      <td>5</td>\n",
       "    </tr>\n",
       "    <tr>\n",
       "      <th>1825415</th>\n",
       "      <td>1825416</td>\n",
       "      <td>Ziden</td>\n",
       "      <td>2014</td>\n",
       "      <td>M</td>\n",
       "      <td>5</td>\n",
       "    </tr>\n",
       "    <tr>\n",
       "      <th>1825416</th>\n",
       "      <td>1825417</td>\n",
       "      <td>Zierre</td>\n",
       "      <td>2014</td>\n",
       "      <td>M</td>\n",
       "      <td>5</td>\n",
       "    </tr>\n",
       "    <tr>\n",
       "      <th>1825417</th>\n",
       "      <td>1825418</td>\n",
       "      <td>Ziion</td>\n",
       "      <td>2014</td>\n",
       "      <td>M</td>\n",
       "      <td>5</td>\n",
       "    </tr>\n",
       "    <tr>\n",
       "      <th>1825418</th>\n",
       "      <td>1825419</td>\n",
       "      <td>Zijun</td>\n",
       "      <td>2014</td>\n",
       "      <td>M</td>\n",
       "      <td>5</td>\n",
       "    </tr>\n",
       "    <tr>\n",
       "      <th>1825419</th>\n",
       "      <td>1825420</td>\n",
       "      <td>Zilas</td>\n",
       "      <td>2014</td>\n",
       "      <td>M</td>\n",
       "      <td>5</td>\n",
       "    </tr>\n",
       "    <tr>\n",
       "      <th>1825420</th>\n",
       "      <td>1825421</td>\n",
       "      <td>Zirui</td>\n",
       "      <td>2014</td>\n",
       "      <td>M</td>\n",
       "      <td>5</td>\n",
       "    </tr>\n",
       "    <tr>\n",
       "      <th>1825421</th>\n",
       "      <td>1825422</td>\n",
       "      <td>Zivon</td>\n",
       "      <td>2014</td>\n",
       "      <td>M</td>\n",
       "      <td>5</td>\n",
       "    </tr>\n",
       "    <tr>\n",
       "      <th>1825422</th>\n",
       "      <td>1825423</td>\n",
       "      <td>Ziyah</td>\n",
       "      <td>2014</td>\n",
       "      <td>M</td>\n",
       "      <td>5</td>\n",
       "    </tr>\n",
       "    <tr>\n",
       "      <th>1825423</th>\n",
       "      <td>1825424</td>\n",
       "      <td>Ziyang</td>\n",
       "      <td>2014</td>\n",
       "      <td>M</td>\n",
       "      <td>5</td>\n",
       "    </tr>\n",
       "    <tr>\n",
       "      <th>1825424</th>\n",
       "      <td>1825425</td>\n",
       "      <td>Zmarion</td>\n",
       "      <td>2014</td>\n",
       "      <td>M</td>\n",
       "      <td>5</td>\n",
       "    </tr>\n",
       "    <tr>\n",
       "      <th>1825425</th>\n",
       "      <td>1825426</td>\n",
       "      <td>Zo</td>\n",
       "      <td>2014</td>\n",
       "      <td>M</td>\n",
       "      <td>5</td>\n",
       "    </tr>\n",
       "    <tr>\n",
       "      <th>1825426</th>\n",
       "      <td>1825427</td>\n",
       "      <td>Zyeir</td>\n",
       "      <td>2014</td>\n",
       "      <td>M</td>\n",
       "      <td>5</td>\n",
       "    </tr>\n",
       "    <tr>\n",
       "      <th>1825427</th>\n",
       "      <td>1825428</td>\n",
       "      <td>Zyel</td>\n",
       "      <td>2014</td>\n",
       "      <td>M</td>\n",
       "      <td>5</td>\n",
       "    </tr>\n",
       "    <tr>\n",
       "      <th>1825428</th>\n",
       "      <td>1825429</td>\n",
       "      <td>Zykeem</td>\n",
       "      <td>2014</td>\n",
       "      <td>M</td>\n",
       "      <td>5</td>\n",
       "    </tr>\n",
       "    <tr>\n",
       "      <th>1825429</th>\n",
       "      <td>1825430</td>\n",
       "      <td>Zymeer</td>\n",
       "      <td>2014</td>\n",
       "      <td>M</td>\n",
       "      <td>5</td>\n",
       "    </tr>\n",
       "    <tr>\n",
       "      <th>1825430</th>\n",
       "      <td>1825431</td>\n",
       "      <td>Zymiere</td>\n",
       "      <td>2014</td>\n",
       "      <td>M</td>\n",
       "      <td>5</td>\n",
       "    </tr>\n",
       "    <tr>\n",
       "      <th>1825431</th>\n",
       "      <td>1825432</td>\n",
       "      <td>Zyran</td>\n",
       "      <td>2014</td>\n",
       "      <td>M</td>\n",
       "      <td>5</td>\n",
       "    </tr>\n",
       "    <tr>\n",
       "      <th>1825432</th>\n",
       "      <td>1825433</td>\n",
       "      <td>Zyrin</td>\n",
       "      <td>2014</td>\n",
       "      <td>M</td>\n",
       "      <td>5</td>\n",
       "    </tr>\n",
       "  </tbody>\n",
       "</table>\n",
       "<p>1825433 rows × 5 columns</p>\n",
       "</div>"
      ],
      "text/plain": [
       "              Id       Name  Year Gender  Count\n",
       "0              1       Mary  1880      F   7065\n",
       "1              2       Anna  1880      F   2604\n",
       "2              3       Emma  1880      F   2003\n",
       "3              4  Elizabeth  1880      F   1939\n",
       "4              5     Minnie  1880      F   1746\n",
       "5              6   Margaret  1880      F   1578\n",
       "6              7        Ida  1880      F   1472\n",
       "7              8      Alice  1880      F   1414\n",
       "8              9     Bertha  1880      F   1320\n",
       "9             10      Sarah  1880      F   1288\n",
       "10            11      Annie  1880      F   1258\n",
       "11            12      Clara  1880      F   1226\n",
       "12            13       Ella  1880      F   1156\n",
       "13            14   Florence  1880      F   1063\n",
       "14            15       Cora  1880      F   1045\n",
       "15            16     Martha  1880      F   1040\n",
       "16            17      Laura  1880      F   1012\n",
       "17            18     Nellie  1880      F    995\n",
       "18            19      Grace  1880      F    982\n",
       "19            20     Carrie  1880      F    949\n",
       "20            21      Maude  1880      F    858\n",
       "21            22      Mabel  1880      F    808\n",
       "22            23     Bessie  1880      F    796\n",
       "23            24     Jennie  1880      F    793\n",
       "24            25   Gertrude  1880      F    787\n",
       "25            26      Julia  1880      F    783\n",
       "26            27     Hattie  1880      F    769\n",
       "27            28      Edith  1880      F    768\n",
       "28            29     Mattie  1880      F    704\n",
       "29            30       Rose  1880      F    700\n",
       "...          ...        ...   ...    ...    ...\n",
       "1825403  1825404    Zedrick  2014      M      5\n",
       "1825404  1825405       Zeid  2014      M      5\n",
       "1825405  1825406     Zeidan  2014      M      5\n",
       "1825406  1825407   Zekeriah  2014      M      5\n",
       "1825407  1825408      Zenas  2014      M      5\n",
       "1825408  1825409     Zephen  2014      M      5\n",
       "1825409  1825410     Zerick  2014      M      5\n",
       "1825410  1825411    Zhaiden  2014      M      5\n",
       "1825411  1825412     Zhalen  2014      M      5\n",
       "1825412  1825413    Zhayden  2014      M      5\n",
       "1825413  1825414       Ziar  2014      M      5\n",
       "1825414  1825415     Zichen  2014      M      5\n",
       "1825415  1825416      Ziden  2014      M      5\n",
       "1825416  1825417     Zierre  2014      M      5\n",
       "1825417  1825418      Ziion  2014      M      5\n",
       "1825418  1825419      Zijun  2014      M      5\n",
       "1825419  1825420      Zilas  2014      M      5\n",
       "1825420  1825421      Zirui  2014      M      5\n",
       "1825421  1825422      Zivon  2014      M      5\n",
       "1825422  1825423      Ziyah  2014      M      5\n",
       "1825423  1825424     Ziyang  2014      M      5\n",
       "1825424  1825425    Zmarion  2014      M      5\n",
       "1825425  1825426         Zo  2014      M      5\n",
       "1825426  1825427      Zyeir  2014      M      5\n",
       "1825427  1825428       Zyel  2014      M      5\n",
       "1825428  1825429     Zykeem  2014      M      5\n",
       "1825429  1825430     Zymeer  2014      M      5\n",
       "1825430  1825431    Zymiere  2014      M      5\n",
       "1825431  1825432      Zyran  2014      M      5\n",
       "1825432  1825433      Zyrin  2014      M      5\n",
       "\n",
       "[1825433 rows x 5 columns]"
      ]
     },
     "execution_count": 6,
     "metadata": {},
     "output_type": "execute_result"
    }
   ],
   "source": [
    "names.fillna(0)"
   ]
  },
  {
   "cell_type": "code",
   "execution_count": 163,
   "metadata": {
    "collapsed": false
   },
   "outputs": [
    {
     "data": {
      "text/html": [
       "<div>\n",
       "<table border=\"1\" class=\"dataframe\">\n",
       "  <thead>\n",
       "    <tr style=\"text-align: right;\">\n",
       "      <th></th>\n",
       "      <th>Id</th>\n",
       "      <th>Name</th>\n",
       "      <th>Year</th>\n",
       "      <th>Gender</th>\n",
       "      <th>Count</th>\n",
       "    </tr>\n",
       "  </thead>\n",
       "  <tbody>\n",
       "    <tr>\n",
       "      <th>0</th>\n",
       "      <td>1</td>\n",
       "      <td>Mary</td>\n",
       "      <td>1880</td>\n",
       "      <td>F</td>\n",
       "      <td>7065</td>\n",
       "    </tr>\n",
       "    <tr>\n",
       "      <th>1273</th>\n",
       "      <td>1274</td>\n",
       "      <td>Mary</td>\n",
       "      <td>1880</td>\n",
       "      <td>M</td>\n",
       "      <td>27</td>\n",
       "    </tr>\n",
       "    <tr>\n",
       "      <th>2000</th>\n",
       "      <td>2001</td>\n",
       "      <td>Mary</td>\n",
       "      <td>1881</td>\n",
       "      <td>F</td>\n",
       "      <td>6919</td>\n",
       "    </tr>\n",
       "    <tr>\n",
       "      <th>3238</th>\n",
       "      <td>3239</td>\n",
       "      <td>Mary</td>\n",
       "      <td>1881</td>\n",
       "      <td>M</td>\n",
       "      <td>29</td>\n",
       "    </tr>\n",
       "    <tr>\n",
       "      <th>3935</th>\n",
       "      <td>3936</td>\n",
       "      <td>Mary</td>\n",
       "      <td>1882</td>\n",
       "      <td>F</td>\n",
       "      <td>8148</td>\n",
       "    </tr>\n",
       "    <tr>\n",
       "      <th>5277</th>\n",
       "      <td>5278</td>\n",
       "      <td>Mary</td>\n",
       "      <td>1882</td>\n",
       "      <td>M</td>\n",
       "      <td>30</td>\n",
       "    </tr>\n",
       "    <tr>\n",
       "      <th>6062</th>\n",
       "      <td>6063</td>\n",
       "      <td>Mary</td>\n",
       "      <td>1883</td>\n",
       "      <td>F</td>\n",
       "      <td>8012</td>\n",
       "    </tr>\n",
       "    <tr>\n",
       "      <th>7407</th>\n",
       "      <td>7408</td>\n",
       "      <td>Mary</td>\n",
       "      <td>1883</td>\n",
       "      <td>M</td>\n",
       "      <td>32</td>\n",
       "    </tr>\n",
       "    <tr>\n",
       "      <th>8146</th>\n",
       "      <td>8147</td>\n",
       "      <td>Mary</td>\n",
       "      <td>1884</td>\n",
       "      <td>F</td>\n",
       "      <td>9217</td>\n",
       "    </tr>\n",
       "    <tr>\n",
       "      <th>9610</th>\n",
       "      <td>9611</td>\n",
       "      <td>Mary</td>\n",
       "      <td>1884</td>\n",
       "      <td>M</td>\n",
       "      <td>36</td>\n",
       "    </tr>\n",
       "    <tr>\n",
       "      <th>10443</th>\n",
       "      <td>10444</td>\n",
       "      <td>Mary</td>\n",
       "      <td>1885</td>\n",
       "      <td>F</td>\n",
       "      <td>9128</td>\n",
       "    </tr>\n",
       "    <tr>\n",
       "      <th>11910</th>\n",
       "      <td>11911</td>\n",
       "      <td>Mary</td>\n",
       "      <td>1885</td>\n",
       "      <td>M</td>\n",
       "      <td>38</td>\n",
       "    </tr>\n",
       "    <tr>\n",
       "      <th>12737</th>\n",
       "      <td>12738</td>\n",
       "      <td>Mary</td>\n",
       "      <td>1886</td>\n",
       "      <td>F</td>\n",
       "      <td>9890</td>\n",
       "    </tr>\n",
       "    <tr>\n",
       "      <th>14323</th>\n",
       "      <td>14324</td>\n",
       "      <td>Mary</td>\n",
       "      <td>1886</td>\n",
       "      <td>M</td>\n",
       "      <td>32</td>\n",
       "    </tr>\n",
       "    <tr>\n",
       "      <th>15129</th>\n",
       "      <td>15130</td>\n",
       "      <td>Mary</td>\n",
       "      <td>1887</td>\n",
       "      <td>F</td>\n",
       "      <td>9888</td>\n",
       "    </tr>\n",
       "    <tr>\n",
       "      <th>16671</th>\n",
       "      <td>16672</td>\n",
       "      <td>Mary</td>\n",
       "      <td>1887</td>\n",
       "      <td>M</td>\n",
       "      <td>47</td>\n",
       "    </tr>\n",
       "    <tr>\n",
       "      <th>17502</th>\n",
       "      <td>17503</td>\n",
       "      <td>Mary</td>\n",
       "      <td>1888</td>\n",
       "      <td>F</td>\n",
       "      <td>11754</td>\n",
       "    </tr>\n",
       "    <tr>\n",
       "      <th>19223</th>\n",
       "      <td>19224</td>\n",
       "      <td>Mary</td>\n",
       "      <td>1888</td>\n",
       "      <td>M</td>\n",
       "      <td>50</td>\n",
       "    </tr>\n",
       "    <tr>\n",
       "      <th>20153</th>\n",
       "      <td>20154</td>\n",
       "      <td>Mary</td>\n",
       "      <td>1889</td>\n",
       "      <td>F</td>\n",
       "      <td>11648</td>\n",
       "    </tr>\n",
       "    <tr>\n",
       "      <th>21893</th>\n",
       "      <td>21894</td>\n",
       "      <td>Mary</td>\n",
       "      <td>1889</td>\n",
       "      <td>M</td>\n",
       "      <td>41</td>\n",
       "    </tr>\n",
       "    <tr>\n",
       "      <th>22743</th>\n",
       "      <td>22744</td>\n",
       "      <td>Mary</td>\n",
       "      <td>1890</td>\n",
       "      <td>F</td>\n",
       "      <td>12078</td>\n",
       "    </tr>\n",
       "    <tr>\n",
       "      <th>24569</th>\n",
       "      <td>24570</td>\n",
       "      <td>Mary</td>\n",
       "      <td>1890</td>\n",
       "      <td>M</td>\n",
       "      <td>35</td>\n",
       "    </tr>\n",
       "    <tr>\n",
       "      <th>25438</th>\n",
       "      <td>25439</td>\n",
       "      <td>Mary</td>\n",
       "      <td>1891</td>\n",
       "      <td>F</td>\n",
       "      <td>11703</td>\n",
       "    </tr>\n",
       "    <tr>\n",
       "      <th>27229</th>\n",
       "      <td>27230</td>\n",
       "      <td>Mary</td>\n",
       "      <td>1891</td>\n",
       "      <td>M</td>\n",
       "      <td>39</td>\n",
       "    </tr>\n",
       "    <tr>\n",
       "      <th>28098</th>\n",
       "      <td>28099</td>\n",
       "      <td>Mary</td>\n",
       "      <td>1892</td>\n",
       "      <td>F</td>\n",
       "      <td>13173</td>\n",
       "    </tr>\n",
       "    <tr>\n",
       "      <th>30009</th>\n",
       "      <td>30010</td>\n",
       "      <td>Mary</td>\n",
       "      <td>1892</td>\n",
       "      <td>M</td>\n",
       "      <td>50</td>\n",
       "    </tr>\n",
       "    <tr>\n",
       "      <th>31019</th>\n",
       "      <td>31020</td>\n",
       "      <td>Mary</td>\n",
       "      <td>1893</td>\n",
       "      <td>F</td>\n",
       "      <td>12784</td>\n",
       "    </tr>\n",
       "    <tr>\n",
       "      <th>32902</th>\n",
       "      <td>32903</td>\n",
       "      <td>Mary</td>\n",
       "      <td>1893</td>\n",
       "      <td>M</td>\n",
       "      <td>55</td>\n",
       "    </tr>\n",
       "    <tr>\n",
       "      <th>33850</th>\n",
       "      <td>33851</td>\n",
       "      <td>Mary</td>\n",
       "      <td>1894</td>\n",
       "      <td>F</td>\n",
       "      <td>13151</td>\n",
       "    </tr>\n",
       "    <tr>\n",
       "      <th>35802</th>\n",
       "      <td>35803</td>\n",
       "      <td>Mary</td>\n",
       "      <td>1894</td>\n",
       "      <td>M</td>\n",
       "      <td>48</td>\n",
       "    </tr>\n",
       "    <tr>\n",
       "      <th>...</th>\n",
       "      <td>...</td>\n",
       "      <td>...</td>\n",
       "      <td>...</td>\n",
       "      <td>...</td>\n",
       "      <td>...</td>\n",
       "    </tr>\n",
       "    <tr>\n",
       "      <th>1270144</th>\n",
       "      <td>1270145</td>\n",
       "      <td>Mary</td>\n",
       "      <td>1997</td>\n",
       "      <td>M</td>\n",
       "      <td>13</td>\n",
       "    </tr>\n",
       "    <tr>\n",
       "      <th>1276147</th>\n",
       "      <td>1276148</td>\n",
       "      <td>Mary</td>\n",
       "      <td>1998</td>\n",
       "      <td>F</td>\n",
       "      <td>6429</td>\n",
       "    </tr>\n",
       "    <tr>\n",
       "      <th>1297491</th>\n",
       "      <td>1297492</td>\n",
       "      <td>Mary</td>\n",
       "      <td>1998</td>\n",
       "      <td>M</td>\n",
       "      <td>14</td>\n",
       "    </tr>\n",
       "    <tr>\n",
       "      <th>1304038</th>\n",
       "      <td>1304039</td>\n",
       "      <td>Mary</td>\n",
       "      <td>1999</td>\n",
       "      <td>F</td>\n",
       "      <td>6359</td>\n",
       "    </tr>\n",
       "    <tr>\n",
       "      <th>1326835</th>\n",
       "      <td>1326836</td>\n",
       "      <td>Mary</td>\n",
       "      <td>1999</td>\n",
       "      <td>M</td>\n",
       "      <td>11</td>\n",
       "    </tr>\n",
       "    <tr>\n",
       "      <th>1332583</th>\n",
       "      <td>1332584</td>\n",
       "      <td>Mary</td>\n",
       "      <td>2000</td>\n",
       "      <td>F</td>\n",
       "      <td>6182</td>\n",
       "    </tr>\n",
       "    <tr>\n",
       "      <th>1356835</th>\n",
       "      <td>1356836</td>\n",
       "      <td>Mary</td>\n",
       "      <td>2000</td>\n",
       "      <td>M</td>\n",
       "      <td>10</td>\n",
       "    </tr>\n",
       "    <tr>\n",
       "      <th>1362349</th>\n",
       "      <td>1362350</td>\n",
       "      <td>Mary</td>\n",
       "      <td>2001</td>\n",
       "      <td>F</td>\n",
       "      <td>5724</td>\n",
       "    </tr>\n",
       "    <tr>\n",
       "      <th>1385825</th>\n",
       "      <td>1385826</td>\n",
       "      <td>Mary</td>\n",
       "      <td>2001</td>\n",
       "      <td>M</td>\n",
       "      <td>13</td>\n",
       "    </tr>\n",
       "    <tr>\n",
       "      <th>1392612</th>\n",
       "      <td>1392613</td>\n",
       "      <td>Mary</td>\n",
       "      <td>2002</td>\n",
       "      <td>F</td>\n",
       "      <td>5450</td>\n",
       "    </tr>\n",
       "    <tr>\n",
       "      <th>1416583</th>\n",
       "      <td>1416584</td>\n",
       "      <td>Mary</td>\n",
       "      <td>2002</td>\n",
       "      <td>M</td>\n",
       "      <td>12</td>\n",
       "    </tr>\n",
       "    <tr>\n",
       "      <th>1423180</th>\n",
       "      <td>1423181</td>\n",
       "      <td>Mary</td>\n",
       "      <td>2003</td>\n",
       "      <td>F</td>\n",
       "      <td>5009</td>\n",
       "    </tr>\n",
       "    <tr>\n",
       "      <th>1449162</th>\n",
       "      <td>1449163</td>\n",
       "      <td>Mary</td>\n",
       "      <td>2003</td>\n",
       "      <td>M</td>\n",
       "      <td>9</td>\n",
       "    </tr>\n",
       "    <tr>\n",
       "      <th>1454356</th>\n",
       "      <td>1454357</td>\n",
       "      <td>Mary</td>\n",
       "      <td>2004</td>\n",
       "      <td>F</td>\n",
       "      <td>4803</td>\n",
       "    </tr>\n",
       "    <tr>\n",
       "      <th>1476301</th>\n",
       "      <td>1476302</td>\n",
       "      <td>Mary</td>\n",
       "      <td>2004</td>\n",
       "      <td>M</td>\n",
       "      <td>31</td>\n",
       "    </tr>\n",
       "    <tr>\n",
       "      <th>1486401</th>\n",
       "      <td>1486402</td>\n",
       "      <td>Mary</td>\n",
       "      <td>2005</td>\n",
       "      <td>F</td>\n",
       "      <td>4447</td>\n",
       "    </tr>\n",
       "    <tr>\n",
       "      <th>1512972</th>\n",
       "      <td>1512973</td>\n",
       "      <td>Mary</td>\n",
       "      <td>2005</td>\n",
       "      <td>M</td>\n",
       "      <td>10</td>\n",
       "    </tr>\n",
       "    <tr>\n",
       "      <th>1518943</th>\n",
       "      <td>1518944</td>\n",
       "      <td>Mary</td>\n",
       "      <td>2006</td>\n",
       "      <td>F</td>\n",
       "      <td>4081</td>\n",
       "    </tr>\n",
       "    <tr>\n",
       "      <th>1546705</th>\n",
       "      <td>1546706</td>\n",
       "      <td>Mary</td>\n",
       "      <td>2006</td>\n",
       "      <td>M</td>\n",
       "      <td>10</td>\n",
       "    </tr>\n",
       "    <tr>\n",
       "      <th>1553024</th>\n",
       "      <td>1553025</td>\n",
       "      <td>Mary</td>\n",
       "      <td>2007</td>\n",
       "      <td>F</td>\n",
       "      <td>3673</td>\n",
       "    </tr>\n",
       "    <tr>\n",
       "      <th>1581441</th>\n",
       "      <td>1581442</td>\n",
       "      <td>Mary</td>\n",
       "      <td>2007</td>\n",
       "      <td>M</td>\n",
       "      <td>10</td>\n",
       "    </tr>\n",
       "    <tr>\n",
       "      <th>1587958</th>\n",
       "      <td>1587959</td>\n",
       "      <td>Mary</td>\n",
       "      <td>2008</td>\n",
       "      <td>F</td>\n",
       "      <td>3490</td>\n",
       "    </tr>\n",
       "    <tr>\n",
       "      <th>1623009</th>\n",
       "      <td>1623010</td>\n",
       "      <td>Mary</td>\n",
       "      <td>2009</td>\n",
       "      <td>F</td>\n",
       "      <td>3154</td>\n",
       "    </tr>\n",
       "    <tr>\n",
       "      <th>1657700</th>\n",
       "      <td>1657701</td>\n",
       "      <td>Mary</td>\n",
       "      <td>2010</td>\n",
       "      <td>F</td>\n",
       "      <td>2862</td>\n",
       "    </tr>\n",
       "    <tr>\n",
       "      <th>1691744</th>\n",
       "      <td>1691745</td>\n",
       "      <td>Mary</td>\n",
       "      <td>2011</td>\n",
       "      <td>F</td>\n",
       "      <td>2701</td>\n",
       "    </tr>\n",
       "    <tr>\n",
       "      <th>1725622</th>\n",
       "      <td>1725623</td>\n",
       "      <td>Mary</td>\n",
       "      <td>2012</td>\n",
       "      <td>F</td>\n",
       "      <td>2565</td>\n",
       "    </tr>\n",
       "    <tr>\n",
       "      <th>1756675</th>\n",
       "      <td>1756676</td>\n",
       "      <td>Mary</td>\n",
       "      <td>2012</td>\n",
       "      <td>M</td>\n",
       "      <td>6</td>\n",
       "    </tr>\n",
       "    <tr>\n",
       "      <th>1759305</th>\n",
       "      <td>1759306</td>\n",
       "      <td>Mary</td>\n",
       "      <td>2013</td>\n",
       "      <td>F</td>\n",
       "      <td>2632</td>\n",
       "    </tr>\n",
       "    <tr>\n",
       "      <th>1792508</th>\n",
       "      <td>1792509</td>\n",
       "      <td>Mary</td>\n",
       "      <td>2014</td>\n",
       "      <td>F</td>\n",
       "      <td>2611</td>\n",
       "    </tr>\n",
       "    <tr>\n",
       "      <th>1824700</th>\n",
       "      <td>1824701</td>\n",
       "      <td>Mary</td>\n",
       "      <td>2014</td>\n",
       "      <td>M</td>\n",
       "      <td>5</td>\n",
       "    </tr>\n",
       "  </tbody>\n",
       "</table>\n",
       "<p>265 rows × 5 columns</p>\n",
       "</div>"
      ],
      "text/plain": [
       "              Id  Name  Year Gender  Count\n",
       "0              1  Mary  1880      F   7065\n",
       "1273        1274  Mary  1880      M     27\n",
       "2000        2001  Mary  1881      F   6919\n",
       "3238        3239  Mary  1881      M     29\n",
       "3935        3936  Mary  1882      F   8148\n",
       "5277        5278  Mary  1882      M     30\n",
       "6062        6063  Mary  1883      F   8012\n",
       "7407        7408  Mary  1883      M     32\n",
       "8146        8147  Mary  1884      F   9217\n",
       "9610        9611  Mary  1884      M     36\n",
       "10443      10444  Mary  1885      F   9128\n",
       "11910      11911  Mary  1885      M     38\n",
       "12737      12738  Mary  1886      F   9890\n",
       "14323      14324  Mary  1886      M     32\n",
       "15129      15130  Mary  1887      F   9888\n",
       "16671      16672  Mary  1887      M     47\n",
       "17502      17503  Mary  1888      F  11754\n",
       "19223      19224  Mary  1888      M     50\n",
       "20153      20154  Mary  1889      F  11648\n",
       "21893      21894  Mary  1889      M     41\n",
       "22743      22744  Mary  1890      F  12078\n",
       "24569      24570  Mary  1890      M     35\n",
       "25438      25439  Mary  1891      F  11703\n",
       "27229      27230  Mary  1891      M     39\n",
       "28098      28099  Mary  1892      F  13173\n",
       "30009      30010  Mary  1892      M     50\n",
       "31019      31020  Mary  1893      F  12784\n",
       "32902      32903  Mary  1893      M     55\n",
       "33850      33851  Mary  1894      F  13151\n",
       "35802      35803  Mary  1894      M     48\n",
       "...          ...   ...   ...    ...    ...\n",
       "1270144  1270145  Mary  1997      M     13\n",
       "1276147  1276148  Mary  1998      F   6429\n",
       "1297491  1297492  Mary  1998      M     14\n",
       "1304038  1304039  Mary  1999      F   6359\n",
       "1326835  1326836  Mary  1999      M     11\n",
       "1332583  1332584  Mary  2000      F   6182\n",
       "1356835  1356836  Mary  2000      M     10\n",
       "1362349  1362350  Mary  2001      F   5724\n",
       "1385825  1385826  Mary  2001      M     13\n",
       "1392612  1392613  Mary  2002      F   5450\n",
       "1416583  1416584  Mary  2002      M     12\n",
       "1423180  1423181  Mary  2003      F   5009\n",
       "1449162  1449163  Mary  2003      M      9\n",
       "1454356  1454357  Mary  2004      F   4803\n",
       "1476301  1476302  Mary  2004      M     31\n",
       "1486401  1486402  Mary  2005      F   4447\n",
       "1512972  1512973  Mary  2005      M     10\n",
       "1518943  1518944  Mary  2006      F   4081\n",
       "1546705  1546706  Mary  2006      M     10\n",
       "1553024  1553025  Mary  2007      F   3673\n",
       "1581441  1581442  Mary  2007      M     10\n",
       "1587958  1587959  Mary  2008      F   3490\n",
       "1623009  1623010  Mary  2009      F   3154\n",
       "1657700  1657701  Mary  2010      F   2862\n",
       "1691744  1691745  Mary  2011      F   2701\n",
       "1725622  1725623  Mary  2012      F   2565\n",
       "1756675  1756676  Mary  2012      M      6\n",
       "1759305  1759306  Mary  2013      F   2632\n",
       "1792508  1792509  Mary  2014      F   2611\n",
       "1824700  1824701  Mary  2014      M      5\n",
       "\n",
       "[265 rows x 5 columns]"
      ]
     },
     "execution_count": 163,
     "metadata": {},
     "output_type": "execute_result"
    }
   ],
   "source": [
    "mary = names[names.Name == \"Mary\"]\n",
    "mary"
   ]
  },
  {
   "cell_type": "code",
   "execution_count": 164,
   "metadata": {
    "collapsed": false
   },
   "outputs": [
    {
     "data": {
      "text/plain": [
       "4130441"
      ]
     },
     "execution_count": 164,
     "metadata": {},
     "output_type": "execute_result"
    }
   ],
   "source": [
    "mary.Count.sum()"
   ]
  },
  {
   "cell_type": "code",
   "execution_count": 10,
   "metadata": {
    "collapsed": false
   },
   "outputs": [],
   "source": [
    "namegroup = names.groupby(['Name', 'Gender'])['Count'].sum()"
   ]
  },
  {
   "cell_type": "code",
   "execution_count": 17,
   "metadata": {
    "collapsed": false
   },
   "outputs": [
    {
     "data": {
      "text/plain": [
       "Name       Gender\n",
       "Aaban      M          72\n",
       "Aabha      F          21\n",
       "Aabid      M           5\n",
       "Aabriella  F          10\n",
       "Aadam      M         196\n",
       "Name: Count, dtype: int32"
      ]
     },
     "execution_count": 17,
     "metadata": {},
     "output_type": "execute_result"
    }
   ],
   "source": [
    "namegroup.head()"
   ]
  },
  {
   "cell_type": "code",
   "execution_count": 226,
   "metadata": {
    "collapsed": false
   },
   "outputs": [
    {
     "data": {
      "text/plain": [
       "1689"
      ]
     },
     "execution_count": 226,
     "metadata": {},
     "output_type": "execute_result"
    }
   ],
   "source": [
    "namegroup[\"Roger\"][\"F\"]"
   ]
  },
  {
   "cell_type": "code",
   "execution_count": 227,
   "metadata": {
    "collapsed": false
   },
   "outputs": [
    {
     "data": {
      "text/plain": [
       "437870"
      ]
     },
     "execution_count": 227,
     "metadata": {},
     "output_type": "execute_result"
    }
   ],
   "source": [
    "namegroup[\"Roger\"][\"M\"]"
   ]
  },
  {
   "cell_type": "code",
   "execution_count": 206,
   "metadata": {
    "collapsed": false
   },
   "outputs": [
    {
     "data": {
      "text/plain": [
       "0.99615751241585315"
      ]
     },
     "execution_count": 206,
     "metadata": {},
     "output_type": "execute_result"
    }
   ],
   "source": [
    "namegroup[\"Roger\"][\"M\"]/sum(namegroup[\"Roger\"])"
   ]
  },
  {
   "cell_type": "code",
   "execution_count": 207,
   "metadata": {
    "collapsed": false
   },
   "outputs": [
    {
     "data": {
      "text/plain": [
       "0.003842487584146838"
      ]
     },
     "execution_count": 207,
     "metadata": {},
     "output_type": "execute_result"
    }
   ],
   "source": [
    "namegroup[\"Roger\"][\"F\"]/sum(namegroup[\"Roger\"])"
   ]
  },
  {
   "cell_type": "code",
   "execution_count": 254,
   "metadata": {
    "collapsed": false
   },
   "outputs": [],
   "source": [
    "#most important formula here\n",
    "def lookup(x):\n",
    "    str(x)\n",
    "    try:\n",
    "        if namegroup[x][\"M\"]/sum(namegroup[x]) > 0.55:\n",
    "            print (\"It's a male name.\")\n",
    "        else:\n",
    "            print (\"It's a female name.\")\n",
    "    except KeyError:\n",
    "        print(\"That's not a name!\")"
   ]
  },
  {
   "cell_type": "code",
   "execution_count": 257,
   "metadata": {
    "collapsed": false
   },
   "outputs": [
    {
     "name": "stdout",
     "output_type": "stream",
     "text": [
      "That's not a name!\n"
     ]
    }
   ],
   "source": [
    "lookup(\"Ymuhaba\")"
   ]
  },
  {
   "cell_type": "code",
   "execution_count": 240,
   "metadata": {
    "collapsed": false
   },
   "outputs": [
    {
     "data": {
      "text/plain": [
       "Gender\n",
       "F    359\n",
       "M    977\n",
       "Name: Count, dtype: int32"
      ]
     },
     "execution_count": 240,
     "metadata": {},
     "output_type": "execute_result"
    }
   ],
   "source": [
    "namegroup[\"Jin\"]"
   ]
  },
  {
   "cell_type": "code",
   "execution_count": 220,
   "metadata": {
    "collapsed": false
   },
   "outputs": [
    {
     "data": {
      "text/plain": [
       "Gender\n",
       "F      247\n",
       "M    10078\n",
       "Name: Count, dtype: int32"
      ]
     },
     "execution_count": 220,
     "metadata": {},
     "output_type": "execute_result"
    }
   ],
   "source": [
    "namegroup[\"Elmo\"]"
   ]
  },
  {
   "cell_type": "code",
   "execution_count": 235,
   "metadata": {
    "collapsed": false
   },
   "outputs": [
    {
     "data": {
      "text/plain": [
       "pandas.core.series.Series"
      ]
     },
     "execution_count": 235,
     "metadata": {},
     "output_type": "execute_result"
    }
   ],
   "source": [
    "type(namegroup)"
   ]
  },
  {
   "cell_type": "code",
   "execution_count": 11,
   "metadata": {
    "collapsed": false
   },
   "outputs": [
    {
     "data": {
      "text/html": [
       "<div>\n",
       "<table border=\"1\" class=\"dataframe\">\n",
       "  <thead>\n",
       "    <tr style=\"text-align: right;\">\n",
       "      <th></th>\n",
       "      <th></th>\n",
       "      <th>Count</th>\n",
       "    </tr>\n",
       "    <tr>\n",
       "      <th>Name</th>\n",
       "      <th>Gender</th>\n",
       "      <th></th>\n",
       "    </tr>\n",
       "  </thead>\n",
       "  <tbody>\n",
       "    <tr>\n",
       "      <th>Aaban</th>\n",
       "      <th>M</th>\n",
       "      <td>72</td>\n",
       "    </tr>\n",
       "    <tr>\n",
       "      <th>Aabha</th>\n",
       "      <th>F</th>\n",
       "      <td>21</td>\n",
       "    </tr>\n",
       "    <tr>\n",
       "      <th>Aabid</th>\n",
       "      <th>M</th>\n",
       "      <td>5</td>\n",
       "    </tr>\n",
       "    <tr>\n",
       "      <th>Aabriella</th>\n",
       "      <th>F</th>\n",
       "      <td>10</td>\n",
       "    </tr>\n",
       "    <tr>\n",
       "      <th>Aadam</th>\n",
       "      <th>M</th>\n",
       "      <td>196</td>\n",
       "    </tr>\n",
       "  </tbody>\n",
       "</table>\n",
       "</div>"
      ],
      "text/plain": [
       "                  Count\n",
       "Name      Gender       \n",
       "Aaban     M          72\n",
       "Aabha     F          21\n",
       "Aabid     M           5\n",
       "Aabriella F          10\n",
       "Aadam     M         196"
      ]
     },
     "execution_count": 11,
     "metadata": {},
     "output_type": "execute_result"
    }
   ],
   "source": [
    "#STUCK ON CHART\n",
    "#STUCK ON CSV UPLOAD TO FUNCTION\n",
    "#STUCK ON NAIVE BAYES MODEL FOR MISSING NAMES\n",
    "namechart = pd.DataFrame(namegroup)\n",
    "namechart.head()"
   ]
  },
  {
   "cell_type": "code",
   "execution_count": 12,
   "metadata": {
    "collapsed": false
   },
   "outputs": [
    {
     "data": {
      "text/plain": [
       "Index(['Count'], dtype='object')"
      ]
     },
     "execution_count": 12,
     "metadata": {},
     "output_type": "execute_result"
    }
   ],
   "source": [
    "namechart.columns"
   ]
  },
  {
   "cell_type": "code",
   "execution_count": 4,
   "metadata": {
    "collapsed": false
   },
   "outputs": [
    {
     "data": {
      "text/plain": [
       "Index(['Name', 'Gender', 'Count'], dtype='object')"
      ]
     },
     "execution_count": 4,
     "metadata": {},
     "output_type": "execute_result"
    }
   ],
   "source": [
    "namechart = names.groupby(['Name', 'Gender'], as_index = False)['Count'].sum()\n",
    "namechart.columns"
   ]
  },
  {
   "cell_type": "code",
   "execution_count": 14,
   "metadata": {
    "collapsed": false
   },
   "outputs": [
    {
     "data": {
      "text/html": [
       "<div>\n",
       "<table border=\"1\" class=\"dataframe\">\n",
       "  <thead>\n",
       "    <tr style=\"text-align: right;\">\n",
       "      <th></th>\n",
       "      <th>Name</th>\n",
       "      <th>Gender</th>\n",
       "      <th>Count</th>\n",
       "    </tr>\n",
       "  </thead>\n",
       "  <tbody>\n",
       "    <tr>\n",
       "      <th>0</th>\n",
       "      <td>Aaban</td>\n",
       "      <td>M</td>\n",
       "      <td>72</td>\n",
       "    </tr>\n",
       "    <tr>\n",
       "      <th>1</th>\n",
       "      <td>Aabha</td>\n",
       "      <td>F</td>\n",
       "      <td>21</td>\n",
       "    </tr>\n",
       "    <tr>\n",
       "      <th>2</th>\n",
       "      <td>Aabid</td>\n",
       "      <td>M</td>\n",
       "      <td>5</td>\n",
       "    </tr>\n",
       "    <tr>\n",
       "      <th>3</th>\n",
       "      <td>Aabriella</td>\n",
       "      <td>F</td>\n",
       "      <td>10</td>\n",
       "    </tr>\n",
       "    <tr>\n",
       "      <th>4</th>\n",
       "      <td>Aadam</td>\n",
       "      <td>M</td>\n",
       "      <td>196</td>\n",
       "    </tr>\n",
       "  </tbody>\n",
       "</table>\n",
       "</div>"
      ],
      "text/plain": [
       "        Name Gender  Count\n",
       "0      Aaban      M     72\n",
       "1      Aabha      F     21\n",
       "2      Aabid      M      5\n",
       "3  Aabriella      F     10\n",
       "4      Aadam      M    196"
      ]
     },
     "execution_count": 14,
     "metadata": {},
     "output_type": "execute_result"
    }
   ],
   "source": [
    "namechart.head()"
   ]
  },
  {
   "cell_type": "code",
   "execution_count": 5,
   "metadata": {
    "collapsed": false
   },
   "outputs": [
    {
     "data": {
      "text/html": [
       "<div>\n",
       "<table border=\"1\" class=\"dataframe\">\n",
       "  <thead>\n",
       "    <tr style=\"text-align: right;\">\n",
       "      <th>Gender</th>\n",
       "      <th>F</th>\n",
       "      <th>M</th>\n",
       "    </tr>\n",
       "    <tr>\n",
       "      <th>Name</th>\n",
       "      <th></th>\n",
       "      <th></th>\n",
       "    </tr>\n",
       "  </thead>\n",
       "  <tbody>\n",
       "    <tr>\n",
       "      <th>Aaban</th>\n",
       "      <td>NaN</td>\n",
       "      <td>72.0</td>\n",
       "    </tr>\n",
       "    <tr>\n",
       "      <th>Aabha</th>\n",
       "      <td>21.0</td>\n",
       "      <td>NaN</td>\n",
       "    </tr>\n",
       "    <tr>\n",
       "      <th>Aabid</th>\n",
       "      <td>NaN</td>\n",
       "      <td>5.0</td>\n",
       "    </tr>\n",
       "    <tr>\n",
       "      <th>Aabriella</th>\n",
       "      <td>10.0</td>\n",
       "      <td>NaN</td>\n",
       "    </tr>\n",
       "    <tr>\n",
       "      <th>Aadam</th>\n",
       "      <td>NaN</td>\n",
       "      <td>196.0</td>\n",
       "    </tr>\n",
       "  </tbody>\n",
       "</table>\n",
       "</div>"
      ],
      "text/plain": [
       "Gender        F      M\n",
       "Name                  \n",
       "Aaban       NaN   72.0\n",
       "Aabha      21.0    NaN\n",
       "Aabid       NaN    5.0\n",
       "Aabriella  10.0    NaN\n",
       "Aadam       NaN  196.0"
      ]
     },
     "execution_count": 5,
     "metadata": {},
     "output_type": "execute_result"
    }
   ],
   "source": [
    "namechartdiff = namechart.reset_index().pivot('Name', 'Gender', 'Count')\n",
    "namechartdiff.head()"
   ]
  },
  {
   "cell_type": "code",
   "execution_count": 6,
   "metadata": {
    "collapsed": false
   },
   "outputs": [
    {
     "data": {
      "text/plain": [
       "Index(['F', 'M'], dtype='object', name='Gender')"
      ]
     },
     "execution_count": 6,
     "metadata": {},
     "output_type": "execute_result"
    }
   ],
   "source": [
    "namechartdiff.columns"
   ]
  },
  {
   "cell_type": "code",
   "execution_count": 13,
   "metadata": {
    "collapsed": true
   },
   "outputs": [],
   "source": [
    "namechartdiff[\"MMF\"] = (namechartdiff[\"M\"] - namechartdiff[\"F\"])/(namechartdiff[\"M\"] + namechartdiff[\"F\"])"
   ]
  },
  {
   "cell_type": "code",
   "execution_count": 8,
   "metadata": {
    "collapsed": false
   },
   "outputs": [
    {
     "data": {
      "text/html": [
       "<div>\n",
       "<table border=\"1\" class=\"dataframe\">\n",
       "  <thead>\n",
       "    <tr style=\"text-align: right;\">\n",
       "      <th>Gender</th>\n",
       "      <th>F</th>\n",
       "      <th>M</th>\n",
       "      <th>MMF</th>\n",
       "    </tr>\n",
       "    <tr>\n",
       "      <th>Name</th>\n",
       "      <th></th>\n",
       "      <th></th>\n",
       "      <th></th>\n",
       "    </tr>\n",
       "  </thead>\n",
       "  <tbody>\n",
       "    <tr>\n",
       "      <th>Aaban</th>\n",
       "      <td>NaN</td>\n",
       "      <td>72.0</td>\n",
       "      <td>NaN</td>\n",
       "    </tr>\n",
       "    <tr>\n",
       "      <th>Aabha</th>\n",
       "      <td>21.0</td>\n",
       "      <td>NaN</td>\n",
       "      <td>NaN</td>\n",
       "    </tr>\n",
       "    <tr>\n",
       "      <th>Aabid</th>\n",
       "      <td>NaN</td>\n",
       "      <td>5.0</td>\n",
       "      <td>NaN</td>\n",
       "    </tr>\n",
       "    <tr>\n",
       "      <th>Aabriella</th>\n",
       "      <td>10.0</td>\n",
       "      <td>NaN</td>\n",
       "      <td>NaN</td>\n",
       "    </tr>\n",
       "    <tr>\n",
       "      <th>Aadam</th>\n",
       "      <td>NaN</td>\n",
       "      <td>196.0</td>\n",
       "      <td>NaN</td>\n",
       "    </tr>\n",
       "  </tbody>\n",
       "</table>\n",
       "</div>"
      ],
      "text/plain": [
       "Gender        F      M  MMF\n",
       "Name                       \n",
       "Aaban       NaN   72.0  NaN\n",
       "Aabha      21.0    NaN  NaN\n",
       "Aabid       NaN    5.0  NaN\n",
       "Aabriella  10.0    NaN  NaN\n",
       "Aadam       NaN  196.0  NaN"
      ]
     },
     "execution_count": 8,
     "metadata": {},
     "output_type": "execute_result"
    }
   ],
   "source": [
    "namechartdiff.head()"
   ]
  },
  {
   "cell_type": "code",
   "execution_count": null,
   "metadata": {
    "collapsed": false
   },
   "outputs": [],
   "source": [
    "namechartdiff.MMF.plot(kind= \"hist\")"
   ]
  },
  {
   "cell_type": "code",
   "execution_count": 15,
   "metadata": {
    "collapsed": false
   },
   "outputs": [
    {
     "name": "stderr",
     "output_type": "stream",
     "text": [
      "/Users/rogerhuang/downloads/ENTER/lib/python3.5/site-packages/statsmodels/nonparametric/kdetools.py:20: VisibleDeprecationWarning: using a non-integer number instead of an integer will result in an error in the future\n",
      "  y = X[:m/2+1] + np.r_[0,X[m/2+1:],0]*1j\n"
     ]
    },
    {
     "data": {
      "text/plain": [
       "<matplotlib.axes._subplots.AxesSubplot at 0x115e2db70>"
      ]
     },
     "execution_count": 15,
     "metadata": {},
     "output_type": "execute_result"
    },
    {
     "data": {
      "image/png": "[encoded data removed]",
      "text/plain": [
       "<matplotlib.figure.Figure at 0x11623e2b0>"
      ]
     },
     "metadata": {},
     "output_type": "display_data"
    }
   ],
   "source": [
    "sns.kdeplot(namechartdiff.MMF.dropna(), cumulative = True)"
   ]
  },
  {
   "cell_type": "code",
   "execution_count": null,
   "metadata": {
    "collapsed": true
   },
   "outputs": [],
   "source": [
    "sns.kdeplot(namechartdiff.MMF.dropna(), shadow = True)"
   ]
  },
  {
   "cell_type": "code",
   "execution_count": 229,
   "metadata": {
    "collapsed": false
   },
   "outputs": [
    {
     "data": {
      "text/plain": [
       "437870"
      ]
     },
     "execution_count": 229,
     "metadata": {},
     "output_type": "execute_result"
    }
   ],
   "source": [
    "namegroup[\"Roger\"][\"M\"]"
   ]
  },
  {
   "cell_type": "code",
   "execution_count": 7,
   "metadata": {
    "collapsed": false
   },
   "outputs": [
    {
     "data": {
      "text/html": [
       "<div>\n",
       "<table border=\"1\" class=\"dataframe\">\n",
       "  <thead>\n",
       "    <tr style=\"text-align: right;\">\n",
       "      <th></th>\n",
       "      <th></th>\n",
       "      <th>Count</th>\n",
       "    </tr>\n",
       "    <tr>\n",
       "      <th>Name</th>\n",
       "      <th>Gender</th>\n",
       "      <th></th>\n",
       "    </tr>\n",
       "  </thead>\n",
       "  <tbody>\n",
       "    <tr>\n",
       "      <th>Aaban</th>\n",
       "      <th>M</th>\n",
       "      <td>72</td>\n",
       "    </tr>\n",
       "    <tr>\n",
       "      <th>Aabha</th>\n",
       "      <th>F</th>\n",
       "      <td>21</td>\n",
       "    </tr>\n",
       "    <tr>\n",
       "      <th>Aabid</th>\n",
       "      <th>M</th>\n",
       "      <td>5</td>\n",
       "    </tr>\n",
       "    <tr>\n",
       "      <th>Aabriella</th>\n",
       "      <th>F</th>\n",
       "      <td>10</td>\n",
       "    </tr>\n",
       "    <tr>\n",
       "      <th>Aadam</th>\n",
       "      <th>M</th>\n",
       "      <td>196</td>\n",
       "    </tr>\n",
       "    <tr>\n",
       "      <th>Aadan</th>\n",
       "      <th>M</th>\n",
       "      <td>112</td>\n",
       "    </tr>\n",
       "    <tr>\n",
       "      <th>Aadarsh</th>\n",
       "      <th>M</th>\n",
       "      <td>158</td>\n",
       "    </tr>\n",
       "    <tr>\n",
       "      <th rowspan=\"2\" valign=\"top\">Aaden</th>\n",
       "      <th>F</th>\n",
       "      <td>5</td>\n",
       "    </tr>\n",
       "    <tr>\n",
       "      <th>M</th>\n",
       "      <td>3915</td>\n",
       "    </tr>\n",
       "    <tr>\n",
       "      <th>Aadesh</th>\n",
       "      <th>M</th>\n",
       "      <td>15</td>\n",
       "    </tr>\n",
       "    <tr>\n",
       "      <th>Aadhav</th>\n",
       "      <th>M</th>\n",
       "      <td>102</td>\n",
       "    </tr>\n",
       "    <tr>\n",
       "      <th>Aadhavan</th>\n",
       "      <th>M</th>\n",
       "      <td>19</td>\n",
       "    </tr>\n",
       "    <tr>\n",
       "      <th>Aadhi</th>\n",
       "      <th>M</th>\n",
       "      <td>12</td>\n",
       "    </tr>\n",
       "    <tr>\n",
       "      <th>Aadhira</th>\n",
       "      <th>F</th>\n",
       "      <td>29</td>\n",
       "    </tr>\n",
       "    <tr>\n",
       "      <th>Aadhya</th>\n",
       "      <th>F</th>\n",
       "      <td>639</td>\n",
       "    </tr>\n",
       "    <tr>\n",
       "      <th>Aadhyan</th>\n",
       "      <th>M</th>\n",
       "      <td>5</td>\n",
       "    </tr>\n",
       "    <tr>\n",
       "      <th rowspan=\"2\" valign=\"top\">Aadi</th>\n",
       "      <th>F</th>\n",
       "      <td>16</td>\n",
       "    </tr>\n",
       "    <tr>\n",
       "      <th>M</th>\n",
       "      <td>667</td>\n",
       "    </tr>\n",
       "    <tr>\n",
       "      <th>Aadian</th>\n",
       "      <th>M</th>\n",
       "      <td>5</td>\n",
       "    </tr>\n",
       "    <tr>\n",
       "      <th>Aadil</th>\n",
       "      <th>M</th>\n",
       "      <td>297</td>\n",
       "    </tr>\n",
       "    <tr>\n",
       "      <th>Aadin</th>\n",
       "      <th>M</th>\n",
       "      <td>112</td>\n",
       "    </tr>\n",
       "    <tr>\n",
       "      <th>Aadish</th>\n",
       "      <th>M</th>\n",
       "      <td>17</td>\n",
       "    </tr>\n",
       "    <tr>\n",
       "      <th>Aadison</th>\n",
       "      <th>F</th>\n",
       "      <td>11</td>\n",
       "    </tr>\n",
       "    <tr>\n",
       "      <th>Aadit</th>\n",
       "      <th>M</th>\n",
       "      <td>267</td>\n",
       "    </tr>\n",
       "    <tr>\n",
       "      <th>Aadith</th>\n",
       "      <th>M</th>\n",
       "      <td>39</td>\n",
       "    </tr>\n",
       "  </tbody>\n",
       "</table>\n",
       "</div>"
      ],
      "text/plain": [
       "                  Count\n",
       "Name      Gender       \n",
       "Aaban     M          72\n",
       "Aabha     F          21\n",
       "Aabid     M           5\n",
       "Aabriella F          10\n",
       "Aadam     M         196\n",
       "Aadan     M         112\n",
       "Aadarsh   M         158\n",
       "Aaden     F           5\n",
       "          M        3915\n",
       "Aadesh    M          15\n",
       "Aadhav    M         102\n",
       "Aadhavan  M          19\n",
       "Aadhi     M          12\n",
       "Aadhira   F          29\n",
       "Aadhya    F         639\n",
       "Aadhyan   M           5\n",
       "Aadi      F          16\n",
       "          M         667\n",
       "Aadian    M           5\n",
       "Aadil     M         297\n",
       "Aadin     M         112\n",
       "Aadish    M          17\n",
       "Aadison   F          11\n",
       "Aadit     M         267\n",
       "Aadith    M          39"
      ]
     },
     "execution_count": 7,
     "metadata": {},
     "output_type": "execute_result"
    }
   ],
   "source": [
    "#http://stackoverflow.com/questions/11973741/filtering-and-selecting-from-pivot-tables-made-with-python-pandas\n",
    "namestack = pd.pivot_table(names,index =[\"Name\", \"Gender\"], values = [\"Count\"], aggfunc = \"sum\")\n",
    "namestack.head(25)"
   ]
  },
  {
   "cell_type": "code",
   "execution_count": null,
   "metadata": {
    "collapsed": true
   },
   "outputs": [],
   "source": []
  },
  {
   "cell_type": "code",
   "execution_count": 8,
   "metadata": {
    "collapsed": false
   },
   "outputs": [
    {
     "data": {
      "text/html": [
       "<div>\n",
       "<table border=\"1\" class=\"dataframe\">\n",
       "  <thead>\n",
       "    <tr style=\"text-align: right;\">\n",
       "      <th></th>\n",
       "      <th></th>\n",
       "      <th>Count</th>\n",
       "    </tr>\n",
       "    <tr>\n",
       "      <th>Name</th>\n",
       "      <th>Gender</th>\n",
       "      <th></th>\n",
       "    </tr>\n",
       "  </thead>\n",
       "  <tbody>\n",
       "    <tr>\n",
       "      <th>Aaban</th>\n",
       "      <th>M</th>\n",
       "      <td>72</td>\n",
       "    </tr>\n",
       "    <tr>\n",
       "      <th>Aabha</th>\n",
       "      <th>F</th>\n",
       "      <td>21</td>\n",
       "    </tr>\n",
       "    <tr>\n",
       "      <th>Aabid</th>\n",
       "      <th>M</th>\n",
       "      <td>5</td>\n",
       "    </tr>\n",
       "    <tr>\n",
       "      <th>Aabriella</th>\n",
       "      <th>F</th>\n",
       "      <td>10</td>\n",
       "    </tr>\n",
       "    <tr>\n",
       "      <th>Aadam</th>\n",
       "      <th>M</th>\n",
       "      <td>196</td>\n",
       "    </tr>\n",
       "    <tr>\n",
       "      <th>Aadan</th>\n",
       "      <th>M</th>\n",
       "      <td>112</td>\n",
       "    </tr>\n",
       "    <tr>\n",
       "      <th>Aadarsh</th>\n",
       "      <th>M</th>\n",
       "      <td>158</td>\n",
       "    </tr>\n",
       "    <tr>\n",
       "      <th rowspan=\"2\" valign=\"top\">Aaden</th>\n",
       "      <th>F</th>\n",
       "      <td>5</td>\n",
       "    </tr>\n",
       "    <tr>\n",
       "      <th>M</th>\n",
       "      <td>3915</td>\n",
       "    </tr>\n",
       "    <tr>\n",
       "      <th>Aadesh</th>\n",
       "      <th>M</th>\n",
       "      <td>15</td>\n",
       "    </tr>\n",
       "    <tr>\n",
       "      <th>Aadhav</th>\n",
       "      <th>M</th>\n",
       "      <td>102</td>\n",
       "    </tr>\n",
       "    <tr>\n",
       "      <th>Aadhavan</th>\n",
       "      <th>M</th>\n",
       "      <td>19</td>\n",
       "    </tr>\n",
       "    <tr>\n",
       "      <th>Aadhi</th>\n",
       "      <th>M</th>\n",
       "      <td>12</td>\n",
       "    </tr>\n",
       "    <tr>\n",
       "      <th>Aadhira</th>\n",
       "      <th>F</th>\n",
       "      <td>29</td>\n",
       "    </tr>\n",
       "    <tr>\n",
       "      <th>Aadhya</th>\n",
       "      <th>F</th>\n",
       "      <td>639</td>\n",
       "    </tr>\n",
       "    <tr>\n",
       "      <th>Aadhyan</th>\n",
       "      <th>M</th>\n",
       "      <td>5</td>\n",
       "    </tr>\n",
       "    <tr>\n",
       "      <th rowspan=\"2\" valign=\"top\">Aadi</th>\n",
       "      <th>F</th>\n",
       "      <td>16</td>\n",
       "    </tr>\n",
       "    <tr>\n",
       "      <th>M</th>\n",
       "      <td>667</td>\n",
       "    </tr>\n",
       "    <tr>\n",
       "      <th>Aadian</th>\n",
       "      <th>M</th>\n",
       "      <td>5</td>\n",
       "    </tr>\n",
       "    <tr>\n",
       "      <th>Aadil</th>\n",
       "      <th>M</th>\n",
       "      <td>297</td>\n",
       "    </tr>\n",
       "    <tr>\n",
       "      <th>Aadin</th>\n",
       "      <th>M</th>\n",
       "      <td>112</td>\n",
       "    </tr>\n",
       "    <tr>\n",
       "      <th>Aadish</th>\n",
       "      <th>M</th>\n",
       "      <td>17</td>\n",
       "    </tr>\n",
       "    <tr>\n",
       "      <th>Aadison</th>\n",
       "      <th>F</th>\n",
       "      <td>11</td>\n",
       "    </tr>\n",
       "    <tr>\n",
       "      <th>Aadit</th>\n",
       "      <th>M</th>\n",
       "      <td>267</td>\n",
       "    </tr>\n",
       "    <tr>\n",
       "      <th>Aadith</th>\n",
       "      <th>M</th>\n",
       "      <td>39</td>\n",
       "    </tr>\n",
       "    <tr>\n",
       "      <th>Aaditri</th>\n",
       "      <th>F</th>\n",
       "      <td>26</td>\n",
       "    </tr>\n",
       "    <tr>\n",
       "      <th>Aaditya</th>\n",
       "      <th>M</th>\n",
       "      <td>457</td>\n",
       "    </tr>\n",
       "    <tr>\n",
       "      <th>Aadiv</th>\n",
       "      <th>M</th>\n",
       "      <td>11</td>\n",
       "    </tr>\n",
       "    <tr>\n",
       "      <th>Aadon</th>\n",
       "      <th>M</th>\n",
       "      <td>100</td>\n",
       "    </tr>\n",
       "    <tr>\n",
       "      <th>Aadrian</th>\n",
       "      <th>M</th>\n",
       "      <td>5</td>\n",
       "    </tr>\n",
       "    <tr>\n",
       "      <th>...</th>\n",
       "      <th>...</th>\n",
       "      <td>...</td>\n",
       "    </tr>\n",
       "    <tr>\n",
       "      <th>Zyrese</th>\n",
       "      <th>M</th>\n",
       "      <td>5</td>\n",
       "    </tr>\n",
       "    <tr>\n",
       "      <th>Zyrhiana</th>\n",
       "      <th>F</th>\n",
       "      <td>6</td>\n",
       "    </tr>\n",
       "    <tr>\n",
       "      <th>Zyri</th>\n",
       "      <th>F</th>\n",
       "      <td>6</td>\n",
       "    </tr>\n",
       "    <tr>\n",
       "      <th>Zyria</th>\n",
       "      <th>F</th>\n",
       "      <td>339</td>\n",
       "    </tr>\n",
       "    <tr>\n",
       "      <th>Zyriah</th>\n",
       "      <th>F</th>\n",
       "      <td>321</td>\n",
       "    </tr>\n",
       "    <tr>\n",
       "      <th>Zyrian</th>\n",
       "      <th>M</th>\n",
       "      <td>10</td>\n",
       "    </tr>\n",
       "    <tr>\n",
       "      <th>Zyriana</th>\n",
       "      <th>F</th>\n",
       "      <td>24</td>\n",
       "    </tr>\n",
       "    <tr>\n",
       "      <th>Zyrianna</th>\n",
       "      <th>F</th>\n",
       "      <td>41</td>\n",
       "    </tr>\n",
       "    <tr>\n",
       "      <th>Zyrie</th>\n",
       "      <th>F</th>\n",
       "      <td>13</td>\n",
       "    </tr>\n",
       "    <tr>\n",
       "      <th>Zyriel</th>\n",
       "      <th>F</th>\n",
       "      <td>10</td>\n",
       "    </tr>\n",
       "    <tr>\n",
       "      <th>Zyrielle</th>\n",
       "      <th>F</th>\n",
       "      <td>22</td>\n",
       "    </tr>\n",
       "    <tr>\n",
       "      <th>Zyrihanna</th>\n",
       "      <th>F</th>\n",
       "      <td>45</td>\n",
       "    </tr>\n",
       "    <tr>\n",
       "      <th>Zyrin</th>\n",
       "      <th>M</th>\n",
       "      <td>10</td>\n",
       "    </tr>\n",
       "    <tr>\n",
       "      <th>Zyrion</th>\n",
       "      <th>M</th>\n",
       "      <td>84</td>\n",
       "    </tr>\n",
       "    <tr>\n",
       "      <th>Zyriyah</th>\n",
       "      <th>F</th>\n",
       "      <td>11</td>\n",
       "    </tr>\n",
       "    <tr>\n",
       "      <th>Zyron</th>\n",
       "      <th>M</th>\n",
       "      <td>161</td>\n",
       "    </tr>\n",
       "    <tr>\n",
       "      <th>Zyrus</th>\n",
       "      <th>M</th>\n",
       "      <td>51</td>\n",
       "    </tr>\n",
       "    <tr>\n",
       "      <th>Zysean</th>\n",
       "      <th>M</th>\n",
       "      <td>5</td>\n",
       "    </tr>\n",
       "    <tr>\n",
       "      <th>Zyshaun</th>\n",
       "      <th>M</th>\n",
       "      <td>34</td>\n",
       "    </tr>\n",
       "    <tr>\n",
       "      <th>Zyshawn</th>\n",
       "      <th>M</th>\n",
       "      <td>146</td>\n",
       "    </tr>\n",
       "    <tr>\n",
       "      <th>Zyshon</th>\n",
       "      <th>M</th>\n",
       "      <td>19</td>\n",
       "    </tr>\n",
       "    <tr>\n",
       "      <th>Zyshonne</th>\n",
       "      <th>M</th>\n",
       "      <td>101</td>\n",
       "    </tr>\n",
       "    <tr>\n",
       "      <th>Zytaevius</th>\n",
       "      <th>M</th>\n",
       "      <td>5</td>\n",
       "    </tr>\n",
       "    <tr>\n",
       "      <th>Zytaveon</th>\n",
       "      <th>M</th>\n",
       "      <td>15</td>\n",
       "    </tr>\n",
       "    <tr>\n",
       "      <th>Zytavion</th>\n",
       "      <th>M</th>\n",
       "      <td>5</td>\n",
       "    </tr>\n",
       "    <tr>\n",
       "      <th>Zytavious</th>\n",
       "      <th>M</th>\n",
       "      <td>43</td>\n",
       "    </tr>\n",
       "    <tr>\n",
       "      <th>Zyvion</th>\n",
       "      <th>M</th>\n",
       "      <td>5</td>\n",
       "    </tr>\n",
       "    <tr>\n",
       "      <th>Zyyanna</th>\n",
       "      <th>F</th>\n",
       "      <td>6</td>\n",
       "    </tr>\n",
       "    <tr>\n",
       "      <th>Zyyon</th>\n",
       "      <th>M</th>\n",
       "      <td>6</td>\n",
       "    </tr>\n",
       "    <tr>\n",
       "      <th>Zzyzx</th>\n",
       "      <th>M</th>\n",
       "      <td>5</td>\n",
       "    </tr>\n",
       "  </tbody>\n",
       "</table>\n",
       "<p>104110 rows × 1 columns</p>\n",
       "</div>"
      ],
      "text/plain": [
       "                  Count\n",
       "Name      Gender       \n",
       "Aaban     M          72\n",
       "Aabha     F          21\n",
       "Aabid     M           5\n",
       "Aabriella F          10\n",
       "Aadam     M         196\n",
       "Aadan     M         112\n",
       "Aadarsh   M         158\n",
       "Aaden     F           5\n",
       "          M        3915\n",
       "Aadesh    M          15\n",
       "Aadhav    M         102\n",
       "Aadhavan  M          19\n",
       "Aadhi     M          12\n",
       "Aadhira   F          29\n",
       "Aadhya    F         639\n",
       "Aadhyan   M           5\n",
       "Aadi      F          16\n",
       "          M         667\n",
       "Aadian    M           5\n",
       "Aadil     M         297\n",
       "Aadin     M         112\n",
       "Aadish    M          17\n",
       "Aadison   F          11\n",
       "Aadit     M         267\n",
       "Aadith    M          39\n",
       "Aaditri   F          26\n",
       "Aaditya   M         457\n",
       "Aadiv     M          11\n",
       "Aadon     M         100\n",
       "Aadrian   M           5\n",
       "...                 ...\n",
       "Zyrese    M           5\n",
       "Zyrhiana  F           6\n",
       "Zyri      F           6\n",
       "Zyria     F         339\n",
       "Zyriah    F         321\n",
       "Zyrian    M          10\n",
       "Zyriana   F          24\n",
       "Zyrianna  F          41\n",
       "Zyrie     F          13\n",
       "Zyriel    F          10\n",
       "Zyrielle  F          22\n",
       "Zyrihanna F          45\n",
       "Zyrin     M          10\n",
       "Zyrion    M          84\n",
       "Zyriyah   F          11\n",
       "Zyron     M         161\n",
       "Zyrus     M          51\n",
       "Zysean    M           5\n",
       "Zyshaun   M          34\n",
       "Zyshawn   M         146\n",
       "Zyshon    M          19\n",
       "Zyshonne  M         101\n",
       "Zytaevius M           5\n",
       "Zytaveon  M          15\n",
       "Zytavion  M           5\n",
       "Zytavious M          43\n",
       "Zyvion    M           5\n",
       "Zyyanna   F           6\n",
       "Zyyon     M           6\n",
       "Zzyzx     M           5\n",
       "\n",
       "[104110 rows x 1 columns]"
      ]
     },
     "execution_count": 8,
     "metadata": {},
     "output_type": "execute_result"
    }
   ],
   "source": [
    "namestack = namestack.fillna(value = 0)\n",
    "namestack"
   ]
  },
  {
   "cell_type": "code",
   "execution_count": null,
   "metadata": {
    "collapsed": true
   },
   "outputs": [],
   "source": []
  },
  {
   "cell_type": "code",
   "execution_count": 187,
   "metadata": {
    "collapsed": false
   },
   "outputs": [
    {
     "ename": "AttributeError",
     "evalue": "'DataFrame' object has no attribute 'Name'",
     "output_type": "error",
     "traceback": [
      "\u001b[0;31m---------------------------------------------------------------------------\u001b[0m",
      "\u001b[0;31mAttributeError\u001b[0m                            Traceback (most recent call last)",
      "\u001b[0;32m<ipython-input-187-22c46acf9190>\u001b[0m in \u001b[0;36m<module>\u001b[0;34m()\u001b[0m\n\u001b[1;32m      3\u001b[0m \u001b[0;31m#vectorize the name column into grams\u001b[0m\u001b[0;34m\u001b[0m\u001b[0;34m\u001b[0m\u001b[0m\n\u001b[1;32m      4\u001b[0m \u001b[0;31m#set presicion per f/m split\u001b[0m\u001b[0;34m\u001b[0m\u001b[0;34m\u001b[0m\u001b[0m\n\u001b[0;32m----> 5\u001b[0;31m \u001b[0mnamestack\u001b[0m\u001b[0;34m[\u001b[0m\u001b[0mnamestack\u001b[0m\u001b[0;34m.\u001b[0m\u001b[0mName\u001b[0m \u001b[0;34m==\u001b[0m \u001b[0;34m\"Mary\"\u001b[0m\u001b[0;34m]\u001b[0m\u001b[0;34m\u001b[0m\u001b[0m\n\u001b[0m",
      "\u001b[0;32m/Users/rogerhuang/downloads/ENTER/lib/python3.5/site-packages/pandas/core/generic.py\u001b[0m in \u001b[0;36m__getattr__\u001b[0;34m(self, name)\u001b[0m\n\u001b[1;32m   2670\u001b[0m             \u001b[0;32mif\u001b[0m \u001b[0mname\u001b[0m \u001b[0;32min\u001b[0m \u001b[0mself\u001b[0m\u001b[0;34m.\u001b[0m\u001b[0m_info_axis\u001b[0m\u001b[0;34m:\u001b[0m\u001b[0;34m\u001b[0m\u001b[0m\n\u001b[1;32m   2671\u001b[0m                 \u001b[0;32mreturn\u001b[0m \u001b[0mself\u001b[0m\u001b[0;34m[\u001b[0m\u001b[0mname\u001b[0m\u001b[0;34m]\u001b[0m\u001b[0;34m\u001b[0m\u001b[0m\n\u001b[0;32m-> 2672\u001b[0;31m             \u001b[0;32mreturn\u001b[0m \u001b[0mobject\u001b[0m\u001b[0;34m.\u001b[0m\u001b[0m__getattribute__\u001b[0m\u001b[0;34m(\u001b[0m\u001b[0mself\u001b[0m\u001b[0;34m,\u001b[0m \u001b[0mname\u001b[0m\u001b[0;34m)\u001b[0m\u001b[0;34m\u001b[0m\u001b[0m\n\u001b[0m\u001b[1;32m   2673\u001b[0m \u001b[0;34m\u001b[0m\u001b[0m\n\u001b[1;32m   2674\u001b[0m     \u001b[0;32mdef\u001b[0m \u001b[0m__setattr__\u001b[0m\u001b[0;34m(\u001b[0m\u001b[0mself\u001b[0m\u001b[0;34m,\u001b[0m \u001b[0mname\u001b[0m\u001b[0;34m,\u001b[0m \u001b[0mvalue\u001b[0m\u001b[0;34m)\u001b[0m\u001b[0;34m:\u001b[0m\u001b[0;34m\u001b[0m\u001b[0m\n",
      "\u001b[0;31mAttributeError\u001b[0m: 'DataFrame' object has no attribute 'Name'"
     ]
    }
   ],
   "source": [
    "#namestack is the table I want to process, but there are problems getting the columns to work\n",
    "#to split test and train sets with letter transitions for test/train -- vectorizer n-character grams construct a table based on 3-gram or 4-gram character transitions, shingle lists\n",
    "#vectorize the name column into grams\n",
    "#set presicion per f/m split\n",
    "namestack[namestack.Name == \"Mary\"]"
   ]
  },
  {
   "cell_type": "code",
   "execution_count": 188,
   "metadata": {
    "collapsed": false
   },
   "outputs": [
    {
     "data": {
      "text/html": [
       "<div>\n",
       "<table border=\"1\" class=\"dataframe\">\n",
       "  <thead>\n",
       "    <tr style=\"text-align: right;\">\n",
       "      <th></th>\n",
       "      <th></th>\n",
       "      <th>Count</th>\n",
       "    </tr>\n",
       "    <tr>\n",
       "      <th>Name</th>\n",
       "      <th>Gender</th>\n",
       "      <th></th>\n",
       "    </tr>\n",
       "  </thead>\n",
       "  <tbody>\n",
       "  </tbody>\n",
       "</table>\n",
       "</div>"
      ],
      "text/plain": [
       "Empty DataFrame\n",
       "Columns: [Count]\n",
       "Index: []"
      ]
     },
     "execution_count": 188,
     "metadata": {},
     "output_type": "execute_result"
    }
   ],
   "source": [
    "namestack[namestack.index == \"John\"]"
   ]
  },
  {
   "cell_type": "code",
   "execution_count": 189,
   "metadata": {
    "collapsed": false
   },
   "outputs": [
    {
     "data": {
      "text/html": [
       "<div>\n",
       "<table border=\"1\" class=\"dataframe\">\n",
       "  <thead>\n",
       "    <tr style=\"text-align: right;\">\n",
       "      <th></th>\n",
       "      <th></th>\n",
       "      <th>Count</th>\n",
       "    </tr>\n",
       "    <tr>\n",
       "      <th>Name</th>\n",
       "      <th>Gender</th>\n",
       "      <th></th>\n",
       "    </tr>\n",
       "  </thead>\n",
       "  <tbody>\n",
       "    <tr>\n",
       "      <th>Zyrian</th>\n",
       "      <th>M</th>\n",
       "      <td>10</td>\n",
       "    </tr>\n",
       "    <tr>\n",
       "      <th>Zyriana</th>\n",
       "      <th>F</th>\n",
       "      <td>24</td>\n",
       "    </tr>\n",
       "    <tr>\n",
       "      <th>Zyrianna</th>\n",
       "      <th>F</th>\n",
       "      <td>41</td>\n",
       "    </tr>\n",
       "    <tr>\n",
       "      <th>Zyrie</th>\n",
       "      <th>F</th>\n",
       "      <td>13</td>\n",
       "    </tr>\n",
       "    <tr>\n",
       "      <th>Zyriel</th>\n",
       "      <th>F</th>\n",
       "      <td>10</td>\n",
       "    </tr>\n",
       "    <tr>\n",
       "      <th>Zyrielle</th>\n",
       "      <th>F</th>\n",
       "      <td>22</td>\n",
       "    </tr>\n",
       "    <tr>\n",
       "      <th>Zyrihanna</th>\n",
       "      <th>F</th>\n",
       "      <td>45</td>\n",
       "    </tr>\n",
       "    <tr>\n",
       "      <th>Zyrin</th>\n",
       "      <th>M</th>\n",
       "      <td>10</td>\n",
       "    </tr>\n",
       "    <tr>\n",
       "      <th>Zyrion</th>\n",
       "      <th>M</th>\n",
       "      <td>84</td>\n",
       "    </tr>\n",
       "    <tr>\n",
       "      <th>Zyriyah</th>\n",
       "      <th>F</th>\n",
       "      <td>11</td>\n",
       "    </tr>\n",
       "    <tr>\n",
       "      <th>Zyron</th>\n",
       "      <th>M</th>\n",
       "      <td>161</td>\n",
       "    </tr>\n",
       "    <tr>\n",
       "      <th>Zyrus</th>\n",
       "      <th>M</th>\n",
       "      <td>51</td>\n",
       "    </tr>\n",
       "    <tr>\n",
       "      <th>Zysean</th>\n",
       "      <th>M</th>\n",
       "      <td>5</td>\n",
       "    </tr>\n",
       "    <tr>\n",
       "      <th>Zyshaun</th>\n",
       "      <th>M</th>\n",
       "      <td>34</td>\n",
       "    </tr>\n",
       "    <tr>\n",
       "      <th>Zyshawn</th>\n",
       "      <th>M</th>\n",
       "      <td>146</td>\n",
       "    </tr>\n",
       "    <tr>\n",
       "      <th>Zyshon</th>\n",
       "      <th>M</th>\n",
       "      <td>19</td>\n",
       "    </tr>\n",
       "    <tr>\n",
       "      <th>Zyshonne</th>\n",
       "      <th>M</th>\n",
       "      <td>101</td>\n",
       "    </tr>\n",
       "    <tr>\n",
       "      <th>Zytaevius</th>\n",
       "      <th>M</th>\n",
       "      <td>5</td>\n",
       "    </tr>\n",
       "    <tr>\n",
       "      <th>Zytaveon</th>\n",
       "      <th>M</th>\n",
       "      <td>15</td>\n",
       "    </tr>\n",
       "    <tr>\n",
       "      <th>Zytavion</th>\n",
       "      <th>M</th>\n",
       "      <td>5</td>\n",
       "    </tr>\n",
       "    <tr>\n",
       "      <th>Zytavious</th>\n",
       "      <th>M</th>\n",
       "      <td>43</td>\n",
       "    </tr>\n",
       "    <tr>\n",
       "      <th>Zyvion</th>\n",
       "      <th>M</th>\n",
       "      <td>5</td>\n",
       "    </tr>\n",
       "    <tr>\n",
       "      <th>Zyyanna</th>\n",
       "      <th>F</th>\n",
       "      <td>6</td>\n",
       "    </tr>\n",
       "    <tr>\n",
       "      <th>Zyyon</th>\n",
       "      <th>M</th>\n",
       "      <td>6</td>\n",
       "    </tr>\n",
       "    <tr>\n",
       "      <th>Zzyzx</th>\n",
       "      <th>M</th>\n",
       "      <td>5</td>\n",
       "    </tr>\n",
       "  </tbody>\n",
       "</table>\n",
       "</div>"
      ],
      "text/plain": [
       "                  Count\n",
       "Name      Gender       \n",
       "Zyrian    M          10\n",
       "Zyriana   F          24\n",
       "Zyrianna  F          41\n",
       "Zyrie     F          13\n",
       "Zyriel    F          10\n",
       "Zyrielle  F          22\n",
       "Zyrihanna F          45\n",
       "Zyrin     M          10\n",
       "Zyrion    M          84\n",
       "Zyriyah   F          11\n",
       "Zyron     M         161\n",
       "Zyrus     M          51\n",
       "Zysean    M           5\n",
       "Zyshaun   M          34\n",
       "Zyshawn   M         146\n",
       "Zyshon    M          19\n",
       "Zyshonne  M         101\n",
       "Zytaevius M           5\n",
       "Zytaveon  M          15\n",
       "Zytavion  M           5\n",
       "Zytavious M          43\n",
       "Zyvion    M           5\n",
       "Zyyanna   F           6\n",
       "Zyyon     M           6\n",
       "Zzyzx     M           5"
      ]
     },
     "execution_count": 189,
     "metadata": {},
     "output_type": "execute_result"
    }
   ],
   "source": [
    "namestack.tail(25)"
   ]
  },
  {
   "cell_type": "code",
   "execution_count": 1,
   "metadata": {
    "collapsed": false
   },
   "outputs": [
    {
     "ename": "NameError",
     "evalue": "name 'namestack' is not defined",
     "output_type": "error",
     "traceback": [
      "\u001b[0;31m---------------------------------------------------------------------------\u001b[0m",
      "\u001b[0;31mNameError\u001b[0m                                 Traceback (most recent call last)",
      "\u001b[0;32m<ipython-input-1-532e985aae10>\u001b[0m in \u001b[0;36m<module>\u001b[0;34m()\u001b[0m\n\u001b[0;32m----> 1\u001b[0;31m \u001b[0mnamestack\u001b[0m\u001b[0;34m.\u001b[0m\u001b[0mcolumns\u001b[0m\u001b[0;34m\u001b[0m\u001b[0m\n\u001b[0m",
      "\u001b[0;31mNameError\u001b[0m: name 'namestack' is not defined"
     ]
    }
   ],
   "source": [
    "namestack.columns"
   ]
  },
  {
   "cell_type": "code",
   "execution_count": 198,
   "metadata": {
    "collapsed": false
   },
   "outputs": [
    {
     "data": {
      "text/html": [
       "<div>\n",
       "<table border=\"1\" class=\"dataframe\">\n",
       "  <thead>\n",
       "    <tr style=\"text-align: right;\">\n",
       "      <th></th>\n",
       "      <th></th>\n",
       "      <th>Count</th>\n",
       "    </tr>\n",
       "    <tr>\n",
       "      <th>Name</th>\n",
       "      <th>Gender</th>\n",
       "      <th></th>\n",
       "    </tr>\n",
       "  </thead>\n",
       "  <tbody>\n",
       "    <tr>\n",
       "      <th rowspan=\"2\" valign=\"top\">Roger</th>\n",
       "      <th>F</th>\n",
       "      <td>1689</td>\n",
       "    </tr>\n",
       "    <tr>\n",
       "      <th>M</th>\n",
       "      <td>437870</td>\n",
       "    </tr>\n",
       "  </tbody>\n",
       "</table>\n",
       "</div>"
      ],
      "text/plain": [
       "               Count\n",
       "Name  Gender        \n",
       "Roger F         1689\n",
       "      M       437870"
      ]
     },
     "execution_count": 198,
     "metadata": {},
     "output_type": "execute_result"
    }
   ],
   "source": [
    "namestack.query('Name == [\"Roger\"]')"
   ]
  },
  {
   "cell_type": "code",
   "execution_count": 10,
   "metadata": {
    "collapsed": false
   },
   "outputs": [
    {
     "data": {
      "text/html": [
       "<div>\n",
       "<table border=\"1\" class=\"dataframe\">\n",
       "  <thead>\n",
       "    <tr style=\"text-align: right;\">\n",
       "      <th></th>\n",
       "      <th>Id</th>\n",
       "      <th>Name</th>\n",
       "      <th>Year</th>\n",
       "      <th>Gender</th>\n",
       "      <th>Count</th>\n",
       "    </tr>\n",
       "  </thead>\n",
       "  <tbody>\n",
       "    <tr>\n",
       "      <th>1792389</th>\n",
       "      <td>1792390</td>\n",
       "      <td>Emma</td>\n",
       "      <td>2014</td>\n",
       "      <td>F</td>\n",
       "      <td>20799</td>\n",
       "    </tr>\n",
       "    <tr>\n",
       "      <th>1792390</th>\n",
       "      <td>1792391</td>\n",
       "      <td>Olivia</td>\n",
       "      <td>2014</td>\n",
       "      <td>F</td>\n",
       "      <td>19674</td>\n",
       "    </tr>\n",
       "    <tr>\n",
       "      <th>1792391</th>\n",
       "      <td>1792392</td>\n",
       "      <td>Sophia</td>\n",
       "      <td>2014</td>\n",
       "      <td>F</td>\n",
       "      <td>18490</td>\n",
       "    </tr>\n",
       "    <tr>\n",
       "      <th>1792392</th>\n",
       "      <td>1792393</td>\n",
       "      <td>Isabella</td>\n",
       "      <td>2014</td>\n",
       "      <td>F</td>\n",
       "      <td>16950</td>\n",
       "    </tr>\n",
       "    <tr>\n",
       "      <th>1792393</th>\n",
       "      <td>1792394</td>\n",
       "      <td>Ava</td>\n",
       "      <td>2014</td>\n",
       "      <td>F</td>\n",
       "      <td>15586</td>\n",
       "    </tr>\n",
       "    <tr>\n",
       "      <th>1792394</th>\n",
       "      <td>1792395</td>\n",
       "      <td>Mia</td>\n",
       "      <td>2014</td>\n",
       "      <td>F</td>\n",
       "      <td>13442</td>\n",
       "    </tr>\n",
       "    <tr>\n",
       "      <th>1792395</th>\n",
       "      <td>1792396</td>\n",
       "      <td>Emily</td>\n",
       "      <td>2014</td>\n",
       "      <td>F</td>\n",
       "      <td>12562</td>\n",
       "    </tr>\n",
       "    <tr>\n",
       "      <th>1792396</th>\n",
       "      <td>1792397</td>\n",
       "      <td>Abigail</td>\n",
       "      <td>2014</td>\n",
       "      <td>F</td>\n",
       "      <td>11985</td>\n",
       "    </tr>\n",
       "    <tr>\n",
       "      <th>1792397</th>\n",
       "      <td>1792398</td>\n",
       "      <td>Madison</td>\n",
       "      <td>2014</td>\n",
       "      <td>F</td>\n",
       "      <td>10247</td>\n",
       "    </tr>\n",
       "    <tr>\n",
       "      <th>1792398</th>\n",
       "      <td>1792399</td>\n",
       "      <td>Charlotte</td>\n",
       "      <td>2014</td>\n",
       "      <td>F</td>\n",
       "      <td>10048</td>\n",
       "    </tr>\n",
       "    <tr>\n",
       "      <th>1792399</th>\n",
       "      <td>1792400</td>\n",
       "      <td>Harper</td>\n",
       "      <td>2014</td>\n",
       "      <td>F</td>\n",
       "      <td>9564</td>\n",
       "    </tr>\n",
       "    <tr>\n",
       "      <th>1792400</th>\n",
       "      <td>1792401</td>\n",
       "      <td>Sofia</td>\n",
       "      <td>2014</td>\n",
       "      <td>F</td>\n",
       "      <td>9542</td>\n",
       "    </tr>\n",
       "    <tr>\n",
       "      <th>1792401</th>\n",
       "      <td>1792402</td>\n",
       "      <td>Avery</td>\n",
       "      <td>2014</td>\n",
       "      <td>F</td>\n",
       "      <td>9517</td>\n",
       "    </tr>\n",
       "    <tr>\n",
       "      <th>1792402</th>\n",
       "      <td>1792403</td>\n",
       "      <td>Elizabeth</td>\n",
       "      <td>2014</td>\n",
       "      <td>F</td>\n",
       "      <td>9492</td>\n",
       "    </tr>\n",
       "    <tr>\n",
       "      <th>1792403</th>\n",
       "      <td>1792404</td>\n",
       "      <td>Amelia</td>\n",
       "      <td>2014</td>\n",
       "      <td>F</td>\n",
       "      <td>8727</td>\n",
       "    </tr>\n",
       "    <tr>\n",
       "      <th>1792404</th>\n",
       "      <td>1792405</td>\n",
       "      <td>Evelyn</td>\n",
       "      <td>2014</td>\n",
       "      <td>F</td>\n",
       "      <td>8692</td>\n",
       "    </tr>\n",
       "    <tr>\n",
       "      <th>1792405</th>\n",
       "      <td>1792406</td>\n",
       "      <td>Ella</td>\n",
       "      <td>2014</td>\n",
       "      <td>F</td>\n",
       "      <td>8489</td>\n",
       "    </tr>\n",
       "    <tr>\n",
       "      <th>1792406</th>\n",
       "      <td>1792407</td>\n",
       "      <td>Chloe</td>\n",
       "      <td>2014</td>\n",
       "      <td>F</td>\n",
       "      <td>8469</td>\n",
       "    </tr>\n",
       "    <tr>\n",
       "      <th>1792407</th>\n",
       "      <td>1792408</td>\n",
       "      <td>Victoria</td>\n",
       "      <td>2014</td>\n",
       "      <td>F</td>\n",
       "      <td>7955</td>\n",
       "    </tr>\n",
       "    <tr>\n",
       "      <th>1792408</th>\n",
       "      <td>1792409</td>\n",
       "      <td>Aubrey</td>\n",
       "      <td>2014</td>\n",
       "      <td>F</td>\n",
       "      <td>7589</td>\n",
       "    </tr>\n",
       "  </tbody>\n",
       "</table>\n",
       "</div>"
      ],
      "text/plain": [
       "              Id       Name  Year Gender  Count\n",
       "1792389  1792390       Emma  2014      F  20799\n",
       "1792390  1792391     Olivia  2014      F  19674\n",
       "1792391  1792392     Sophia  2014      F  18490\n",
       "1792392  1792393   Isabella  2014      F  16950\n",
       "1792393  1792394        Ava  2014      F  15586\n",
       "1792394  1792395        Mia  2014      F  13442\n",
       "1792395  1792396      Emily  2014      F  12562\n",
       "1792396  1792397    Abigail  2014      F  11985\n",
       "1792397  1792398    Madison  2014      F  10247\n",
       "1792398  1792399  Charlotte  2014      F  10048\n",
       "1792399  1792400     Harper  2014      F   9564\n",
       "1792400  1792401      Sofia  2014      F   9542\n",
       "1792401  1792402      Avery  2014      F   9517\n",
       "1792402  1792403  Elizabeth  2014      F   9492\n",
       "1792403  1792404     Amelia  2014      F   8727\n",
       "1792404  1792405     Evelyn  2014      F   8692\n",
       "1792405  1792406       Ella  2014      F   8489\n",
       "1792406  1792407      Chloe  2014      F   8469\n",
       "1792407  1792408   Victoria  2014      F   7955\n",
       "1792408  1792409     Aubrey  2014      F   7589"
      ]
     },
     "execution_count": 10,
     "metadata": {},
     "output_type": "execute_result"
    }
   ],
   "source": [
    "now = names[names.Year == 2014]\n",
    "now.head(20)\n",
    "#groupby and do gender count by name : Name, Gender, Count\n",
    "#using data from all of the years could be useful ex: edge cases like winfred\n",
    "#consider adding UK name set\n",
    "#consider looking into pivottable : http://pandas.pydata.org/pandas-docs/stable/reshaping.html\n",
    "\n",
    "#binary classification can be used for names in the table\n",
    "#Naive Bayes model can be built on character traits and character transitions to define a name not in the table \n",
    "#go through coursereport and take 500 names\n",
    "\n",
    "#Action items for next week\n",
    "#1 - Clean up the dataframe here, do a first pass for the gender classifier\n",
    "#2 - Draft more on the story of the project\n",
    "#3 - Use requests and BS4 and get at least 300-500 names from CourseReport"
   ]
  },
  {
   "cell_type": "code",
   "execution_count": 12,
   "metadata": {
    "collapsed": false
   },
   "outputs": [
    {
     "data": {
      "text/html": [
       "<div>\n",
       "<table border=\"1\" class=\"dataframe\">\n",
       "  <thead>\n",
       "    <tr style=\"text-align: right;\">\n",
       "      <th></th>\n",
       "      <th>Id</th>\n",
       "      <th>Name</th>\n",
       "      <th>Year</th>\n",
       "      <th>Gender</th>\n",
       "      <th>Count</th>\n",
       "    </tr>\n",
       "  </thead>\n",
       "  <tbody>\n",
       "    <tr>\n",
       "      <th>1811456</th>\n",
       "      <td>1811457</td>\n",
       "      <td>Noah</td>\n",
       "      <td>2014</td>\n",
       "      <td>M</td>\n",
       "      <td>19144</td>\n",
       "    </tr>\n",
       "    <tr>\n",
       "      <th>1811457</th>\n",
       "      <td>1811458</td>\n",
       "      <td>Liam</td>\n",
       "      <td>2014</td>\n",
       "      <td>M</td>\n",
       "      <td>18342</td>\n",
       "    </tr>\n",
       "    <tr>\n",
       "      <th>1811458</th>\n",
       "      <td>1811459</td>\n",
       "      <td>Mason</td>\n",
       "      <td>2014</td>\n",
       "      <td>M</td>\n",
       "      <td>17092</td>\n",
       "    </tr>\n",
       "  </tbody>\n",
       "</table>\n",
       "</div>"
      ],
      "text/plain": [
       "              Id   Name  Year Gender  Count\n",
       "1811456  1811457   Noah  2014      M  19144\n",
       "1811457  1811458   Liam  2014      M  18342\n",
       "1811458  1811459  Mason  2014      M  17092"
      ]
     },
     "execution_count": 12,
     "metadata": {},
     "output_type": "execute_result"
    }
   ],
   "source": [
    "nowmale = now[now.Gender == \"M\"]\n",
    "nowmale.head(3)"
   ]
  },
  {
   "cell_type": "code",
   "execution_count": 13,
   "metadata": {
    "collapsed": false
   },
   "outputs": [
    {
     "data": {
      "text/html": [
       "<div>\n",
       "<table border=\"1\" class=\"dataframe\">\n",
       "  <thead>\n",
       "    <tr style=\"text-align: right;\">\n",
       "      <th></th>\n",
       "      <th>Id</th>\n",
       "      <th>Name</th>\n",
       "      <th>Year</th>\n",
       "      <th>Gender</th>\n",
       "      <th>Count</th>\n",
       "    </tr>\n",
       "  </thead>\n",
       "  <tbody>\n",
       "    <tr>\n",
       "      <th>1792389</th>\n",
       "      <td>1792390</td>\n",
       "      <td>Emma</td>\n",
       "      <td>2014</td>\n",
       "      <td>F</td>\n",
       "      <td>20799</td>\n",
       "    </tr>\n",
       "    <tr>\n",
       "      <th>1818165</th>\n",
       "      <td>1818166</td>\n",
       "      <td>Emma</td>\n",
       "      <td>2014</td>\n",
       "      <td>M</td>\n",
       "      <td>12</td>\n",
       "    </tr>\n",
       "  </tbody>\n",
       "</table>\n",
       "</div>"
      ],
      "text/plain": [
       "              Id  Name  Year Gender  Count\n",
       "1792389  1792390  Emma  2014      F  20799\n",
       "1818165  1818166  Emma  2014      M     12"
      ]
     },
     "execution_count": 13,
     "metadata": {},
     "output_type": "execute_result"
    }
   ],
   "source": [
    "nowemma = now[now.Name == \"Emma\"]\n",
    "nowemma.head(3)"
   ]
  },
  {
   "cell_type": "code",
   "execution_count": 13,
   "metadata": {
    "collapsed": false
   },
   "outputs": [
    {
     "data": {
      "text/html": [
       "<div>\n",
       "<table border=\"1\" class=\"dataframe\">\n",
       "  <thead>\n",
       "    <tr style=\"text-align: right;\">\n",
       "      <th></th>\n",
       "      <th>Id</th>\n",
       "      <th>Name</th>\n",
       "      <th>Year</th>\n",
       "      <th>Gender</th>\n",
       "      <th>Count</th>\n",
       "    </tr>\n",
       "  </thead>\n",
       "  <tbody>\n",
       "    <tr>\n",
       "      <th>412324</th>\n",
       "      <td>412325</td>\n",
       "      <td>Mary</td>\n",
       "      <td>1945</td>\n",
       "      <td>F</td>\n",
       "      <td>59284</td>\n",
       "    </tr>\n",
       "    <tr>\n",
       "      <th>412325</th>\n",
       "      <td>412326</td>\n",
       "      <td>Linda</td>\n",
       "      <td>1945</td>\n",
       "      <td>F</td>\n",
       "      <td>41465</td>\n",
       "    </tr>\n",
       "    <tr>\n",
       "      <th>412326</th>\n",
       "      <td>412327</td>\n",
       "      <td>Barbara</td>\n",
       "      <td>1945</td>\n",
       "      <td>F</td>\n",
       "      <td>38272</td>\n",
       "    </tr>\n",
       "    <tr>\n",
       "      <th>412327</th>\n",
       "      <td>412328</td>\n",
       "      <td>Patricia</td>\n",
       "      <td>1945</td>\n",
       "      <td>F</td>\n",
       "      <td>35841</td>\n",
       "    </tr>\n",
       "    <tr>\n",
       "      <th>412328</th>\n",
       "      <td>412329</td>\n",
       "      <td>Carol</td>\n",
       "      <td>1945</td>\n",
       "      <td>F</td>\n",
       "      <td>30387</td>\n",
       "    </tr>\n",
       "    <tr>\n",
       "      <th>412329</th>\n",
       "      <td>412330</td>\n",
       "      <td>Sandra</td>\n",
       "      <td>1945</td>\n",
       "      <td>F</td>\n",
       "      <td>24700</td>\n",
       "    </tr>\n",
       "    <tr>\n",
       "      <th>412330</th>\n",
       "      <td>412331</td>\n",
       "      <td>Nancy</td>\n",
       "      <td>1945</td>\n",
       "      <td>F</td>\n",
       "      <td>21454</td>\n",
       "    </tr>\n",
       "    <tr>\n",
       "      <th>412331</th>\n",
       "      <td>412332</td>\n",
       "      <td>Sharon</td>\n",
       "      <td>1945</td>\n",
       "      <td>F</td>\n",
       "      <td>20832</td>\n",
       "    </tr>\n",
       "    <tr>\n",
       "      <th>412332</th>\n",
       "      <td>412333</td>\n",
       "      <td>Judith</td>\n",
       "      <td>1945</td>\n",
       "      <td>F</td>\n",
       "      <td>20187</td>\n",
       "    </tr>\n",
       "    <tr>\n",
       "      <th>412333</th>\n",
       "      <td>412334</td>\n",
       "      <td>Susan</td>\n",
       "      <td>1945</td>\n",
       "      <td>F</td>\n",
       "      <td>19223</td>\n",
       "    </tr>\n",
       "  </tbody>\n",
       "</table>\n",
       "</div>"
      ],
      "text/plain": [
       "            Id      Name  Year Gender  Count\n",
       "412324  412325      Mary  1945      F  59284\n",
       "412325  412326     Linda  1945      F  41465\n",
       "412326  412327   Barbara  1945      F  38272\n",
       "412327  412328  Patricia  1945      F  35841\n",
       "412328  412329     Carol  1945      F  30387\n",
       "412329  412330    Sandra  1945      F  24700\n",
       "412330  412331     Nancy  1945      F  21454\n",
       "412331  412332    Sharon  1945      F  20832\n",
       "412332  412333    Judith  1945      F  20187\n",
       "412333  412334     Susan  1945      F  19223"
      ]
     },
     "execution_count": 13,
     "metadata": {},
     "output_type": "execute_result"
    }
   ],
   "source": [
    "fortyfive = names[names.Year == 1945]\n",
    "fortyfive.head(10)"
   ]
  },
  {
   "cell_type": "code",
   "execution_count": 14,
   "metadata": {
    "collapsed": false
   },
   "outputs": [
    {
     "data": {
      "text/html": [
       "<div>\n",
       "<table border=\"1\" class=\"dataframe\">\n",
       "  <thead>\n",
       "    <tr style=\"text-align: right;\">\n",
       "      <th></th>\n",
       "      <th>Id</th>\n",
       "      <th>Name</th>\n",
       "      <th>Year</th>\n",
       "      <th>Gender</th>\n",
       "      <th>Count</th>\n",
       "    </tr>\n",
       "  </thead>\n",
       "  <tbody>\n",
       "    <tr>\n",
       "      <th>417567</th>\n",
       "      <td>417568</td>\n",
       "      <td>James</td>\n",
       "      <td>1945</td>\n",
       "      <td>M</td>\n",
       "      <td>74450</td>\n",
       "    </tr>\n",
       "    <tr>\n",
       "      <th>417568</th>\n",
       "      <td>417569</td>\n",
       "      <td>Robert</td>\n",
       "      <td>1945</td>\n",
       "      <td>M</td>\n",
       "      <td>69926</td>\n",
       "    </tr>\n",
       "    <tr>\n",
       "      <th>417569</th>\n",
       "      <td>417570</td>\n",
       "      <td>John</td>\n",
       "      <td>1945</td>\n",
       "      <td>M</td>\n",
       "      <td>66123</td>\n",
       "    </tr>\n",
       "    <tr>\n",
       "      <th>417570</th>\n",
       "      <td>417571</td>\n",
       "      <td>William</td>\n",
       "      <td>1945</td>\n",
       "      <td>M</td>\n",
       "      <td>50209</td>\n",
       "    </tr>\n",
       "    <tr>\n",
       "      <th>417571</th>\n",
       "      <td>417572</td>\n",
       "      <td>Richard</td>\n",
       "      <td>1945</td>\n",
       "      <td>M</td>\n",
       "      <td>46045</td>\n",
       "    </tr>\n",
       "  </tbody>\n",
       "</table>\n",
       "</div>"
      ],
      "text/plain": [
       "            Id     Name  Year Gender  Count\n",
       "417567  417568    James  1945      M  74450\n",
       "417568  417569   Robert  1945      M  69926\n",
       "417569  417570     John  1945      M  66123\n",
       "417570  417571  William  1945      M  50209\n",
       "417571  417572  Richard  1945      M  46045"
      ]
     },
     "execution_count": 14,
     "metadata": {},
     "output_type": "execute_result"
    }
   ],
   "source": [
    "fortyfivemen = fortyfive[fortyfive.Gender == \"M\"]\n",
    "fortyfivemen.head(5)"
   ]
  },
  {
   "cell_type": "code",
   "execution_count": 15,
   "metadata": {
    "collapsed": false
   },
   "outputs": [
    {
     "data": {
      "text/html": [
       "<div>\n",
       "<table border=\"1\" class=\"dataframe\">\n",
       "  <thead>\n",
       "    <tr style=\"text-align: right;\">\n",
       "      <th></th>\n",
       "      <th>Id</th>\n",
       "      <th>Name</th>\n",
       "      <th>Year</th>\n",
       "      <th>Gender</th>\n",
       "      <th>Count</th>\n",
       "    </tr>\n",
       "  </thead>\n",
       "  <tbody>\n",
       "    <tr>\n",
       "      <th>421344</th>\n",
       "      <td>421345</td>\n",
       "      <td>Ysmael</td>\n",
       "      <td>1945</td>\n",
       "      <td>M</td>\n",
       "      <td>5</td>\n",
       "    </tr>\n",
       "    <tr>\n",
       "      <th>421345</th>\n",
       "      <td>421346</td>\n",
       "      <td>Zacarias</td>\n",
       "      <td>1945</td>\n",
       "      <td>M</td>\n",
       "      <td>5</td>\n",
       "    </tr>\n",
       "    <tr>\n",
       "      <th>421346</th>\n",
       "      <td>421347</td>\n",
       "      <td>Zach</td>\n",
       "      <td>1945</td>\n",
       "      <td>M</td>\n",
       "      <td>5</td>\n",
       "    </tr>\n",
       "    <tr>\n",
       "      <th>421347</th>\n",
       "      <td>421348</td>\n",
       "      <td>Zachariah</td>\n",
       "      <td>1945</td>\n",
       "      <td>M</td>\n",
       "      <td>5</td>\n",
       "    </tr>\n",
       "    <tr>\n",
       "      <th>421348</th>\n",
       "      <td>421349</td>\n",
       "      <td>Zenon</td>\n",
       "      <td>1945</td>\n",
       "      <td>M</td>\n",
       "      <td>5</td>\n",
       "    </tr>\n",
       "  </tbody>\n",
       "</table>\n",
       "</div>"
      ],
      "text/plain": [
       "            Id       Name  Year Gender  Count\n",
       "421344  421345     Ysmael  1945      M      5\n",
       "421345  421346   Zacarias  1945      M      5\n",
       "421346  421347       Zach  1945      M      5\n",
       "421347  421348  Zachariah  1945      M      5\n",
       "421348  421349      Zenon  1945      M      5"
      ]
     },
     "execution_count": 15,
     "metadata": {},
     "output_type": "execute_result"
    }
   ],
   "source": [
    "fortyfivemen.tail(5)"
   ]
  },
  {
   "cell_type": "markdown",
   "metadata": {
    "collapsed": true
   },
   "source": [
    "## Importing names from Course Report"
   ]
  },
  {
   "cell_type": "code",
   "execution_count": 63,
   "metadata": {
    "collapsed": false
   },
   "outputs": [],
   "source": [
    "#1 how do I automate this across different pages? Different workshops, different pages\n",
    "#create base string and loop\n",
    "review = requests.get(\"https://www.coursereport.com/schools/galvanize?page=1#/reviews\")\n",
    "r = BeautifulSoup(review.text, \"lxml\")\n",
    "first_name = r.find_all('div', {'class': 'reviewer-details'})"
   ]
  },
  {
   "cell_type": "code",
   "execution_count": 64,
   "metadata": {
    "collapsed": false
   },
   "outputs": [
    {
     "name": "stdout",
     "output_type": "stream",
     "text": [
      "[<div class=\"reviewer-details\"><span class=\"reviewer-name\">Anonymous</span><span> • Developer Evangelist </span><span></span><span class=\"hidden-xs\"> •  Course: Web Development </span><span class=\"hidden-xs\"> •  Campus: Boulder </span></div>, <div class=\"reviewer-details\"><span class=\"reviewer-name\">kt </span><span> • Front-End Engineer  </span><span> • Graduate </span><span class=\"hidden-xs\"> •  Course: Web Development </span><span class=\"hidden-xs\"> •  Campus: San Francisco </span></div>, <div class=\"reviewer-details\"><span class=\"reviewer-name\">Anonymous</span><span></span><span> • Graduate </span><span class=\"hidden-xs\"> •  Course: Galvanize Data Science </span><span class=\"hidden-xs\"> •  Campus: San Francisco </span></div>, <div class=\"reviewer-details\"><span class=\"reviewer-name\">Anonymous</span><span></span><span> • Graduate </span><span class=\"hidden-xs\"> •  Course: Galvanize Data Science </span><span class=\"hidden-xs\"> •  Campus: San Francisco </span></div>, <div class=\"reviewer-details\"><span class=\"reviewer-name\">Steve </span><span> • IoT Node.js Developer </span><span> • Graduate </span><span class=\"hidden-xs\"> •  Course: Web Development </span><span class=\"hidden-xs\"> •  Campus: San Francisco </span></div>, <div class=\"reviewer-details\"><span class=\"reviewer-name\">Anna VM </span><span> • Data Scientist </span><span></span><span class=\"hidden-xs\"> •  Course: Galvanize Data Science </span><span class=\"hidden-xs\"> •  Campus: San Francisco </span></div>, <div class=\"reviewer-details\"><span class=\"reviewer-name\">Jennifer Dunne </span><span></span><span> • Graduate </span><span class=\"hidden-xs\"> •  Course: Galvanize Data Science </span><span class=\"hidden-xs\"> •  Campus: Denver </span></div>, <div class=\"reviewer-details\"><span class=\"reviewer-name\">Josh Cantor </span><span></span><span> • Graduate </span><span class=\"hidden-xs\"></span><span class=\"hidden-xs\"></span></div>, <div class=\"reviewer-details\"><span class=\"reviewer-name\">Anonymous</span><span> • Data Scientist </span><span> • Graduate </span><span class=\"hidden-xs\"> •  Course: Galvanize Data Science </span><span class=\"hidden-xs\"> •  Campus: San Francisco </span></div>, <div class=\"reviewer-details\"><span class=\"reviewer-name\">Gerard Cote </span><span> • Associate Software Engineer, Oracle Data Cloud </span><span> • Graduate </span><span class=\"hidden-xs\"> •  Course: Web Development </span><span class=\"hidden-xs\"> •  Campus: Boulder </span></div>, <div class=\"reviewer-details\"><span class=\"reviewer-name\">Anonymous</span><span></span><span></span><span class=\"hidden-xs\"> •  Course: Web Development </span><span class=\"hidden-xs\"> •  Campus: Boulder </span></div>, <div class=\"reviewer-details\"><span class=\"reviewer-name\">Anonymous</span><span> • Data Scientist </span><span> • Graduate </span><span class=\"hidden-xs\"> •  Course: Galvanize Data Science </span><span class=\"hidden-xs\"> •  Campus: Seattle </span></div>, <div class=\"reviewer-details\"><span class=\"reviewer-name\">Alex Braun </span><span> • Computer Vision Scientist </span><span> • Graduate </span><span class=\"hidden-xs\"> •  Course: Galvanize Data Science </span><span class=\"hidden-xs\"> •  Campus: San Francisco </span></div>, <div class=\"reviewer-details\"><span class=\"reviewer-name\">Anonymous</span><span> • Front End Developer </span><span> • Student </span><span class=\"hidden-xs\"> •  Course: Web Development </span><span class=\"hidden-xs\"> •  Campus: San Francisco </span></div>, <div class=\"reviewer-details\"><span class=\"reviewer-name\">Elana Kopelevich </span><span> • Web Development Resident </span><span> • Graduate </span><span class=\"hidden-xs\"> •  Course: Web Development </span><span class=\"hidden-xs\"> •  Campus: Denver </span></div>, <div class=\"reviewer-details\"><span class=\"reviewer-name\">Anonymous</span><span></span><span> • Graduate </span><span class=\"hidden-xs\"> •  Course: Galvanize Data Science </span><span class=\"hidden-xs\"> •  Campus: San Francisco </span></div>, <div class=\"reviewer-details\"><span class=\"reviewer-name\">Anonymous</span><span> • data scientist </span><span></span><span class=\"hidden-xs\"> •  Course: Galvanize Data Science </span><span class=\"hidden-xs\"> •  Campus: Seattle </span></div>, <div class=\"reviewer-details\"><span class=\"reviewer-name\">Colin </span><span> • Data Scientist </span><span> • Graduate </span><span class=\"hidden-xs\"> •  Course: Galvanize Data Science </span><span class=\"hidden-xs\"> •  Campus: Seattle </span></div>, <div class=\"reviewer-details\"><span class=\"reviewer-name\">Anonymous</span><span> • Data Scientist </span><span> • Graduate </span><span class=\"hidden-xs\"> •  Course: Galvanize Data Science </span><span class=\"hidden-xs\"> •  Campus: Seattle </span></div>, <div class=\"reviewer-details\"><span class=\"reviewer-name\">Eric Hullander </span><span> • Data Scientist </span><span> • Graduate </span><span class=\"hidden-xs\"> •  Course: Galvanize Data Science </span><span class=\"hidden-xs\"> •  Campus: Seattle </span></div>, <div class=\"reviewer-details\"><span class=\"reviewer-name\">Anonymous</span><span> • Data Scientist </span><span> • Graduate </span><span class=\"hidden-xs\"> •  Course: Galvanize Data Science </span><span class=\"hidden-xs\"> •  Campus: San Francisco </span></div>, <div class=\"reviewer-details\"><span class=\"reviewer-name\">Japneet Singh </span><span> • Data Scientist </span><span> • Graduate </span><span class=\"hidden-xs\"> •  Course: Galvanize Data Science </span><span class=\"hidden-xs\"> •  Campus: San Francisco </span></div>, <div class=\"reviewer-details\"><span class=\"reviewer-name\">J </span><span> • Software Engineer </span><span></span><span class=\"hidden-xs\"> •  Course: Web Development </span><span class=\"hidden-xs\"> •  Campus: Boulder </span></div>, <div class=\"reviewer-details\"><span class=\"reviewer-name\">Anonymous</span><span> • Software Engineer  </span><span> • Student </span><span class=\"hidden-xs\"> •  Course: Web Development </span><span class=\"hidden-xs\"> •  Campus: San Francisco </span></div>, <div class=\"reviewer-details\"><span class=\"reviewer-name\">Anonymous</span><span> • Developer </span><span> • Graduate </span><span class=\"hidden-xs\"></span><span class=\"hidden-xs\"> •  Campus: Denver </span></div>]\n"
     ]
    }
   ],
   "source": [
    "print(first_name)"
   ]
  },
  {
   "cell_type": "code",
   "execution_count": 46,
   "metadata": {
    "collapsed": false
   },
   "outputs": [
    {
     "name": "stdout",
     "output_type": "stream",
     "text": [
      "Anonymous\n",
      "kt \n",
      "Anonymous\n",
      "Anonymous\n",
      "Steve \n",
      "Anna VM \n",
      "Jennifer Dunne \n",
      "Josh Cantor \n",
      "Anonymous\n",
      "Gerard Cote \n",
      "Anonymous\n",
      "Anonymous\n",
      "Alex Braun \n",
      "Anonymous\n",
      "Elana Kopelevich \n",
      "Anonymous\n",
      "Anonymous\n",
      "Colin \n",
      "Anonymous\n",
      "Eric Hullander \n",
      "Anonymous\n",
      "Japneet Singh \n",
      "J \n",
      "Anonymous\n",
      "Anonymous\n"
     ]
    }
   ],
   "source": [
    "spans = r.find_all('span', attrs={'class':'reviewer-name'})\n",
    "for span in spans:\n",
    "    print (span.string)"
   ]
  },
  {
   "cell_type": "code",
   "execution_count": 51,
   "metadata": {
    "collapsed": false
   },
   "outputs": [
    {
     "name": "stdout",
     "output_type": "stream",
     "text": [
      "kt \n",
      "Steve \n",
      "Anna VM \n",
      "Jennifer Dunne \n",
      "Josh Cantor \n",
      "Gerard Cote \n",
      "Alex Braun \n",
      "Elana Kopelevich \n",
      "Colin \n",
      "Eric Hullander \n",
      "Japneet Singh \n",
      "J \n"
     ]
    }
   ],
   "source": [
    "cleanspans = []\n",
    "for span in spans:\n",
    "    if span.string != \"Anonymous\":\n",
    "        cleanspans.append(span)\n",
    "        print (span.string)\n"
   ]
  },
  {
   "cell_type": "code",
   "execution_count": 151,
   "metadata": {
    "collapsed": false
   },
   "outputs": [],
   "source": [
    "byte = []\n",
    "def get_data(url):\n",
    "    response = requests.get(url)\n",
    "    if response.status_code == 200:\n",
    "        data = BeautifulSoup(response.text, \"lxml\")\n",
    "        spans = data.find_all('span', attrs={'class':'reviewer-name'})\n",
    "        for span in spans:\n",
    "            if span.string != \"Anonymous\":\n",
    "                byte.append(span.string)\n",
    "    else:\n",
    "        return(response.text)\n",
    "        return(response.status_code)"
   ]
  },
  {
   "cell_type": "code",
   "execution_count": 128,
   "metadata": {
    "collapsed": true
   },
   "outputs": [],
   "source": [
    "page_url = 1\n",
    "for i in range(5): # 5 pages of 20 results each\n",
    "    base_url = \"https://www.coursereport.com/schools/galvanize?page=\"   \n",
    "    url = base_url + str(page_url) + \"#/reviews\"\n",
    "    data = get_data(url)\n",
    "    page_url += 1"
   ]
  },
  {
   "cell_type": "code",
   "execution_count": 126,
   "metadata": {
    "collapsed": false
   },
   "outputs": [
    {
     "name": "stdout",
     "output_type": "stream",
     "text": [
      "kt \n"
     ]
    }
   ],
   "source": [
    "print(data)"
   ]
  },
  {
   "cell_type": "code",
   "execution_count": 118,
   "metadata": {
    "collapsed": false
   },
   "outputs": [],
   "source": [
    "base_url = \"https://www.coursereport.com/schools/galvanize?page=\"   \n",
    "url = base_url + str(2) + \"#/reviews\"\n",
    "get_data(url)"
   ]
  },
  {
   "cell_type": "code",
   "execution_count": 120,
   "metadata": {
    "collapsed": true
   },
   "outputs": [],
   "source": [
    "get_data(\"https://www.coursereport.com/schools/galvanize?page=2#/reviews\")"
   ]
  },
  {
   "cell_type": "code",
   "execution_count": 129,
   "metadata": {
    "collapsed": false
   },
   "outputs": [
    {
     "name": "stdout",
     "output_type": "stream",
     "text": [
      "['kt ', 'Steve ', 'Anna VM ', 'Jennifer Dunne ', 'Josh Cantor ', 'Gerard Cote ', 'Alex Braun ', 'Elana Kopelevich ', 'Colin ', 'Eric Hullander ', 'Japneet Singh ', 'J ', 'M ', 'Moses Marsh ', 'Frank ', 'Derik Linch ', 'Tim Hou ', 'Matthew Bird ', 'Anonymous ', 'Robert Hajek ', 'Anonymous ', 'Roberto Ortega ', 'Anonymous ', 'Taylor ', 'Anonymous ', 'Scott Cronin ', 'Anonymous ', 'Anonymous ', 'Jeffrey Roach ', 'Anonymous ', 'Zubair Desai ', 'Lorien S. ', 'Tony Nguyen ', 'Mike ', 'Anonymous ', 'Anonymous ', 'Cameron ', 'Layne ']\n"
     ]
    }
   ],
   "source": [
    "print(cleanspans)"
   ]
  },
  {
   "cell_type": "code",
   "execution_count": 135,
   "metadata": {
    "collapsed": true
   },
   "outputs": [],
   "source": [
    "galvanize = set(cleanspans)"
   ]
  },
  {
   "cell_type": "code",
   "execution_count": 136,
   "metadata": {
    "collapsed": false
   },
   "outputs": [
    {
     "name": "stdout",
     "output_type": "stream",
     "text": [
      "{'Josh Cantor ', 'Layne ', 'Taylor ', 'Jennifer Dunne ', 'Colin ', 'J ', 'Gerard Cote ', 'Moses Marsh ', 'Lorien S. ', 'Cameron ', 'Matthew Bird ', 'Derik Linch ', 'Robert Hajek ', 'Elana Kopelevich ', 'Japneet Singh ', 'Scott Cronin ', 'Anonymous ', 'Alex Braun ', 'Zubair Desai ', 'Mike ', 'Roberto Ortega ', 'Jeffrey Roach ', 'Tim Hou ', 'Tony Nguyen ', 'Anna VM ', 'kt ', 'Eric Hullander ', 'Steve ', 'M ', 'Frank '}\n"
     ]
    }
   ],
   "source": [
    "print(galvanize)"
   ]
  },
  {
   "cell_type": "code",
   "execution_count": 137,
   "metadata": {
    "collapsed": false
   },
   "outputs": [
    {
     "data": {
      "text/plain": [
       "30"
      ]
     },
     "execution_count": 137,
     "metadata": {},
     "output_type": "execute_result"
    }
   ],
   "source": [
    "len(galvanize)"
   ]
  },
  {
   "cell_type": "code",
   "execution_count": 142,
   "metadata": {
    "collapsed": true
   },
   "outputs": [],
   "source": [
    "page_url = 1\n",
    "for i in range(5): # 5 pages of 20 results each\n",
    "    base_url = \"https://www.coursereport.com/schools/nyc-data-science-academy?page=\"   \n",
    "    url = base_url + str(page_url) + \"#/reviews\"\n",
    "    data = get_data(url)\n",
    "    page_url += 1"
   ]
  },
  {
   "cell_type": "code",
   "execution_count": 143,
   "metadata": {
    "collapsed": false
   },
   "outputs": [
    {
     "name": "stdout",
     "output_type": "stream",
     "text": [
      "['Jurgen de Jager ', 'Arda Kosar ', 'Tingyan Zheng ', 'Bin Lin ', 'Melita ', 'Tatiana Sorokina ', 'Robert Castellano ', 'Jiaqi L ', 'Iris Huang ', 'Ho Fai Wong ', 'Kelly ', 'Denis Nguyen ', 'Yuka ', 'Adam Cone ', 'Wendy ', 'David Steinmetz ', 'Anonymous ', 'Anonymous ', 'Christopher Redino ', 'Sricharan Maddineni ', 'Joseph Lee ', 'Korrigan ', 'Fangzhou ', 'John ', 'Anonymous ', 'Sebastian Nordgren ', 'Jake ', 'David Comfort ', 'Nate Aiken ', 'JF Darre ', 'Shin Chin ', 'Dani ', 'Jason ', 'Pokman ', 'Punam ', 'Sam ', 'Liz ', 'Bret Fontecchio ', 'Anonymous ', 'Anonymous ', 'anonymous ', 'Anonymous ']\n"
     ]
    }
   ],
   "source": [
    "print(nyc)"
   ]
  },
  {
   "cell_type": "code",
   "execution_count": 144,
   "metadata": {
    "collapsed": false
   },
   "outputs": [
    {
     "name": "stdout",
     "output_type": "stream",
     "text": [
      "{'Sebastian Nordgren ', 'Jiaqi L ', 'Ho Fai Wong ', 'Adam Cone ', 'Liz ', 'Bin Lin ', 'Punam ', 'Korrigan ', 'Melita ', 'Denis Nguyen ', 'Sam ', 'Wendy ', 'Arda Kosar ', 'Jurgen de Jager ', 'Nate Aiken ', 'Kelly ', 'Anonymous ', 'Bret Fontecchio ', 'Shin Chin ', 'Fangzhou ', 'Jake ', 'Tingyan Zheng ', 'Dani ', 'Robert Castellano ', 'Tatiana Sorokina ', 'Sricharan Maddineni ', 'Jason ', 'Joseph Lee ', 'David Comfort ', 'Iris Huang ', 'Yuka ', 'JF Darre ', 'Pokman ', 'anonymous ', 'John ', 'David Steinmetz ', 'Christopher Redino '}\n"
     ]
    }
   ],
   "source": [
    "nyc = set(nyc)\n",
    "print(nyc)"
   ]
  },
  {
   "cell_type": "code",
   "execution_count": 145,
   "metadata": {
    "collapsed": false
   },
   "outputs": [
    {
     "data": {
      "text/plain": [
       "37"
      ]
     },
     "execution_count": 145,
     "metadata": {},
     "output_type": "execute_result"
    }
   ],
   "source": [
    "len(nyc)"
   ]
  },
  {
   "cell_type": "code",
   "execution_count": 147,
   "metadata": {
    "collapsed": true
   },
   "outputs": [],
   "source": [
    "page_url = 1\n",
    "for i in range(5): # 5 pages of 20 results each\n",
    "    base_url = \"https://www.coursereport.com/schools/metis?page=\"   \n",
    "    url = base_url + str(page_url) + \"#/reviews\"\n",
    "    data = get_data(url)\n",
    "    page_url += 1"
   ]
  },
  {
   "cell_type": "code",
   "execution_count": 148,
   "metadata": {
    "collapsed": false
   },
   "outputs": [
    {
     "name": "stdout",
     "output_type": "stream",
     "text": [
      "['Max Melnick ', 'Emmanuele Salvati ', 'Brian Kim ', 'Anonymous ', 'Anonymous ', 'Anonymous ', 'Revanth Reddy Garlapati ', 'Anonymous ', 'Anonymous ']\n"
     ]
    }
   ],
   "source": [
    "print(metis)"
   ]
  },
  {
   "cell_type": "code",
   "execution_count": 149,
   "metadata": {
    "collapsed": false
   },
   "outputs": [
    {
     "name": "stdout",
     "output_type": "stream",
     "text": [
      "{'Brian Kim ', 'Emmanuele Salvati ', 'Anonymous ', 'Revanth Reddy Garlapati ', 'Max Melnick '}\n"
     ]
    }
   ],
   "source": [
    "metis = set(metis)\n",
    "print(metis)"
   ]
  },
  {
   "cell_type": "code",
   "execution_count": 150,
   "metadata": {
    "collapsed": false
   },
   "outputs": [
    {
     "data": {
      "text/plain": [
       "5"
      ]
     },
     "execution_count": 150,
     "metadata": {},
     "output_type": "execute_result"
    }
   ],
   "source": [
    "len(metis)"
   ]
  },
  {
   "cell_type": "code",
   "execution_count": 152,
   "metadata": {
    "collapsed": true
   },
   "outputs": [],
   "source": [
    "page_url = 1\n",
    "for i in range(5): # 5 pages of 20 results each\n",
    "    base_url = \"https://www.coursereport.com/schools/byte-academy?page=\"   \n",
    "    url = base_url + str(page_url) + \"#/reviews\"\n",
    "    data = get_data(url)\n",
    "    page_url += 1"
   ]
  },
  {
   "cell_type": "code",
   "execution_count": 153,
   "metadata": {
    "collapsed": false
   },
   "outputs": [
    {
     "name": "stdout",
     "output_type": "stream",
     "text": [
      "['Ben ', 'Matt ', 'Nat Greenwald ', 'Rod ', 'Dan ', 'Sulekha ', 'Anonymous ', 'Anonymous ', 'Anonymous ', 'Shehryar Khan ', 'Anonymous ', 'Cody ', 'Graduate ', 'Josh ', 'Anonymous ', 'Anonymous ', 'Anonymous ', 'Yulia ', 'Benjamin Mukasa ', 'Anonymous ', 'Anthony ', 'Adam J ', 'Anonymous ', 'Jesse ', 'Anonymous ', 'Anonymous ', 'Anonymous ', 'William mantly ', 'Anthony Keating ', 'Anonymous ']\n"
     ]
    }
   ],
   "source": [
    "print(byte)"
   ]
  },
  {
   "cell_type": "code",
   "execution_count": 154,
   "metadata": {
    "collapsed": false
   },
   "outputs": [
    {
     "name": "stdout",
     "output_type": "stream",
     "text": [
      "{'Sulekha ', 'Dan ', 'Josh ', 'Benjamin Mukasa ', 'William mantly ', 'Ben ', 'Cody ', 'Anthony Keating ', 'Shehryar Khan ', 'Matt ', 'Anthony ', 'Nat Greenwald ', 'Graduate ', 'Adam J ', 'Yulia ', 'Anonymous ', 'Rod ', 'Jesse '}\n"
     ]
    }
   ],
   "source": [
    "byte = set(byte)\n",
    "print(byte)"
   ]
  },
  {
   "cell_type": "code",
   "execution_count": 155,
   "metadata": {
    "collapsed": false
   },
   "outputs": [
    {
     "data": {
      "text/plain": [
       "18"
      ]
     },
     "execution_count": 155,
     "metadata": {},
     "output_type": "execute_result"
    }
   ],
   "source": [
    "len(byte)"
   ]
  },
  {
   "cell_type": "code",
   "execution_count": null,
   "metadata": {
    "collapsed": true
   },
   "outputs": [],
   "source": []
  }
 ],
 "metadata": {
  "anaconda-cloud": {},
  "kernelspec": {
   "display_name": "Python [Root]",
   "language": "python",
   "name": "Python [Root]"
  },
  "language_info": {
   "codemirror_mode": {
    "name": "ipython",
    "version": 3
   },
   "file_extension": ".py",
   "mimetype": "text/x-python",
   "name": "python",
   "nbconvert_exporter": "python",
   "pygments_lexer": "ipython3",
   "version": "3.5.2"
  }
 },
 "nbformat": 4,
 "nbformat_minor": 0
}
